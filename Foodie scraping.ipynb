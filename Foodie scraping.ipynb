{
 "cells": [
  {
   "cell_type": "code",
   "execution_count": 1,
   "id": "cdaef602",
   "metadata": {},
   "outputs": [],
   "source": [
    "import requests\n",
    "from bs4 import BeautifulSoup as bs\n",
    "import pandas as pd"
   ]
  },
  {
   "cell_type": "code",
   "execution_count": 3,
   "id": "6733a55c",
   "metadata": {},
   "outputs": [],
   "source": [
    "def get_html(site):\n",
    "\n",
    "    req = requests.get(site)\n",
    "    rt = req.text\n",
    "    global soup\n",
    "    soup = bs(rt,'html.parser')\n",
    "    print(soup.prettify())\n",
    "    return soup"
   ]
  },
  {
   "cell_type": "code",
   "execution_count": 5,
   "id": "51280cf8",
   "metadata": {},
   "outputs": [],
   "source": [
    "#https://www.yelp.com/search?find_desc=ramen&find_loc=Philadelphia%2C+PA\n",
    "\n",
    "food_type = 'italian'\n",
    "find_loc = 'Newark' #if city has two words then find_loc = 1st word+2nd word ie Jersey+City\n",
    "state = 'NJ'\n",
    "\n",
    "page = f'https://www.yelp.com/search?find_desc={food_type}&find_loc={find_loc}%2C+{state}'"
   ]
  },
  {
   "cell_type": "code",
   "execution_count": 25,
   "id": "25e07917-006e-4ae5-8f58-e998c1be4529",
   "metadata": {},
   "outputs": [
    {
     "name": "stdout",
     "output_type": "stream",
     "text": [
      "https://www.yelp.com/search?find_desc=italian&find_loc=Newark%2C+NJ\n"
     ]
    }
   ],
   "source": [
    "print(page)"
   ]
  },
  {
   "cell_type": "code",
   "execution_count": 33,
   "id": "17a3faf4",
   "metadata": {},
   "outputs": [
    {
     "name": "stdout",
     "output_type": "stream",
     "text": [
      "<html lang=\"en\">\n",
      " <head>\n",
      "  <title>\n",
      "   yelp.com\n",
      "  </title>\n",
      "  <style>\n",
      "   #cmsg{animation: A 1.5s;}@keyframes A{0%{opacity:0;}99%{opacity:0;}100%{opacity:1;}}\n",
      "  </style>\n",
      " </head>\n",
      " <body style=\"margin:0\">\n",
      "  <p id=\"cmsg\">\n",
      "   Please enable JS and disable any ad blocker\n",
      "  </p>\n",
      "  <script data-cfasync=\"false\">\n",
      "   var dd={'rt':'c','cid':'AHrlqAAAAAMAQ8Hxkt3_J5IAYPIy6w==','hsh':'3BD2468BAE4D73BEA0B5DE8314D745','t':'bv','qp':'','s':46977,'e':'7b1cce4e9dd5ed0632cad698c52ff0a000df5cbd901709a90e27cf9b12e88f7f','host':'geo.captcha-delivery.com','cookie':'fbwwfHapfFyQFjJlXN3zdqUsJFDdWFgZ2sG0dzDgWPnzxoHOpUDBSsq5uQThQ2C0VQF~34F~M9Dl4FdAnOwfSS100T6rIefFR7S3z6MTlaVf1_0acbNwZcRzj2yF5ZCl'}\n",
      "  </script>\n",
      "  <script data-cfasync=\"false\" src=\"https://ct.captcha-delivery.com/c.js\">\n",
      "  </script>\n",
      " </body>\n",
      "</html>\n",
      "\n"
     ]
    }
   ],
   "source": [
    "soup = get_html(page)\n",
    "\n",
    "#commented this out since the html is massive!"
   ]
  },
  {
   "cell_type": "code",
   "execution_count": 35,
   "id": "08d6b116-b512-4953-ae5b-7ec1b3eb414f",
   "metadata": {},
   "outputs": [],
   "source": [
    "a = soup.find_all('a',class_ = \"css-19v1rkv\")\n",
    "   \n",
    "food = []\n",
    "for i in a[3:]:\n",
    "    food.append(i.text)"
   ]
  },
  {
   "cell_type": "code",
   "execution_count": 37,
   "id": "bb3a1a20-346e-46cd-8f20-f2c69ee37088",
   "metadata": {},
   "outputs": [
    {
     "data": {
      "text/plain": [
       "[]"
      ]
     },
     "execution_count": 37,
     "metadata": {},
     "output_type": "execute_result"
    }
   ],
   "source": [
    "a"
   ]
  },
  {
   "cell_type": "code",
   "execution_count": 15,
   "id": "ce162672",
   "metadata": {},
   "outputs": [],
   "source": [
    "def restaurant(soup):\n",
    "    a = soup.find_all('a',class_ = \"css-19v1rkv\")\n",
    "   \n",
    "    food = []\n",
    "    for i in a[3:]:\n",
    "        food.append(i.text)\n",
    "    return food "
   ]
  },
  {
   "cell_type": "code",
   "execution_count": 17,
   "id": "09efd38b",
   "metadata": {},
   "outputs": [
    {
     "data": {
      "text/plain": [
       "[]"
      ]
     },
     "execution_count": 17,
     "metadata": {},
     "output_type": "execute_result"
    }
   ],
   "source": [
    "res_name = restaurant(soup)\n",
    "res_name"
   ]
  },
  {
   "cell_type": "code",
   "execution_count": 18,
   "id": "dbcc1592",
   "metadata": {},
   "outputs": [],
   "source": [
    "def ratings(soup):\n",
    "    \n",
    "    b= soup.find_all('div',class_=\"five-stars__09f24__mBKym five-stars--regular__09f24__DgBNj css-1jq1ouh\")\n",
    "    global reviews\n",
    "    reviews = []\n",
    "\n",
    "    for i in b:\n",
    "        reviews.append(i[\"aria-label\"])\n",
    "\n",
    "    return reviews"
   ]
  },
  {
   "cell_type": "code",
   "execution_count": 19,
   "id": "13d4186f",
   "metadata": {},
   "outputs": [
    {
     "data": {
      "text/plain": [
       "['4.5 star rating',\n",
       " '4.6 star rating',\n",
       " '4.6 star rating',\n",
       " '3.8 star rating',\n",
       " '4.6 star rating',\n",
       " '4.5 star rating',\n",
       " '4 star rating',\n",
       " '4.6 star rating',\n",
       " '4.4 star rating',\n",
       " '4.4 star rating']"
      ]
     },
     "execution_count": 19,
     "metadata": {},
     "output_type": "execute_result"
    }
   ],
   "source": [
    "res_rating = ratings(soup)\n",
    "res_rating"
   ]
  },
  {
   "cell_type": "code",
   "execution_count": 20,
   "id": "0ae7c64c",
   "metadata": {},
   "outputs": [],
   "source": [
    "#combine resturant names and ratings\n",
    "\n",
    "key_value_pairs = zip(res_name, res_rating)\n",
    "\n",
    "food = dict(key_value_pairs)"
   ]
  },
  {
   "cell_type": "code",
   "execution_count": 21,
   "id": "a3c053ba",
   "metadata": {},
   "outputs": [
    {
     "data": {
      "text/plain": [
       "{'La Fiamma': '4.5 star rating',\n",
       " 'Five Corners Ristorante': '4.6 star rating',\n",
       " 'Ellie’s Bistro': '4.6 star rating',\n",
       " 'Mercato Tomato Pie': '3.8 star rating',\n",
       " 'Casa d’Paco': '4.6 star rating',\n",
       " 'Elan Bistro': '4.5 star rating',\n",
       " 'Luigi’s Italian Restaurant': '4 star rating',\n",
       " 'Caffe Espresso Italia': '4.6 star rating',\n",
       " 'Artie’s': '4.4 star rating',\n",
       " 'Torna A Sorrento Restaurant': '4.4 star rating'}"
      ]
     },
     "execution_count": 21,
     "metadata": {},
     "output_type": "execute_result"
    }
   ],
   "source": [
    "food"
   ]
  },
  {
   "cell_type": "code",
   "execution_count": 22,
   "id": "7e7a8b8b",
   "metadata": {},
   "outputs": [
    {
     "data": {
      "text/html": [
       "<div>\n",
       "<style scoped>\n",
       "    .dataframe tbody tr th:only-of-type {\n",
       "        vertical-align: middle;\n",
       "    }\n",
       "\n",
       "    .dataframe tbody tr th {\n",
       "        vertical-align: top;\n",
       "    }\n",
       "\n",
       "    .dataframe thead th {\n",
       "        text-align: right;\n",
       "    }\n",
       "</style>\n",
       "<table border=\"1\" class=\"dataframe\">\n",
       "  <thead>\n",
       "    <tr style=\"text-align: right;\">\n",
       "      <th></th>\n",
       "      <th>0</th>\n",
       "    </tr>\n",
       "  </thead>\n",
       "  <tbody>\n",
       "    <tr>\n",
       "      <th>La Fiamma</th>\n",
       "      <td>4.5 star rating</td>\n",
       "    </tr>\n",
       "    <tr>\n",
       "      <th>Five Corners Ristorante</th>\n",
       "      <td>4.6 star rating</td>\n",
       "    </tr>\n",
       "    <tr>\n",
       "      <th>Ellie’s Bistro</th>\n",
       "      <td>4.6 star rating</td>\n",
       "    </tr>\n",
       "    <tr>\n",
       "      <th>Mercato Tomato Pie</th>\n",
       "      <td>3.8 star rating</td>\n",
       "    </tr>\n",
       "    <tr>\n",
       "      <th>Casa d’Paco</th>\n",
       "      <td>4.6 star rating</td>\n",
       "    </tr>\n",
       "    <tr>\n",
       "      <th>Elan Bistro</th>\n",
       "      <td>4.5 star rating</td>\n",
       "    </tr>\n",
       "    <tr>\n",
       "      <th>Luigi’s Italian Restaurant</th>\n",
       "      <td>4 star rating</td>\n",
       "    </tr>\n",
       "    <tr>\n",
       "      <th>Caffe Espresso Italia</th>\n",
       "      <td>4.6 star rating</td>\n",
       "    </tr>\n",
       "    <tr>\n",
       "      <th>Artie’s</th>\n",
       "      <td>4.4 star rating</td>\n",
       "    </tr>\n",
       "    <tr>\n",
       "      <th>Torna A Sorrento Restaurant</th>\n",
       "      <td>4.4 star rating</td>\n",
       "    </tr>\n",
       "  </tbody>\n",
       "</table>\n",
       "</div>"
      ],
      "text/plain": [
       "                                           0\n",
       "La Fiamma                    4.5 star rating\n",
       "Five Corners Ristorante      4.6 star rating\n",
       "Ellie’s Bistro               4.6 star rating\n",
       "Mercato Tomato Pie           3.8 star rating\n",
       "Casa d’Paco                  4.6 star rating\n",
       "Elan Bistro                  4.5 star rating\n",
       "Luigi’s Italian Restaurant     4 star rating\n",
       "Caffe Espresso Italia        4.6 star rating\n",
       "Artie’s                      4.4 star rating\n",
       "Torna A Sorrento Restaurant  4.4 star rating"
      ]
     },
     "execution_count": 22,
     "metadata": {},
     "output_type": "execute_result"
    }
   ],
   "source": [
    "#make the keys the rows\n",
    "food_ratings = pd.DataFrame.from_dict(food,orient='index')\n",
    "food_ratings"
   ]
  },
  {
   "cell_type": "code",
   "execution_count": null,
   "id": "f5e62c76",
   "metadata": {},
   "outputs": [],
   "source": []
  }
 ],
 "metadata": {
  "kernelspec": {
   "display_name": "Python 3 (ipykernel)",
   "language": "python",
   "name": "python3"
  },
  "language_info": {
   "codemirror_mode": {
    "name": "ipython",
    "version": 3
   },
   "file_extension": ".py",
   "mimetype": "text/x-python",
   "name": "python",
   "nbconvert_exporter": "python",
   "pygments_lexer": "ipython3",
   "version": "3.12.7"
  }
 },
 "nbformat": 4,
 "nbformat_minor": 5
}
