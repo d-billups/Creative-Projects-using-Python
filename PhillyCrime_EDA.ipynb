{
 "cells": [
  {
   "cell_type": "code",
   "execution_count": 1,
   "id": "d62647d6",
   "metadata": {},
   "outputs": [],
   "source": [
    "#Import necessary libraries/packages\n",
    "\n",
    "import pandas as pd, plotly.express as px, regex as re, seaborn as sea, warnings\n",
    "from matplotlib import pyplot as plt"
   ]
  },
  {
   "cell_type": "code",
   "execution_count": 2,
   "id": "8512022f",
   "metadata": {},
   "outputs": [],
   "source": [
    "warnings.filterwarnings('ignore')"
   ]
  },
  {
   "cell_type": "code",
   "execution_count": 3,
   "id": "4bf3668b",
   "metadata": {},
   "outputs": [],
   "source": [
    "#Read in Philly Crime csv\n",
    "\n",
    "crime = pd.read_csv('crime.csv')"
   ]
  },
  {
   "cell_type": "markdown",
   "id": "b554013d",
   "metadata": {},
   "source": [
    "Take a look at the data"
   ]
  },
  {
   "cell_type": "code",
   "execution_count": 4,
   "id": "748bdb6c",
   "metadata": {},
   "outputs": [
    {
     "data": {
      "text/plain": [
       "Index(['Dc_Dist', 'Psa', 'Dispatch_Date_Time', 'Dispatch_Date',\n",
       "       'Dispatch_Time', 'Hour', 'Dc_Key', 'Location_Block', 'UCR_General',\n",
       "       'Text_General_Code', 'Police_Districts', 'Month', 'Lon', 'Lat'],\n",
       "      dtype='object')"
      ]
     },
     "execution_count": 4,
     "metadata": {},
     "output_type": "execute_result"
    }
   ],
   "source": [
    "crime.columns"
   ]
  },
  {
   "cell_type": "code",
   "execution_count": 5,
   "id": "efbb0af0",
   "metadata": {},
   "outputs": [
    {
     "data": {
      "text/html": [
       "<div>\n",
       "<style scoped>\n",
       "    .dataframe tbody tr th:only-of-type {\n",
       "        vertical-align: middle;\n",
       "    }\n",
       "\n",
       "    .dataframe tbody tr th {\n",
       "        vertical-align: top;\n",
       "    }\n",
       "\n",
       "    .dataframe thead th {\n",
       "        text-align: right;\n",
       "    }\n",
       "</style>\n",
       "<table border=\"1\" class=\"dataframe\">\n",
       "  <thead>\n",
       "    <tr style=\"text-align: right;\">\n",
       "      <th></th>\n",
       "      <th>Dc_Dist</th>\n",
       "      <th>Psa</th>\n",
       "      <th>Dispatch_Date_Time</th>\n",
       "      <th>Dispatch_Date</th>\n",
       "      <th>Dispatch_Time</th>\n",
       "      <th>Hour</th>\n",
       "      <th>Dc_Key</th>\n",
       "      <th>Location_Block</th>\n",
       "      <th>UCR_General</th>\n",
       "      <th>Text_General_Code</th>\n",
       "      <th>Police_Districts</th>\n",
       "      <th>Month</th>\n",
       "      <th>Lon</th>\n",
       "      <th>Lat</th>\n",
       "    </tr>\n",
       "  </thead>\n",
       "  <tbody>\n",
       "    <tr>\n",
       "      <th>0</th>\n",
       "      <td>18</td>\n",
       "      <td>3</td>\n",
       "      <td>2009-10-02 14:24:00</td>\n",
       "      <td>2009-10-02</td>\n",
       "      <td>14:24:00</td>\n",
       "      <td>14</td>\n",
       "      <td>200918067518</td>\n",
       "      <td>S 38TH ST  / MARKETUT ST</td>\n",
       "      <td>800.0</td>\n",
       "      <td>Other Assaults</td>\n",
       "      <td>NaN</td>\n",
       "      <td>2009-10</td>\n",
       "      <td>NaN</td>\n",
       "      <td>NaN</td>\n",
       "    </tr>\n",
       "    <tr>\n",
       "      <th>1</th>\n",
       "      <td>14</td>\n",
       "      <td>1</td>\n",
       "      <td>2009-05-10 00:55:00</td>\n",
       "      <td>2009-05-10</td>\n",
       "      <td>00:55:00</td>\n",
       "      <td>0</td>\n",
       "      <td>200914033994</td>\n",
       "      <td>8500 BLOCK MITCH</td>\n",
       "      <td>2600.0</td>\n",
       "      <td>All Other Offenses</td>\n",
       "      <td>NaN</td>\n",
       "      <td>2009-05</td>\n",
       "      <td>NaN</td>\n",
       "      <td>NaN</td>\n",
       "    </tr>\n",
       "    <tr>\n",
       "      <th>2</th>\n",
       "      <td>25</td>\n",
       "      <td>J</td>\n",
       "      <td>2009-08-07 15:40:00</td>\n",
       "      <td>2009-08-07</td>\n",
       "      <td>15:40:00</td>\n",
       "      <td>15</td>\n",
       "      <td>200925083199</td>\n",
       "      <td>6TH CAMBRIA</td>\n",
       "      <td>800.0</td>\n",
       "      <td>Other Assaults</td>\n",
       "      <td>NaN</td>\n",
       "      <td>2009-08</td>\n",
       "      <td>NaN</td>\n",
       "      <td>NaN</td>\n",
       "    </tr>\n",
       "    <tr>\n",
       "      <th>3</th>\n",
       "      <td>35</td>\n",
       "      <td>D</td>\n",
       "      <td>2009-07-19 01:09:00</td>\n",
       "      <td>2009-07-19</td>\n",
       "      <td>01:09:00</td>\n",
       "      <td>1</td>\n",
       "      <td>200935061008</td>\n",
       "      <td>5500 BLOCK N 5TH ST</td>\n",
       "      <td>1500.0</td>\n",
       "      <td>Weapon Violations</td>\n",
       "      <td>20.0</td>\n",
       "      <td>2009-07</td>\n",
       "      <td>-75.130477</td>\n",
       "      <td>40.036389</td>\n",
       "    </tr>\n",
       "    <tr>\n",
       "      <th>4</th>\n",
       "      <td>9</td>\n",
       "      <td>R</td>\n",
       "      <td>2009-06-25 00:14:00</td>\n",
       "      <td>2009-06-25</td>\n",
       "      <td>00:14:00</td>\n",
       "      <td>0</td>\n",
       "      <td>200909030511</td>\n",
       "      <td>1800 BLOCK WYLIE ST</td>\n",
       "      <td>2600.0</td>\n",
       "      <td>All Other Offenses</td>\n",
       "      <td>8.0</td>\n",
       "      <td>2009-06</td>\n",
       "      <td>-75.166350</td>\n",
       "      <td>39.969532</td>\n",
       "    </tr>\n",
       "    <tr>\n",
       "      <th>5</th>\n",
       "      <td>17</td>\n",
       "      <td>1</td>\n",
       "      <td>2015-04-25 12:50:00</td>\n",
       "      <td>2015-04-25</td>\n",
       "      <td>12:50:00</td>\n",
       "      <td>12</td>\n",
       "      <td>201517017705</td>\n",
       "      <td>800 BLOCK S BROAD ST</td>\n",
       "      <td>600.0</td>\n",
       "      <td>Thefts</td>\n",
       "      <td>13.0</td>\n",
       "      <td>2015-04</td>\n",
       "      <td>-75.166412</td>\n",
       "      <td>39.940070</td>\n",
       "    </tr>\n",
       "    <tr>\n",
       "      <th>6</th>\n",
       "      <td>23</td>\n",
       "      <td>K</td>\n",
       "      <td>2009-02-10 14:33:00</td>\n",
       "      <td>2009-02-10</td>\n",
       "      <td>14:33:00</td>\n",
       "      <td>14</td>\n",
       "      <td>200923006310</td>\n",
       "      <td>2200 BLOCK RIDGE AVE</td>\n",
       "      <td>800.0</td>\n",
       "      <td>Other Assaults</td>\n",
       "      <td>16.0</td>\n",
       "      <td>2009-02</td>\n",
       "      <td>-75.171149</td>\n",
       "      <td>39.979586</td>\n",
       "    </tr>\n",
       "    <tr>\n",
       "      <th>7</th>\n",
       "      <td>77</td>\n",
       "      <td>A</td>\n",
       "      <td>2009-04-02 18:30:00</td>\n",
       "      <td>2009-04-02</td>\n",
       "      <td>18:30:00</td>\n",
       "      <td>18</td>\n",
       "      <td>200977001770</td>\n",
       "      <td>TERMINAL A W</td>\n",
       "      <td>500.0</td>\n",
       "      <td>Burglary Non-Residential</td>\n",
       "      <td>NaN</td>\n",
       "      <td>2009-04</td>\n",
       "      <td>NaN</td>\n",
       "      <td>NaN</td>\n",
       "    </tr>\n",
       "    <tr>\n",
       "      <th>8</th>\n",
       "      <td>35</td>\n",
       "      <td>D</td>\n",
       "      <td>2009-03-18 01:14:00</td>\n",
       "      <td>2009-03-18</td>\n",
       "      <td>01:14:00</td>\n",
       "      <td>1</td>\n",
       "      <td>200935021299</td>\n",
       "      <td>N 5TH SOMMERVILLE</td>\n",
       "      <td>2600.0</td>\n",
       "      <td>All Other Offenses</td>\n",
       "      <td>NaN</td>\n",
       "      <td>2009-03</td>\n",
       "      <td>NaN</td>\n",
       "      <td>NaN</td>\n",
       "    </tr>\n",
       "    <tr>\n",
       "      <th>9</th>\n",
       "      <td>23</td>\n",
       "      <td>L</td>\n",
       "      <td>2009-06-14 20:30:00</td>\n",
       "      <td>2009-06-14</td>\n",
       "      <td>20:30:00</td>\n",
       "      <td>20</td>\n",
       "      <td>200923029129</td>\n",
       "      <td>N 2828 W  MASTER STST</td>\n",
       "      <td>2600.0</td>\n",
       "      <td>All Other Offenses</td>\n",
       "      <td>NaN</td>\n",
       "      <td>2009-06</td>\n",
       "      <td>NaN</td>\n",
       "      <td>NaN</td>\n",
       "    </tr>\n",
       "  </tbody>\n",
       "</table>\n",
       "</div>"
      ],
      "text/plain": [
       "   Dc_Dist Psa   Dispatch_Date_Time Dispatch_Date Dispatch_Time  Hour  \\\n",
       "0       18   3  2009-10-02 14:24:00    2009-10-02      14:24:00    14   \n",
       "1       14   1  2009-05-10 00:55:00    2009-05-10      00:55:00     0   \n",
       "2       25   J  2009-08-07 15:40:00    2009-08-07      15:40:00    15   \n",
       "3       35   D  2009-07-19 01:09:00    2009-07-19      01:09:00     1   \n",
       "4        9   R  2009-06-25 00:14:00    2009-06-25      00:14:00     0   \n",
       "5       17   1  2015-04-25 12:50:00    2015-04-25      12:50:00    12   \n",
       "6       23   K  2009-02-10 14:33:00    2009-02-10      14:33:00    14   \n",
       "7       77   A  2009-04-02 18:30:00    2009-04-02      18:30:00    18   \n",
       "8       35   D  2009-03-18 01:14:00    2009-03-18      01:14:00     1   \n",
       "9       23   L  2009-06-14 20:30:00    2009-06-14      20:30:00    20   \n",
       "\n",
       "         Dc_Key            Location_Block  UCR_General  \\\n",
       "0  200918067518  S 38TH ST  / MARKETUT ST        800.0   \n",
       "1  200914033994          8500 BLOCK MITCH       2600.0   \n",
       "2  200925083199               6TH CAMBRIA        800.0   \n",
       "3  200935061008       5500 BLOCK N 5TH ST       1500.0   \n",
       "4  200909030511       1800 BLOCK WYLIE ST       2600.0   \n",
       "5  201517017705      800 BLOCK S BROAD ST        600.0   \n",
       "6  200923006310      2200 BLOCK RIDGE AVE        800.0   \n",
       "7  200977001770              TERMINAL A W        500.0   \n",
       "8  200935021299         N 5TH SOMMERVILLE       2600.0   \n",
       "9  200923029129     N 2828 W  MASTER STST       2600.0   \n",
       "\n",
       "          Text_General_Code  Police_Districts    Month        Lon        Lat  \n",
       "0            Other Assaults               NaN  2009-10        NaN        NaN  \n",
       "1        All Other Offenses               NaN  2009-05        NaN        NaN  \n",
       "2            Other Assaults               NaN  2009-08        NaN        NaN  \n",
       "3         Weapon Violations              20.0  2009-07 -75.130477  40.036389  \n",
       "4        All Other Offenses               8.0  2009-06 -75.166350  39.969532  \n",
       "5                    Thefts              13.0  2015-04 -75.166412  39.940070  \n",
       "6            Other Assaults              16.0  2009-02 -75.171149  39.979586  \n",
       "7  Burglary Non-Residential               NaN  2009-04        NaN        NaN  \n",
       "8        All Other Offenses               NaN  2009-03        NaN        NaN  \n",
       "9        All Other Offenses               NaN  2009-06        NaN        NaN  "
      ]
     },
     "execution_count": 5,
     "metadata": {},
     "output_type": "execute_result"
    }
   ],
   "source": [
    "crime.head(10)"
   ]
  },
  {
   "cell_type": "code",
   "execution_count": 6,
   "id": "a950684a",
   "metadata": {},
   "outputs": [
    {
     "data": {
      "text/plain": [
       "(2237605, 14)"
      ]
     },
     "execution_count": 6,
     "metadata": {},
     "output_type": "execute_result"
    }
   ],
   "source": [
    "crime.shape"
   ]
  },
  {
   "cell_type": "code",
   "execution_count": 7,
   "id": "4fa47349",
   "metadata": {},
   "outputs": [
    {
     "data": {
      "text/html": [
       "<div>\n",
       "<style scoped>\n",
       "    .dataframe tbody tr th:only-of-type {\n",
       "        vertical-align: middle;\n",
       "    }\n",
       "\n",
       "    .dataframe tbody tr th {\n",
       "        vertical-align: top;\n",
       "    }\n",
       "\n",
       "    .dataframe thead th {\n",
       "        text-align: right;\n",
       "    }\n",
       "</style>\n",
       "<table border=\"1\" class=\"dataframe\">\n",
       "  <thead>\n",
       "    <tr style=\"text-align: right;\">\n",
       "      <th></th>\n",
       "      <th>Dc_Dist</th>\n",
       "      <th>Hour</th>\n",
       "      <th>Dc_Key</th>\n",
       "      <th>UCR_General</th>\n",
       "      <th>Police_Districts</th>\n",
       "      <th>Lon</th>\n",
       "      <th>Lat</th>\n",
       "    </tr>\n",
       "  </thead>\n",
       "  <tbody>\n",
       "    <tr>\n",
       "      <th>count</th>\n",
       "      <td>2.237605e+06</td>\n",
       "      <td>2.237605e+06</td>\n",
       "      <td>2.237605e+06</td>\n",
       "      <td>2.236942e+06</td>\n",
       "      <td>2.217675e+06</td>\n",
       "      <td>2.220256e+06</td>\n",
       "      <td>2.220256e+06</td>\n",
       "    </tr>\n",
       "    <tr>\n",
       "      <th>mean</th>\n",
       "      <td>1.726837e+01</td>\n",
       "      <td>1.315990e+01</td>\n",
       "      <td>2.010975e+11</td>\n",
       "      <td>1.271354e+03</td>\n",
       "      <td>1.206404e+01</td>\n",
       "      <td>-7.514992e+01</td>\n",
       "      <td>3.999201e+01</td>\n",
       "    </tr>\n",
       "    <tr>\n",
       "      <th>std</th>\n",
       "      <td>1.064898e+01</td>\n",
       "      <td>6.799952e+00</td>\n",
       "      <td>3.234684e+08</td>\n",
       "      <td>8.143510e+02</td>\n",
       "      <td>5.792056e+00</td>\n",
       "      <td>5.973890e-02</td>\n",
       "      <td>4.534823e-02</td>\n",
       "    </tr>\n",
       "    <tr>\n",
       "      <th>min</th>\n",
       "      <td>1.000000e+00</td>\n",
       "      <td>0.000000e+00</td>\n",
       "      <td>1.998121e+11</td>\n",
       "      <td>1.000000e+02</td>\n",
       "      <td>1.000000e+00</td>\n",
       "      <td>-7.527773e+01</td>\n",
       "      <td>3.986999e+01</td>\n",
       "    </tr>\n",
       "    <tr>\n",
       "      <th>25%</th>\n",
       "      <td>9.000000e+00</td>\n",
       "      <td>9.000000e+00</td>\n",
       "      <td>2.008151e+11</td>\n",
       "      <td>6.000000e+02</td>\n",
       "      <td>8.000000e+00</td>\n",
       "      <td>-7.518490e+01</td>\n",
       "      <td>3.995571e+01</td>\n",
       "    </tr>\n",
       "    <tr>\n",
       "      <th>50%</th>\n",
       "      <td>1.600000e+01</td>\n",
       "      <td>1.400000e+01</td>\n",
       "      <td>2.011060e+11</td>\n",
       "      <td>8.000000e+02</td>\n",
       "      <td>1.200000e+01</td>\n",
       "      <td>-7.515668e+01</td>\n",
       "      <td>3.999105e+01</td>\n",
       "    </tr>\n",
       "    <tr>\n",
       "      <th>75%</th>\n",
       "      <td>2.400000e+01</td>\n",
       "      <td>1.900000e+01</td>\n",
       "      <td>2.014021e+11</td>\n",
       "      <td>1.800000e+03</td>\n",
       "      <td>1.700000e+01</td>\n",
       "      <td>-7.511844e+01</td>\n",
       "      <td>4.002739e+01</td>\n",
       "    </tr>\n",
       "    <tr>\n",
       "      <th>max</th>\n",
       "      <td>9.200000e+01</td>\n",
       "      <td>2.300000e+01</td>\n",
       "      <td>2.017770e+11</td>\n",
       "      <td>2.600000e+03</td>\n",
       "      <td>2.200000e+01</td>\n",
       "      <td>-7.495750e+01</td>\n",
       "      <td>4.013790e+01</td>\n",
       "    </tr>\n",
       "  </tbody>\n",
       "</table>\n",
       "</div>"
      ],
      "text/plain": [
       "            Dc_Dist          Hour        Dc_Key   UCR_General  \\\n",
       "count  2.237605e+06  2.237605e+06  2.237605e+06  2.236942e+06   \n",
       "mean   1.726837e+01  1.315990e+01  2.010975e+11  1.271354e+03   \n",
       "std    1.064898e+01  6.799952e+00  3.234684e+08  8.143510e+02   \n",
       "min    1.000000e+00  0.000000e+00  1.998121e+11  1.000000e+02   \n",
       "25%    9.000000e+00  9.000000e+00  2.008151e+11  6.000000e+02   \n",
       "50%    1.600000e+01  1.400000e+01  2.011060e+11  8.000000e+02   \n",
       "75%    2.400000e+01  1.900000e+01  2.014021e+11  1.800000e+03   \n",
       "max    9.200000e+01  2.300000e+01  2.017770e+11  2.600000e+03   \n",
       "\n",
       "       Police_Districts           Lon           Lat  \n",
       "count      2.217675e+06  2.220256e+06  2.220256e+06  \n",
       "mean       1.206404e+01 -7.514992e+01  3.999201e+01  \n",
       "std        5.792056e+00  5.973890e-02  4.534823e-02  \n",
       "min        1.000000e+00 -7.527773e+01  3.986999e+01  \n",
       "25%        8.000000e+00 -7.518490e+01  3.995571e+01  \n",
       "50%        1.200000e+01 -7.515668e+01  3.999105e+01  \n",
       "75%        1.700000e+01 -7.511844e+01  4.002739e+01  \n",
       "max        2.200000e+01 -7.495750e+01  4.013790e+01  "
      ]
     },
     "execution_count": 7,
     "metadata": {},
     "output_type": "execute_result"
    }
   ],
   "source": [
    "crime.describe()"
   ]
  },
  {
   "cell_type": "code",
   "execution_count": 8,
   "id": "a545e0ab",
   "metadata": {},
   "outputs": [
    {
     "data": {
      "text/plain": [
       "Dc_Dist                 int64\n",
       "Psa                    object\n",
       "Dispatch_Date_Time     object\n",
       "Dispatch_Date          object\n",
       "Dispatch_Time          object\n",
       "Hour                    int64\n",
       "Dc_Key                  int64\n",
       "Location_Block         object\n",
       "UCR_General           float64\n",
       "Text_General_Code      object\n",
       "Police_Districts      float64\n",
       "Month                  object\n",
       "Lon                   float64\n",
       "Lat                   float64\n",
       "dtype: object"
      ]
     },
     "execution_count": 8,
     "metadata": {},
     "output_type": "execute_result"
    }
   ],
   "source": [
    "crime.dtypes"
   ]
  },
  {
   "cell_type": "code",
   "execution_count": 9,
   "id": "783716e9",
   "metadata": {},
   "outputs": [],
   "source": [
    "#Keep only the columns we want to use for analysis\n",
    "\n",
    "crime = crime[['Dc_Dist','Dispatch_Date',\n",
    "       'Dispatch_Time', 'Hour', 'Location_Block',\n",
    "       'Text_General_Code', 'Month', 'Lon', 'Lat']].copy()"
   ]
  },
  {
   "cell_type": "code",
   "execution_count": 10,
   "id": "49f9b7e5",
   "metadata": {},
   "outputs": [
    {
     "data": {
      "text/plain": [
       "Dc_Dist                  0\n",
       "Dispatch_Date            0\n",
       "Dispatch_Time            0\n",
       "Hour                     0\n",
       "Location_Block           0\n",
       "Text_General_Code      663\n",
       "Month                    0\n",
       "Lon                  17349\n",
       "Lat                  17349\n",
       "dtype: int64"
      ]
     },
     "execution_count": 10,
     "metadata": {},
     "output_type": "execute_result"
    }
   ],
   "source": [
    "#Also check for null values to get a sense of what data is missing and how that may impact results.\n",
    "crime.isna().sum()"
   ]
  },
  {
   "cell_type": "code",
   "execution_count": 11,
   "id": "5cd75c96",
   "metadata": {},
   "outputs": [
    {
     "data": {
      "text/html": [
       "<div>\n",
       "<style scoped>\n",
       "    .dataframe tbody tr th:only-of-type {\n",
       "        vertical-align: middle;\n",
       "    }\n",
       "\n",
       "    .dataframe tbody tr th {\n",
       "        vertical-align: top;\n",
       "    }\n",
       "\n",
       "    .dataframe thead th {\n",
       "        text-align: right;\n",
       "    }\n",
       "</style>\n",
       "<table border=\"1\" class=\"dataframe\">\n",
       "  <thead>\n",
       "    <tr style=\"text-align: right;\">\n",
       "      <th></th>\n",
       "      <th>Dc_Dist</th>\n",
       "      <th>Dispatch_Date</th>\n",
       "      <th>Dispatch_Time</th>\n",
       "      <th>Hour</th>\n",
       "      <th>Location_Block</th>\n",
       "      <th>Text_General_Code</th>\n",
       "      <th>Month</th>\n",
       "      <th>Lon</th>\n",
       "      <th>Lat</th>\n",
       "    </tr>\n",
       "  </thead>\n",
       "  <tbody>\n",
       "    <tr>\n",
       "      <th>0</th>\n",
       "      <td>18</td>\n",
       "      <td>2009-10-02</td>\n",
       "      <td>14:24:00</td>\n",
       "      <td>14</td>\n",
       "      <td>S 38TH ST  / MARKETUT ST</td>\n",
       "      <td>Other Assaults</td>\n",
       "      <td>2009-10</td>\n",
       "      <td>NaN</td>\n",
       "      <td>NaN</td>\n",
       "    </tr>\n",
       "    <tr>\n",
       "      <th>1</th>\n",
       "      <td>14</td>\n",
       "      <td>2009-05-10</td>\n",
       "      <td>00:55:00</td>\n",
       "      <td>0</td>\n",
       "      <td>8500 BLOCK MITCH</td>\n",
       "      <td>All Other Offenses</td>\n",
       "      <td>2009-05</td>\n",
       "      <td>NaN</td>\n",
       "      <td>NaN</td>\n",
       "    </tr>\n",
       "    <tr>\n",
       "      <th>2</th>\n",
       "      <td>25</td>\n",
       "      <td>2009-08-07</td>\n",
       "      <td>15:40:00</td>\n",
       "      <td>15</td>\n",
       "      <td>6TH CAMBRIA</td>\n",
       "      <td>Other Assaults</td>\n",
       "      <td>2009-08</td>\n",
       "      <td>NaN</td>\n",
       "      <td>NaN</td>\n",
       "    </tr>\n",
       "    <tr>\n",
       "      <th>3</th>\n",
       "      <td>35</td>\n",
       "      <td>2009-07-19</td>\n",
       "      <td>01:09:00</td>\n",
       "      <td>1</td>\n",
       "      <td>5500 BLOCK N 5TH ST</td>\n",
       "      <td>Weapon Violations</td>\n",
       "      <td>2009-07</td>\n",
       "      <td>-75.130477</td>\n",
       "      <td>40.036389</td>\n",
       "    </tr>\n",
       "    <tr>\n",
       "      <th>4</th>\n",
       "      <td>9</td>\n",
       "      <td>2009-06-25</td>\n",
       "      <td>00:14:00</td>\n",
       "      <td>0</td>\n",
       "      <td>1800 BLOCK WYLIE ST</td>\n",
       "      <td>All Other Offenses</td>\n",
       "      <td>2009-06</td>\n",
       "      <td>-75.166350</td>\n",
       "      <td>39.969532</td>\n",
       "    </tr>\n",
       "  </tbody>\n",
       "</table>\n",
       "</div>"
      ],
      "text/plain": [
       "   Dc_Dist Dispatch_Date Dispatch_Time  Hour            Location_Block  \\\n",
       "0       18    2009-10-02      14:24:00    14  S 38TH ST  / MARKETUT ST   \n",
       "1       14    2009-05-10      00:55:00     0          8500 BLOCK MITCH   \n",
       "2       25    2009-08-07      15:40:00    15               6TH CAMBRIA   \n",
       "3       35    2009-07-19      01:09:00     1       5500 BLOCK N 5TH ST   \n",
       "4        9    2009-06-25      00:14:00     0       1800 BLOCK WYLIE ST   \n",
       "\n",
       "    Text_General_Code    Month        Lon        Lat  \n",
       "0      Other Assaults  2009-10        NaN        NaN  \n",
       "1  All Other Offenses  2009-05        NaN        NaN  \n",
       "2      Other Assaults  2009-08        NaN        NaN  \n",
       "3   Weapon Violations  2009-07 -75.130477  40.036389  \n",
       "4  All Other Offenses  2009-06 -75.166350  39.969532  "
      ]
     },
     "execution_count": 11,
     "metadata": {},
     "output_type": "execute_result"
    }
   ],
   "source": [
    "crime.head(5)"
   ]
  },
  {
   "cell_type": "code",
   "execution_count": 12,
   "id": "6250e27a",
   "metadata": {},
   "outputs": [],
   "source": [
    "crime.rename(columns={'Text_General_Code':'Crime_Description', 'Location_Block':'Location_of_Crime'},inplace=True)"
   ]
  },
  {
   "cell_type": "code",
   "execution_count": 13,
   "id": "d3fa1bbe",
   "metadata": {},
   "outputs": [],
   "source": [
    "crime['Year'] = pd.to_datetime(crime['Dispatch_Date']).dt.year\n",
    "crime['Month']= pd.to_datetime(crime['Dispatch_Date']).dt.month"
   ]
  },
  {
   "cell_type": "code",
   "execution_count": 15,
   "id": "4b93bf6c",
   "metadata": {},
   "outputs": [
    {
     "data": {
      "text/html": [
       "<div>\n",
       "<style scoped>\n",
       "    .dataframe tbody tr th:only-of-type {\n",
       "        vertical-align: middle;\n",
       "    }\n",
       "\n",
       "    .dataframe tbody tr th {\n",
       "        vertical-align: top;\n",
       "    }\n",
       "\n",
       "    .dataframe thead th {\n",
       "        text-align: right;\n",
       "    }\n",
       "</style>\n",
       "<table border=\"1\" class=\"dataframe\">\n",
       "  <thead>\n",
       "    <tr style=\"text-align: right;\">\n",
       "      <th></th>\n",
       "      <th>Dc_Dist</th>\n",
       "      <th>Dispatch_Date</th>\n",
       "      <th>Dispatch_Time</th>\n",
       "      <th>Hour</th>\n",
       "      <th>Location_of_Crime</th>\n",
       "      <th>Crime_Description</th>\n",
       "      <th>Month</th>\n",
       "      <th>Lon</th>\n",
       "      <th>Lat</th>\n",
       "      <th>Year</th>\n",
       "    </tr>\n",
       "  </thead>\n",
       "  <tbody>\n",
       "    <tr>\n",
       "      <th>2742</th>\n",
       "      <td>35</td>\n",
       "      <td>2009-09-07</td>\n",
       "      <td>00:18:00</td>\n",
       "      <td>0</td>\n",
       "      <td>5200 BLOCK N 3RD ST</td>\n",
       "      <td>All Other Offenses</td>\n",
       "      <td>9</td>\n",
       "      <td>-75.129024</td>\n",
       "      <td>40.030000</td>\n",
       "      <td>2009</td>\n",
       "    </tr>\n",
       "    <tr>\n",
       "      <th>2744</th>\n",
       "      <td>35</td>\n",
       "      <td>2009-09-07</td>\n",
       "      <td>00:18:00</td>\n",
       "      <td>0</td>\n",
       "      <td>300 BLOCK W WELLENS ST</td>\n",
       "      <td>All Other Offenses</td>\n",
       "      <td>9</td>\n",
       "      <td>-75.128850</td>\n",
       "      <td>40.030951</td>\n",
       "      <td>2009</td>\n",
       "    </tr>\n",
       "    <tr>\n",
       "      <th>2752</th>\n",
       "      <td>22</td>\n",
       "      <td>2009-12-28</td>\n",
       "      <td>00:31:00</td>\n",
       "      <td>0</td>\n",
       "      <td>N UBER ST / W SUSQUEHANNA AV</td>\n",
       "      <td>All Other Offenses</td>\n",
       "      <td>12</td>\n",
       "      <td>-75.164979</td>\n",
       "      <td>39.987430</td>\n",
       "      <td>2009</td>\n",
       "    </tr>\n",
       "    <tr>\n",
       "      <th>2754</th>\n",
       "      <td>22</td>\n",
       "      <td>2009-12-28</td>\n",
       "      <td>00:55:00</td>\n",
       "      <td>0</td>\n",
       "      <td>N UBER ST / W SUSQUEHANNA AV</td>\n",
       "      <td>All Other Offenses</td>\n",
       "      <td>12</td>\n",
       "      <td>-75.164979</td>\n",
       "      <td>39.987430</td>\n",
       "      <td>2009</td>\n",
       "    </tr>\n",
       "    <tr>\n",
       "      <th>2755</th>\n",
       "      <td>22</td>\n",
       "      <td>2009-12-28</td>\n",
       "      <td>00:55:00</td>\n",
       "      <td>0</td>\n",
       "      <td>N UBER ST / W SUSQUEHANNA AV</td>\n",
       "      <td>All Other Offenses</td>\n",
       "      <td>12</td>\n",
       "      <td>-75.164979</td>\n",
       "      <td>39.987430</td>\n",
       "      <td>2009</td>\n",
       "    </tr>\n",
       "    <tr>\n",
       "      <th>...</th>\n",
       "      <td>...</td>\n",
       "      <td>...</td>\n",
       "      <td>...</td>\n",
       "      <td>...</td>\n",
       "      <td>...</td>\n",
       "      <td>...</td>\n",
       "      <td>...</td>\n",
       "      <td>...</td>\n",
       "      <td>...</td>\n",
       "      <td>...</td>\n",
       "    </tr>\n",
       "    <tr>\n",
       "      <th>2237493</th>\n",
       "      <td>12</td>\n",
       "      <td>2017-01-08</td>\n",
       "      <td>01:40:00</td>\n",
       "      <td>1</td>\n",
       "      <td>7200 BLOCK ELMWOOD AV</td>\n",
       "      <td>All Other Offenses</td>\n",
       "      <td>1</td>\n",
       "      <td>-75.240354</td>\n",
       "      <td>39.915109</td>\n",
       "      <td>2017</td>\n",
       "    </tr>\n",
       "    <tr>\n",
       "      <th>2237494</th>\n",
       "      <td>12</td>\n",
       "      <td>2017-01-08</td>\n",
       "      <td>02:21:00</td>\n",
       "      <td>2</td>\n",
       "      <td>6600 BLOCK WOODLAND AV</td>\n",
       "      <td>All Other Offenses</td>\n",
       "      <td>1</td>\n",
       "      <td>-75.235552</td>\n",
       "      <td>39.924668</td>\n",
       "      <td>2017</td>\n",
       "    </tr>\n",
       "    <tr>\n",
       "      <th>2237554</th>\n",
       "      <td>25</td>\n",
       "      <td>2017-01-17</td>\n",
       "      <td>12:14:00</td>\n",
       "      <td>12</td>\n",
       "      <td>100 BLOCK W TUSCULUM ST</td>\n",
       "      <td>All Other Offenses</td>\n",
       "      <td>1</td>\n",
       "      <td>-75.130036</td>\n",
       "      <td>39.995120</td>\n",
       "      <td>2017</td>\n",
       "    </tr>\n",
       "    <tr>\n",
       "      <th>2237598</th>\n",
       "      <td>18</td>\n",
       "      <td>2017-01-17</td>\n",
       "      <td>22:11:00</td>\n",
       "      <td>22</td>\n",
       "      <td>4000 BLOCK MARKET</td>\n",
       "      <td>All Other Offenses</td>\n",
       "      <td>1</td>\n",
       "      <td>-75.201956</td>\n",
       "      <td>39.957158</td>\n",
       "      <td>2017</td>\n",
       "    </tr>\n",
       "    <tr>\n",
       "      <th>2237602</th>\n",
       "      <td>16</td>\n",
       "      <td>2017-01-17</td>\n",
       "      <td>22:35:00</td>\n",
       "      <td>22</td>\n",
       "      <td>N 38TH ST / WALLACE ST</td>\n",
       "      <td>All Other Offenses</td>\n",
       "      <td>1</td>\n",
       "      <td>-75.197627</td>\n",
       "      <td>39.964593</td>\n",
       "      <td>2017</td>\n",
       "    </tr>\n",
       "  </tbody>\n",
       "</table>\n",
       "<p>85812 rows × 10 columns</p>\n",
       "</div>"
      ],
      "text/plain": [
       "         Dc_Dist Dispatch_Date Dispatch_Time  Hour  \\\n",
       "2742          35    2009-09-07      00:18:00     0   \n",
       "2744          35    2009-09-07      00:18:00     0   \n",
       "2752          22    2009-12-28      00:31:00     0   \n",
       "2754          22    2009-12-28      00:55:00     0   \n",
       "2755          22    2009-12-28      00:55:00     0   \n",
       "...          ...           ...           ...   ...   \n",
       "2237493       12    2017-01-08      01:40:00     1   \n",
       "2237494       12    2017-01-08      02:21:00     2   \n",
       "2237554       25    2017-01-17      12:14:00    12   \n",
       "2237598       18    2017-01-17      22:11:00    22   \n",
       "2237602       16    2017-01-17      22:35:00    22   \n",
       "\n",
       "                    Location_of_Crime   Crime_Description  Month        Lon  \\\n",
       "2742              5200 BLOCK N 3RD ST  All Other Offenses      9 -75.129024   \n",
       "2744           300 BLOCK W WELLENS ST  All Other Offenses      9 -75.128850   \n",
       "2752     N UBER ST / W SUSQUEHANNA AV  All Other Offenses     12 -75.164979   \n",
       "2754     N UBER ST / W SUSQUEHANNA AV  All Other Offenses     12 -75.164979   \n",
       "2755     N UBER ST / W SUSQUEHANNA AV  All Other Offenses     12 -75.164979   \n",
       "...                               ...                 ...    ...        ...   \n",
       "2237493         7200 BLOCK ELMWOOD AV  All Other Offenses      1 -75.240354   \n",
       "2237494        6600 BLOCK WOODLAND AV  All Other Offenses      1 -75.235552   \n",
       "2237554       100 BLOCK W TUSCULUM ST  All Other Offenses      1 -75.130036   \n",
       "2237598             4000 BLOCK MARKET  All Other Offenses      1 -75.201956   \n",
       "2237602        N 38TH ST / WALLACE ST  All Other Offenses      1 -75.197627   \n",
       "\n",
       "               Lat  Year  \n",
       "2742     40.030000  2009  \n",
       "2744     40.030951  2009  \n",
       "2752     39.987430  2009  \n",
       "2754     39.987430  2009  \n",
       "2755     39.987430  2009  \n",
       "...            ...   ...  \n",
       "2237493  39.915109  2017  \n",
       "2237494  39.924668  2017  \n",
       "2237554  39.995120  2017  \n",
       "2237598  39.957158  2017  \n",
       "2237602  39.964593  2017  \n",
       "\n",
       "[85812 rows x 10 columns]"
      ]
     },
     "execution_count": 15,
     "metadata": {},
     "output_type": "execute_result"
    }
   ],
   "source": [
    "crime.loc[crime.duplicated()]"
   ]
  },
  {
   "cell_type": "code",
   "execution_count": 16,
   "id": "7ff3361c",
   "metadata": {},
   "outputs": [],
   "source": [
    "new_crime = crime.loc[~crime.duplicated(subset=['Dispatch_Date','Dispatch_Time','Location_of_Crime','Crime_Description'])]\\\n",
    ".reset_index(drop=True)"
   ]
  },
  {
   "cell_type": "code",
   "execution_count": 17,
   "id": "d63df4ee",
   "metadata": {},
   "outputs": [
    {
     "data": {
      "text/plain": [
       "(2150943, 10)"
      ]
     },
     "execution_count": 17,
     "metadata": {},
     "output_type": "execute_result"
    }
   ],
   "source": [
    "new_crime.shape"
   ]
  },
  {
   "cell_type": "code",
   "execution_count": 18,
   "id": "524e338d",
   "metadata": {},
   "outputs": [
    {
     "data": {
      "text/html": [
       "<div>\n",
       "<style scoped>\n",
       "    .dataframe tbody tr th:only-of-type {\n",
       "        vertical-align: middle;\n",
       "    }\n",
       "\n",
       "    .dataframe tbody tr th {\n",
       "        vertical-align: top;\n",
       "    }\n",
       "\n",
       "    .dataframe thead th {\n",
       "        text-align: right;\n",
       "    }\n",
       "</style>\n",
       "<table border=\"1\" class=\"dataframe\">\n",
       "  <thead>\n",
       "    <tr style=\"text-align: right;\">\n",
       "      <th></th>\n",
       "      <th>Dc_Dist</th>\n",
       "      <th>Dispatch_Date</th>\n",
       "      <th>Dispatch_Time</th>\n",
       "      <th>Hour</th>\n",
       "      <th>Location_of_Crime</th>\n",
       "      <th>Crime_Description</th>\n",
       "      <th>Month</th>\n",
       "      <th>Lon</th>\n",
       "      <th>Lat</th>\n",
       "      <th>Year</th>\n",
       "    </tr>\n",
       "  </thead>\n",
       "  <tbody>\n",
       "  </tbody>\n",
       "</table>\n",
       "</div>"
      ],
      "text/plain": [
       "Empty DataFrame\n",
       "Columns: [Dc_Dist, Dispatch_Date, Dispatch_Time, Hour, Location_of_Crime, Crime_Description, Month, Lon, Lat, Year]\n",
       "Index: []"
      ]
     },
     "execution_count": 18,
     "metadata": {},
     "output_type": "execute_result"
    }
   ],
   "source": [
    "new_crime.loc[new_crime.duplicated()]"
   ]
  },
  {
   "cell_type": "code",
   "execution_count": 19,
   "id": "2619d31d",
   "metadata": {},
   "outputs": [],
   "source": [
    "crimes = new_crime.loc[new_crime['Year']< 2017]"
   ]
  },
  {
   "cell_type": "code",
   "execution_count": 20,
   "id": "5b2e9963",
   "metadata": {},
   "outputs": [
    {
     "data": {
      "text/html": [
       "<div>\n",
       "<style scoped>\n",
       "    .dataframe tbody tr th:only-of-type {\n",
       "        vertical-align: middle;\n",
       "    }\n",
       "\n",
       "    .dataframe tbody tr th {\n",
       "        vertical-align: top;\n",
       "    }\n",
       "\n",
       "    .dataframe thead th {\n",
       "        text-align: right;\n",
       "    }\n",
       "</style>\n",
       "<table border=\"1\" class=\"dataframe\">\n",
       "  <thead>\n",
       "    <tr style=\"text-align: right;\">\n",
       "      <th></th>\n",
       "      <th>Dc_Dist</th>\n",
       "      <th>Dispatch_Date</th>\n",
       "      <th>Dispatch_Time</th>\n",
       "      <th>Hour</th>\n",
       "      <th>Location_of_Crime</th>\n",
       "      <th>Crime_Description</th>\n",
       "      <th>Month</th>\n",
       "      <th>Lon</th>\n",
       "      <th>Lat</th>\n",
       "      <th>Year</th>\n",
       "    </tr>\n",
       "  </thead>\n",
       "  <tbody>\n",
       "    <tr>\n",
       "      <th>0</th>\n",
       "      <td>18</td>\n",
       "      <td>2009-10-02</td>\n",
       "      <td>14:24:00</td>\n",
       "      <td>14</td>\n",
       "      <td>S 38TH ST  / MARKETUT ST</td>\n",
       "      <td>Other Assaults</td>\n",
       "      <td>10</td>\n",
       "      <td>NaN</td>\n",
       "      <td>NaN</td>\n",
       "      <td>2009</td>\n",
       "    </tr>\n",
       "    <tr>\n",
       "      <th>1</th>\n",
       "      <td>14</td>\n",
       "      <td>2009-05-10</td>\n",
       "      <td>00:55:00</td>\n",
       "      <td>0</td>\n",
       "      <td>8500 BLOCK MITCH</td>\n",
       "      <td>All Other Offenses</td>\n",
       "      <td>5</td>\n",
       "      <td>NaN</td>\n",
       "      <td>NaN</td>\n",
       "      <td>2009</td>\n",
       "    </tr>\n",
       "    <tr>\n",
       "      <th>2</th>\n",
       "      <td>25</td>\n",
       "      <td>2009-08-07</td>\n",
       "      <td>15:40:00</td>\n",
       "      <td>15</td>\n",
       "      <td>6TH CAMBRIA</td>\n",
       "      <td>Other Assaults</td>\n",
       "      <td>8</td>\n",
       "      <td>NaN</td>\n",
       "      <td>NaN</td>\n",
       "      <td>2009</td>\n",
       "    </tr>\n",
       "    <tr>\n",
       "      <th>3</th>\n",
       "      <td>35</td>\n",
       "      <td>2009-07-19</td>\n",
       "      <td>01:09:00</td>\n",
       "      <td>1</td>\n",
       "      <td>5500 BLOCK N 5TH ST</td>\n",
       "      <td>Weapon Violations</td>\n",
       "      <td>7</td>\n",
       "      <td>-75.130477</td>\n",
       "      <td>40.036389</td>\n",
       "      <td>2009</td>\n",
       "    </tr>\n",
       "    <tr>\n",
       "      <th>4</th>\n",
       "      <td>9</td>\n",
       "      <td>2009-06-25</td>\n",
       "      <td>00:14:00</td>\n",
       "      <td>0</td>\n",
       "      <td>1800 BLOCK WYLIE ST</td>\n",
       "      <td>All Other Offenses</td>\n",
       "      <td>6</td>\n",
       "      <td>-75.166350</td>\n",
       "      <td>39.969532</td>\n",
       "      <td>2009</td>\n",
       "    </tr>\n",
       "    <tr>\n",
       "      <th>...</th>\n",
       "      <td>...</td>\n",
       "      <td>...</td>\n",
       "      <td>...</td>\n",
       "      <td>...</td>\n",
       "      <td>...</td>\n",
       "      <td>...</td>\n",
       "      <td>...</td>\n",
       "      <td>...</td>\n",
       "      <td>...</td>\n",
       "      <td>...</td>\n",
       "    </tr>\n",
       "    <tr>\n",
       "      <th>2150758</th>\n",
       "      <td>25</td>\n",
       "      <td>2016-12-28</td>\n",
       "      <td>20:24:00</td>\n",
       "      <td>20</td>\n",
       "      <td>200 BLOCK W LEHIGH AVE</td>\n",
       "      <td>Narcotic / Drug Law Violations</td>\n",
       "      <td>12</td>\n",
       "      <td>-75.134880</td>\n",
       "      <td>39.991461</td>\n",
       "      <td>2016</td>\n",
       "    </tr>\n",
       "    <tr>\n",
       "      <th>2150759</th>\n",
       "      <td>19</td>\n",
       "      <td>2016-12-28</td>\n",
       "      <td>15:54:00</td>\n",
       "      <td>15</td>\n",
       "      <td>5300 BLOCK GAINOR RD</td>\n",
       "      <td>Fraud</td>\n",
       "      <td>12</td>\n",
       "      <td>-75.230457</td>\n",
       "      <td>39.989421</td>\n",
       "      <td>2016</td>\n",
       "    </tr>\n",
       "    <tr>\n",
       "      <th>2150760</th>\n",
       "      <td>77</td>\n",
       "      <td>2016-12-28</td>\n",
       "      <td>18:48:00</td>\n",
       "      <td>18</td>\n",
       "      <td>0 BLOCK PIA WAY</td>\n",
       "      <td>Fraud</td>\n",
       "      <td>12</td>\n",
       "      <td>-75.232354</td>\n",
       "      <td>39.883546</td>\n",
       "      <td>2016</td>\n",
       "    </tr>\n",
       "    <tr>\n",
       "      <th>2150761</th>\n",
       "      <td>9</td>\n",
       "      <td>2016-12-28</td>\n",
       "      <td>10:14:00</td>\n",
       "      <td>10</td>\n",
       "      <td>1600 BLOCK MARKET ST</td>\n",
       "      <td>Forgery and Counterfeiting</td>\n",
       "      <td>12</td>\n",
       "      <td>-75.168407</td>\n",
       "      <td>39.952938</td>\n",
       "      <td>2016</td>\n",
       "    </tr>\n",
       "    <tr>\n",
       "      <th>2150762</th>\n",
       "      <td>18</td>\n",
       "      <td>2016-12-28</td>\n",
       "      <td>20:57:00</td>\n",
       "      <td>20</td>\n",
       "      <td>5900 BLOCK CHRISTIAN ST</td>\n",
       "      <td>Aggravated Assault No Firearm</td>\n",
       "      <td>12</td>\n",
       "      <td>-75.243315</td>\n",
       "      <td>39.949455</td>\n",
       "      <td>2016</td>\n",
       "    </tr>\n",
       "  </tbody>\n",
       "</table>\n",
       "<p>2118390 rows × 10 columns</p>\n",
       "</div>"
      ],
      "text/plain": [
       "         Dc_Dist Dispatch_Date Dispatch_Time  Hour         Location_of_Crime  \\\n",
       "0             18    2009-10-02      14:24:00    14  S 38TH ST  / MARKETUT ST   \n",
       "1             14    2009-05-10      00:55:00     0          8500 BLOCK MITCH   \n",
       "2             25    2009-08-07      15:40:00    15               6TH CAMBRIA   \n",
       "3             35    2009-07-19      01:09:00     1       5500 BLOCK N 5TH ST   \n",
       "4              9    2009-06-25      00:14:00     0       1800 BLOCK WYLIE ST   \n",
       "...          ...           ...           ...   ...                       ...   \n",
       "2150758       25    2016-12-28      20:24:00    20    200 BLOCK W LEHIGH AVE   \n",
       "2150759       19    2016-12-28      15:54:00    15      5300 BLOCK GAINOR RD   \n",
       "2150760       77    2016-12-28      18:48:00    18           0 BLOCK PIA WAY   \n",
       "2150761        9    2016-12-28      10:14:00    10      1600 BLOCK MARKET ST   \n",
       "2150762       18    2016-12-28      20:57:00    20   5900 BLOCK CHRISTIAN ST   \n",
       "\n",
       "                      Crime_Description  Month        Lon        Lat  Year  \n",
       "0                        Other Assaults     10        NaN        NaN  2009  \n",
       "1                    All Other Offenses      5        NaN        NaN  2009  \n",
       "2                        Other Assaults      8        NaN        NaN  2009  \n",
       "3                     Weapon Violations      7 -75.130477  40.036389  2009  \n",
       "4                    All Other Offenses      6 -75.166350  39.969532  2009  \n",
       "...                                 ...    ...        ...        ...   ...  \n",
       "2150758  Narcotic / Drug Law Violations     12 -75.134880  39.991461  2016  \n",
       "2150759                           Fraud     12 -75.230457  39.989421  2016  \n",
       "2150760                           Fraud     12 -75.232354  39.883546  2016  \n",
       "2150761      Forgery and Counterfeiting     12 -75.168407  39.952938  2016  \n",
       "2150762   Aggravated Assault No Firearm     12 -75.243315  39.949455  2016  \n",
       "\n",
       "[2118390 rows x 10 columns]"
      ]
     },
     "execution_count": 20,
     "metadata": {},
     "output_type": "execute_result"
    }
   ],
   "source": [
    "crimes"
   ]
  },
  {
   "cell_type": "code",
   "execution_count": 29,
   "id": "ee46c35a",
   "metadata": {},
   "outputs": [
    {
     "data": {
      "text/plain": [
       "Text(0, 0.5, 'Types of Crime')"
      ]
     },
     "execution_count": 29,
     "metadata": {},
     "output_type": "execute_result"
    },
    {
     "data": {
      "image/png": "[encoded data removed]",
      "text/plain": [
       "<Figure size 640x480 with 1 Axes>"
      ]
     },
     "metadata": {},
     "output_type": "display_data"
    }
   ],
   "source": [
    "chart = crimes['Crime_Description'].value_counts()\\\n",
    ".head(10).plot(kind='barh', title='Top 10 types of Crimes Committed in Philadelphia (2006-2016)')\n",
    "chart.set_xlabel('Count of Crimes Committed', fontsize=14)\n",
    "chart.set_ylabel('Types of Crime', fontsize=14)"
   ]
  },
  {
   "cell_type": "code",
   "execution_count": 23,
   "id": "fbb4602b",
   "metadata": {},
   "outputs": [],
   "source": [
    "#crimes['Crime_Description'].value_counts()"
   ]
  },
  {
   "cell_type": "code",
   "execution_count": null,
   "id": "543d5b5a",
   "metadata": {},
   "outputs": [],
   "source": [
    "#help(crime.plot)"
   ]
  },
  {
   "cell_type": "code",
   "execution_count": 30,
   "id": "d311703c",
   "metadata": {},
   "outputs": [
    {
     "data": {
      "text/plain": [
       "<Axes: xlabel='Year'>"
      ]
     },
     "execution_count": 30,
     "metadata": {},
     "output_type": "execute_result"
    },
    {
     "data": {
      "image/png": "[encoded data removed]",
      "text/plain": [
       "<Figure size 640x480 with 1 Axes>"
      ]
     },
     "metadata": {},
     "output_type": "display_data"
    }
   ],
   "source": [
    "crimes['Year'].value_counts().plot(kind='line',yticks=range(10000,250000,20000))"
   ]
  },
  {
   "cell_type": "code",
   "execution_count": 31,
   "id": "3e1047d7",
   "metadata": {},
   "outputs": [
    {
     "data": {
      "text/plain": [
       "Text(0.5, 0, 'Hour of the Day')"
      ]
     },
     "execution_count": 31,
     "metadata": {},
     "output_type": "execute_result"
    },
    {
     "data": {
      "image/png": "[encoded data removed]",
      "text/plain": [
       "<Figure size 640x480 with 1 Axes>"
      ]
     },
     "metadata": {},
     "output_type": "display_data"
    }
   ],
   "source": [
    "crimes2=crime['Hour'].plot(kind='hist',bins=20,xticks=range(0,24,2),\n",
    "                                              title='Time of Day (in hours) That Crime Occurs')\n",
    "crimes2.set_ylabel('Number of Crimes Committed')\n",
    "crimes2.set_xlabel('Hour of the Day')"
   ]
  },
  {
   "cell_type": "code",
   "execution_count": null,
   "id": "43a95626",
   "metadata": {},
   "outputs": [],
   "source": [
    "#crime.value_counts('Crime_Description')"
   ]
  },
  {
   "cell_type": "markdown",
   "id": "c9a2563c",
   "metadata": {},
   "source": [
    "note value_counts.sort_index()"
   ]
  },
  {
   "cell_type": "code",
   "execution_count": 25,
   "id": "21a351c2",
   "metadata": {},
   "outputs": [],
   "source": [
    "spec_crime= crime.query('Crime_Description != \"All Other Offenses\" and Crime_Description !=\"Other Assaults\"')"
   ]
  },
  {
   "cell_type": "code",
   "execution_count": 26,
   "id": "e3e0df40",
   "metadata": {},
   "outputs": [
    {
     "data": {
      "text/plain": [
       "(1522692, 10)"
      ]
     },
     "execution_count": 26,
     "metadata": {},
     "output_type": "execute_result"
    }
   ],
   "source": [
    "spec_crime.shape"
   ]
  },
  {
   "cell_type": "code",
   "execution_count": 27,
   "id": "376fe227",
   "metadata": {},
   "outputs": [],
   "source": [
    "top10=spec_crime['Crime_Description'].value_counts().head(20)\n",
    "topcrime = [i.title() for i in top10.index if i]"
   ]
  },
  {
   "cell_type": "code",
   "execution_count": 28,
   "id": "209d6c11",
   "metadata": {},
   "outputs": [
    {
     "data": {
      "text/plain": [
       "['Thefts',\n",
       " 'Vandalism/Criminal Mischief',\n",
       " 'Theft From Vehicle',\n",
       " 'Narcotic / Drug Law Violations',\n",
       " 'Fraud',\n",
       " 'Recovered Stolen Motor Vehicle',\n",
       " 'Burglary Residential',\n",
       " 'Aggravated Assault No Firearm',\n",
       " 'Driving Under The Influence',\n",
       " 'Robbery No Firearm',\n",
       " 'Motor Vehicle Theft',\n",
       " 'Robbery Firearm',\n",
       " 'Disorderly Conduct',\n",
       " 'Aggravated Assault Firearm',\n",
       " 'Burglary Non-Residential',\n",
       " 'Weapon Violations',\n",
       " 'Other Sex Offenses (Not Commercialized)',\n",
       " 'Prostitution And Commercialized Vice',\n",
       " 'Rape',\n",
       " 'Vagrancy/Loitering']"
      ]
     },
     "execution_count": 28,
     "metadata": {},
     "output_type": "execute_result"
    }
   ],
   "source": [
    "topcrime"
   ]
  },
  {
   "cell_type": "code",
   "execution_count": 29,
   "id": "cfeb1315",
   "metadata": {},
   "outputs": [],
   "source": [
    "topcrimes = crimes[crimes['Crime_Description'].isin(topcrime)]"
   ]
  },
  {
   "cell_type": "code",
   "execution_count": 30,
   "id": "41e5773c",
   "metadata": {},
   "outputs": [
    {
     "data": {
      "text/plain": [
       "(1223572, 10)"
      ]
     },
     "execution_count": 30,
     "metadata": {},
     "output_type": "execute_result"
    }
   ],
   "source": [
    "topcrimes.shape"
   ]
  },
  {
   "cell_type": "code",
   "execution_count": 31,
   "id": "958b3869",
   "metadata": {},
   "outputs": [
    {
     "data": {
      "text/plain": [
       "Crime_Description\n",
       "Thefts                                     252943\n",
       "Vandalism/Criminal Mischief                196938\n",
       "Narcotic / Drug Law Violations             134084\n",
       "Fraud                                      111037\n",
       "Recovered Stolen Motor Vehicle              93675\n",
       "Burglary Residential                        93035\n",
       "Aggravated Assault No Firearm               66945\n",
       "Robbery No Firearm                          51200\n",
       "Motor Vehicle Theft                         45978\n",
       "Robbery Firearm                             39946\n",
       "Disorderly Conduct                          38034\n",
       "Aggravated Assault Firearm                  26414\n",
       "Burglary Non-Residential                    22024\n",
       "Weapon Violations                           18570\n",
       "Other Sex Offenses (Not Commercialized)     14888\n",
       "Rape                                        11584\n",
       "Vagrancy/Loitering                           6277\n",
       "Name: count, dtype: int64"
      ]
     },
     "execution_count": 31,
     "metadata": {},
     "output_type": "execute_result"
    }
   ],
   "source": [
    "topcrimes['Crime_Description'].value_counts()"
   ]
  },
  {
   "cell_type": "code",
   "execution_count": 32,
   "id": "987e30da",
   "metadata": {},
   "outputs": [],
   "source": [
    "#crime.dropna(axis=0, subset=['Lat','Lon'], inplace=True)\n",
    "order = topcrimes['Crime_Description'].value_counts().index\n",
    "orders = [i for i in order if i]"
   ]
  },
  {
   "cell_type": "code",
   "execution_count": 33,
   "id": "cc3df2f8",
   "metadata": {},
   "outputs": [
    {
     "data": {
      "text/plain": [
       "['Thefts',\n",
       " 'Vandalism/Criminal Mischief',\n",
       " 'Narcotic / Drug Law Violations',\n",
       " 'Fraud',\n",
       " 'Recovered Stolen Motor Vehicle',\n",
       " 'Burglary Residential',\n",
       " 'Aggravated Assault No Firearm',\n",
       " 'Robbery No Firearm',\n",
       " 'Motor Vehicle Theft',\n",
       " 'Robbery Firearm',\n",
       " 'Disorderly Conduct',\n",
       " 'Aggravated Assault Firearm',\n",
       " 'Burglary Non-Residential',\n",
       " 'Weapon Violations',\n",
       " 'Other Sex Offenses (Not Commercialized)',\n",
       " 'Rape',\n",
       " 'Vagrancy/Loitering']"
      ]
     },
     "execution_count": 33,
     "metadata": {},
     "output_type": "execute_result"
    }
   ],
   "source": [
    "orders"
   ]
  },
  {
   "cell_type": "code",
   "execution_count": 34,
   "id": "a265f449",
   "metadata": {},
   "outputs": [
    {
     "data": {
      "text/plain": [
       "['Vagrancy/Loitering',\n",
       " 'Rape',\n",
       " 'Other Sex Offenses (Not Commercialized)',\n",
       " 'Weapon Violations',\n",
       " 'Burglary Non-Residential',\n",
       " 'Aggravated Assault Firearm',\n",
       " 'Disorderly Conduct',\n",
       " 'Robbery Firearm',\n",
       " 'Motor Vehicle Theft',\n",
       " 'Robbery No Firearm',\n",
       " 'Aggravated Assault No Firearm',\n",
       " 'Burglary Residential',\n",
       " 'Recovered Stolen Motor Vehicle',\n",
       " 'Fraud',\n",
       " 'Narcotic / Drug Law Violations',\n",
       " 'Vandalism/Criminal Mischief',\n",
       " 'Thefts']"
      ]
     },
     "execution_count": 34,
     "metadata": {},
     "output_type": "execute_result"
    }
   ],
   "source": [
    "#rearrange the order so that the top crimes will be the last 'layer'\n",
    "x = orders[::-1]\n",
    "x"
   ]
  },
  {
   "cell_type": "code",
   "execution_count": 35,
   "id": "9ed3cb28",
   "metadata": {},
   "outputs": [
    {
     "data": {
      "text/plain": [
       "<seaborn.axisgrid.FacetGrid at 0x141797290>"
      ]
     },
     "execution_count": 35,
     "metadata": {},
     "output_type": "execute_result"
    },
    {
     "data": {
      "image/png": "[encoded data removed]",
      "text/plain": [
       "<Figure size 840.125x500 with 1 Axes>"
      ]
     },
     "metadata": {},
     "output_type": "display_data"
    }
   ],
   "source": [
    "sea.lmplot(data=crimes, x='Lat',y='Lon', hue='Crime_Description', palette= 'husl'\\\n",
    "           ,fit_reg=False,hue_order=x)"
   ]
  },
  {
   "cell_type": "code",
   "execution_count": null,
   "id": "ec953737",
   "metadata": {},
   "outputs": [],
   "source": [
    "#Q1: Which year saw the most rapes? Which month of that year saw the most rapes?"
   ]
  },
  {
   "cell_type": "code",
   "execution_count": 44,
   "id": "9ec5d7fb",
   "metadata": {},
   "outputs": [],
   "source": [
    "rp = crimes.loc[crimes['Crime_Description']=='Rape']"
   ]
  },
  {
   "cell_type": "code",
   "execution_count": 45,
   "id": "6b3b0aff",
   "metadata": {},
   "outputs": [
    {
     "data": {
      "text/plain": [
       "Year\n",
       "2015    1298\n",
       "2013    1275\n",
       "2014    1207\n",
       "2016    1161\n",
       "2007    1041\n",
       "2008    1036\n",
       "2006    1021\n",
       "2009     913\n",
       "2010     912\n",
       "2012     890\n",
       "2011     830\n",
       "Name: count, dtype: int64"
      ]
     },
     "execution_count": 45,
     "metadata": {},
     "output_type": "execute_result"
    }
   ],
   "source": [
    "rp.value_counts('Year')"
   ]
  },
  {
   "cell_type": "code",
   "execution_count": null,
   "id": "c6f551dc",
   "metadata": {},
   "outputs": [],
   "source": [
    "#rape['Year'].value_counts().sort_index().plot(kind='bar')\n",
    "# The most rapes occured in 2015"
   ]
  },
  {
   "cell_type": "code",
   "execution_count": 49,
   "id": "ce47fe99",
   "metadata": {},
   "outputs": [
    {
     "data": {
      "text/plain": [
       "Month\n",
       "7     124\n",
       "5     123\n",
       "4     118\n",
       "3     115\n",
       "8     115\n",
       "6     114\n",
       "11    111\n",
       "9     110\n",
       "1     100\n",
       "12     98\n",
       "2      86\n",
       "10     84\n",
       "Name: count, dtype: int64"
      ]
     },
     "execution_count": 49,
     "metadata": {},
     "output_type": "execute_result"
    }
   ],
   "source": [
    "rpe2015 = rp.query('Year == 2015')\n",
    "\n",
    "#Next step is to determine in which month did the most rapes occur\n",
    "\n",
    "rpe2015['Month'].value_counts()\n",
    "#The most rapes occured in the month of July (7)"
   ]
  },
  {
   "cell_type": "code",
   "execution_count": 47,
   "id": "f0c8c5fa",
   "metadata": {},
   "outputs": [],
   "source": [
    "amt_rpe = rpe2015['Month'].value_counts().tolist()[0] #to get the actual amount of rapes that occured in July\n",
    "month_rpe = rpe2015['Month'].value_counts().index[0] "
   ]
  },
  {
   "cell_type": "code",
   "execution_count": 48,
   "id": "2a0c55bb",
   "metadata": {},
   "outputs": [
    {
     "data": {
      "text/plain": [
       "'In 2015, the month with the most rapes occured in the 7th month with a total of 124 rapes.'"
      ]
     },
     "execution_count": 48,
     "metadata": {},
     "output_type": "execute_result"
    }
   ],
   "source": [
    "f'In 2015, the month with the most rapes occured in the {month_rpe}th month with a total of {amt_rpe} rapes.'"
   ]
  },
  {
   "cell_type": "code",
   "execution_count": 37,
   "id": "b43cbad6",
   "metadata": {},
   "outputs": [
    {
     "data": {
      "text/html": [
       "<div>\n",
       "<style scoped>\n",
       "    .dataframe tbody tr th:only-of-type {\n",
       "        vertical-align: middle;\n",
       "    }\n",
       "\n",
       "    .dataframe tbody tr th {\n",
       "        vertical-align: top;\n",
       "    }\n",
       "\n",
       "    .dataframe thead th {\n",
       "        text-align: right;\n",
       "    }\n",
       "</style>\n",
       "<table border=\"1\" class=\"dataframe\">\n",
       "  <thead>\n",
       "    <tr style=\"text-align: right;\">\n",
       "      <th></th>\n",
       "      <th>Dc_Dist</th>\n",
       "      <th>Dispatch_Date</th>\n",
       "      <th>Dispatch_Time</th>\n",
       "      <th>Hour</th>\n",
       "      <th>Location_of_Crime</th>\n",
       "      <th>Crime_Description</th>\n",
       "      <th>Month</th>\n",
       "      <th>Lon</th>\n",
       "      <th>Lat</th>\n",
       "      <th>Year</th>\n",
       "    </tr>\n",
       "  </thead>\n",
       "  <tbody>\n",
       "    <tr>\n",
       "      <th>1360</th>\n",
       "      <td>15</td>\n",
       "      <td>2014-04-09</td>\n",
       "      <td>23:45:00</td>\n",
       "      <td>23</td>\n",
       "      <td>5000 BLOCK F ST</td>\n",
       "      <td>Homicide - Criminal</td>\n",
       "      <td>4</td>\n",
       "      <td>-75.109796</td>\n",
       "      <td>40.025738</td>\n",
       "      <td>2014</td>\n",
       "    </tr>\n",
       "    <tr>\n",
       "      <th>45598</th>\n",
       "      <td>23</td>\n",
       "      <td>2009-01-24</td>\n",
       "      <td>03:22:00</td>\n",
       "      <td>3</td>\n",
       "      <td>1700 BLOCK N 24TH ST</td>\n",
       "      <td>Homicide - Criminal</td>\n",
       "      <td>1</td>\n",
       "      <td>-75.174150</td>\n",
       "      <td>39.980802</td>\n",
       "      <td>2009</td>\n",
       "    </tr>\n",
       "    <tr>\n",
       "      <th>45720</th>\n",
       "      <td>23</td>\n",
       "      <td>2009-02-23</td>\n",
       "      <td>22:51:00</td>\n",
       "      <td>22</td>\n",
       "      <td>1300 BLOCK N 10TH ST</td>\n",
       "      <td>Homicide - Criminal</td>\n",
       "      <td>2</td>\n",
       "      <td>-75.152084</td>\n",
       "      <td>39.973097</td>\n",
       "      <td>2009</td>\n",
       "    </tr>\n",
       "    <tr>\n",
       "      <th>45721</th>\n",
       "      <td>23</td>\n",
       "      <td>2009-02-24</td>\n",
       "      <td>01:51:00</td>\n",
       "      <td>1</td>\n",
       "      <td>1300 BLOCK N 10TH ST</td>\n",
       "      <td>Homicide - Criminal</td>\n",
       "      <td>2</td>\n",
       "      <td>-75.152084</td>\n",
       "      <td>39.973097</td>\n",
       "      <td>2009</td>\n",
       "    </tr>\n",
       "    <tr>\n",
       "      <th>45722</th>\n",
       "      <td>24</td>\n",
       "      <td>2009-01-08</td>\n",
       "      <td>15:04:00</td>\n",
       "      <td>15</td>\n",
       "      <td>1800 BLOCK HART LANE ST</td>\n",
       "      <td>Homicide - Criminal</td>\n",
       "      <td>1</td>\n",
       "      <td>NaN</td>\n",
       "      <td>NaN</td>\n",
       "      <td>2009</td>\n",
       "    </tr>\n",
       "    <tr>\n",
       "      <th>...</th>\n",
       "      <td>...</td>\n",
       "      <td>...</td>\n",
       "      <td>...</td>\n",
       "      <td>...</td>\n",
       "      <td>...</td>\n",
       "      <td>...</td>\n",
       "      <td>...</td>\n",
       "      <td>...</td>\n",
       "      <td>...</td>\n",
       "      <td>...</td>\n",
       "    </tr>\n",
       "    <tr>\n",
       "      <th>2146974</th>\n",
       "      <td>15</td>\n",
       "      <td>2016-11-28</td>\n",
       "      <td>21:01:00</td>\n",
       "      <td>21</td>\n",
       "      <td>2900 BLOCK DEVEREAUX AVE</td>\n",
       "      <td>Homicide - Criminal</td>\n",
       "      <td>11</td>\n",
       "      <td>-75.065621</td>\n",
       "      <td>40.029019</td>\n",
       "      <td>2016</td>\n",
       "    </tr>\n",
       "    <tr>\n",
       "      <th>2148631</th>\n",
       "      <td>14</td>\n",
       "      <td>2016-12-27</td>\n",
       "      <td>12:31:00</td>\n",
       "      <td>12</td>\n",
       "      <td>800 BLOCK W WALNUT LA</td>\n",
       "      <td>Homicide - Criminal</td>\n",
       "      <td>12</td>\n",
       "      <td>-75.195278</td>\n",
       "      <td>40.032753</td>\n",
       "      <td>2016</td>\n",
       "    </tr>\n",
       "    <tr>\n",
       "      <th>2149833</th>\n",
       "      <td>7</td>\n",
       "      <td>2016-11-19</td>\n",
       "      <td>21:47:00</td>\n",
       "      <td>21</td>\n",
       "      <td>13500 BLOCK BUSTLETON AVE</td>\n",
       "      <td>Homicide - Criminal</td>\n",
       "      <td>11</td>\n",
       "      <td>-75.013869</td>\n",
       "      <td>40.129004</td>\n",
       "      <td>2016</td>\n",
       "    </tr>\n",
       "    <tr>\n",
       "      <th>2150692</th>\n",
       "      <td>24</td>\n",
       "      <td>2016-12-19</td>\n",
       "      <td>01:39:00</td>\n",
       "      <td>1</td>\n",
       "      <td>1800 BLOCK E CLEMENTINE ST</td>\n",
       "      <td>Homicide - Criminal</td>\n",
       "      <td>12</td>\n",
       "      <td>-75.114421</td>\n",
       "      <td>39.995054</td>\n",
       "      <td>2016</td>\n",
       "    </tr>\n",
       "    <tr>\n",
       "      <th>2150722</th>\n",
       "      <td>25</td>\n",
       "      <td>2016-12-28</td>\n",
       "      <td>18:30:00</td>\n",
       "      <td>18</td>\n",
       "      <td>1300 BLOCK W BUTLER ST</td>\n",
       "      <td>Homicide - Criminal</td>\n",
       "      <td>12</td>\n",
       "      <td>-75.148736</td>\n",
       "      <td>40.010527</td>\n",
       "      <td>2016</td>\n",
       "    </tr>\n",
       "  </tbody>\n",
       "</table>\n",
       "<p>3406 rows × 10 columns</p>\n",
       "</div>"
      ],
      "text/plain": [
       "         Dc_Dist Dispatch_Date Dispatch_Time  Hour  \\\n",
       "1360          15    2014-04-09      23:45:00    23   \n",
       "45598         23    2009-01-24      03:22:00     3   \n",
       "45720         23    2009-02-23      22:51:00    22   \n",
       "45721         23    2009-02-24      01:51:00     1   \n",
       "45722         24    2009-01-08      15:04:00    15   \n",
       "...          ...           ...           ...   ...   \n",
       "2146974       15    2016-11-28      21:01:00    21   \n",
       "2148631       14    2016-12-27      12:31:00    12   \n",
       "2149833        7    2016-11-19      21:47:00    21   \n",
       "2150692       24    2016-12-19      01:39:00     1   \n",
       "2150722       25    2016-12-28      18:30:00    18   \n",
       "\n",
       "                  Location_of_Crime    Crime_Description  Month        Lon  \\\n",
       "1360                5000 BLOCK F ST  Homicide - Criminal      4 -75.109796   \n",
       "45598          1700 BLOCK N 24TH ST  Homicide - Criminal      1 -75.174150   \n",
       "45720          1300 BLOCK N 10TH ST  Homicide - Criminal      2 -75.152084   \n",
       "45721          1300 BLOCK N 10TH ST  Homicide - Criminal      2 -75.152084   \n",
       "45722       1800 BLOCK HART LANE ST  Homicide - Criminal      1        NaN   \n",
       "...                             ...                  ...    ...        ...   \n",
       "2146974    2900 BLOCK DEVEREAUX AVE  Homicide - Criminal     11 -75.065621   \n",
       "2148631       800 BLOCK W WALNUT LA  Homicide - Criminal     12 -75.195278   \n",
       "2149833   13500 BLOCK BUSTLETON AVE  Homicide - Criminal     11 -75.013869   \n",
       "2150692  1800 BLOCK E CLEMENTINE ST  Homicide - Criminal     12 -75.114421   \n",
       "2150722      1300 BLOCK W BUTLER ST  Homicide - Criminal     12 -75.148736   \n",
       "\n",
       "               Lat  Year  \n",
       "1360     40.025738  2014  \n",
       "45598    39.980802  2009  \n",
       "45720    39.973097  2009  \n",
       "45721    39.973097  2009  \n",
       "45722          NaN  2009  \n",
       "...            ...   ...  \n",
       "2146974  40.029019  2016  \n",
       "2148631  40.032753  2016  \n",
       "2149833  40.129004  2016  \n",
       "2150692  39.995054  2016  \n",
       "2150722  40.010527  2016  \n",
       "\n",
       "[3406 rows x 10 columns]"
      ]
     },
     "execution_count": 37,
     "metadata": {},
     "output_type": "execute_result"
    }
   ],
   "source": [
    "# Q2: Over the span of all the years (2006-2016), which police district saw the most homicides?\n",
    "#ignore NaNs : na=false\n",
    "#homicide: criminal, justifiable, gross negligence\n",
    "homi = crimes[crimes['Crime_Description'].str.contains('^Hom.*',na=False)]\n",
    "homi"
   ]
  },
  {
   "cell_type": "code",
   "execution_count": 38,
   "id": "cc3533e4",
   "metadata": {},
   "outputs": [
    {
     "data": {
      "text/plain": [
       "Crime_Description\n",
       "Homicide - Criminal            3356\n",
       "Homicide - Justifiable           41\n",
       "Homicide - Gross Negligence       9\n",
       "Name: count, dtype: int64"
      ]
     },
     "execution_count": 38,
     "metadata": {},
     "output_type": "execute_result"
    }
   ],
   "source": [
    "homi['Crime_Description'].value_counts()"
   ]
  },
  {
   "cell_type": "code",
   "execution_count": 39,
   "id": "75fd4cd2",
   "metadata": {},
   "outputs": [
    {
     "data": {
      "text/plain": [
       "<matplotlib.legend.Legend at 0x145353ad0>"
      ]
     },
     "execution_count": 39,
     "metadata": {},
     "output_type": "execute_result"
    },
    {
     "data": {
      "image/png": "[encoded data removed]",
      "text/plain": [
       "<Figure size 640x480 with 1 Axes>"
      ]
     },
     "metadata": {},
     "output_type": "display_data"
    }
   ],
   "source": [
    "explode = [0, 1, 1]\n",
    "hom = homi['Crime_Description'].value_counts()\\\n",
    ".plot(kind='pie', title='Homicides (2006-2016)', legend=True,\n",
    "      autopct='%1.1f%%', explode=explode, labeldistance= None)\n",
    "hom.set_ylabel('')\n",
    "hom.legend(bbox_to_anchor=(1, 1.02),loc='upper left')\n"
   ]
  },
  {
   "cell_type": "code",
   "execution_count": 42,
   "id": "d841e5d3",
   "metadata": {},
   "outputs": [
    {
     "data": {
      "text/plain": [
       "Text(0, 0.5, 'Police Districts')"
      ]
     },
     "execution_count": 42,
     "metadata": {},
     "output_type": "execute_result"
    },
    {
     "data": {
      "image/png": "[encoded data removed]",
      "text/plain": [
       "<Figure size 640x480 with 1 Axes>"
      ]
     },
     "metadata": {},
     "output_type": "display_data"
    }
   ],
   "source": [
    "police_dist = homi['Dc_Dist'].value_counts().sort_index()\\\n",
    ".plot(kind='barh', title='Top 10 types of Crimes Committed in Philadelphia (2006-2016)')\n",
    "police_dist.set_xlabel('Homicides', fontsize=14)\n",
    "police_dist.set_ylabel('Police Districts', fontsize=14)"
   ]
  },
  {
   "cell_type": "code",
   "execution_count": null,
   "id": "86a694be",
   "metadata": {},
   "outputs": [],
   "source": []
  }
 ],
 "metadata": {
  "kernelspec": {
   "display_name": "Python 3 (ipykernel)",
   "language": "python",
   "name": "python3"
  },
  "language_info": {
   "codemirror_mode": {
    "name": "ipython",
    "version": 3
   },
   "file_extension": ".py",
   "mimetype": "text/x-python",
   "name": "python",
   "nbconvert_exporter": "python",
   "pygments_lexer": "ipython3",
   "version": "3.11.5"
  }
 },
 "nbformat": 4,
 "nbformat_minor": 5
}
