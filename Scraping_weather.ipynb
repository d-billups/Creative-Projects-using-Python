{
 "cells": [
  {
   "cell_type": "code",
   "execution_count": 235,
   "id": "d3c9685b",
   "metadata": {},
   "outputs": [],
   "source": [
    "from bs4 import BeautifulSoup\n",
    "import requests\n",
    "import pandas as pd\n",
    "\n",
    "#Lets get weather data\n",
    "#source: https://forecast.weather.gov"
   ]
  },
  {
   "cell_type": "code",
   "execution_count": 236,
   "id": "b8cd8a5b",
   "metadata": {},
   "outputs": [],
   "source": [
    "weather_page = requests.get(\"https://forecast.weather.gov/MapClick.php?lat=40.7175&lon=-74.0438\")\n",
    "soup = BeautifulSoup(weather_page.content, 'html.parser')\n",
    "#print(soup.prettify())"
   ]
  },
  {
   "cell_type": "code",
   "execution_count": 237,
   "id": "1ef288a5",
   "metadata": {},
   "outputs": [
    {
     "name": "stdout",
     "output_type": "stream",
     "text": [
      "Today\n",
      "ChanceShowers\n",
      "High: 73 °F\n"
     ]
    }
   ],
   "source": [
    "seven_day = soup.find(id=\"seven-day-forecast\")\n",
    "forecast_items = seven_day.find_all(class_=\"tombstone-container\")\n",
    "\n",
    "##Use this *today* template to create 7 day forecast\n",
    "today_info = forecast_items[0]\n",
    "day = today_info.find(class_='period-name').get_text()\n",
    "short_desc = today_info.find(class_='short-desc').get_text()\n",
    "temp = today_info.find(class_='temp temp-high').get_text()\n",
    "\n",
    "print(day, short_desc, temp, sep='\\n')\n",
    "\n",
    "#Note: will have to handle proper spacing in description section"
   ]
  },
  {
   "cell_type": "code",
   "execution_count": 239,
   "id": "8450cf86",
   "metadata": {},
   "outputs": [
    {
     "data": {
      "text/plain": [
       "['Today: A 50 percent chance of showers.  Cloudy, with a high near 73. Southeast wind 7 to 9 mph. ',\n",
       " 'Tonight: Showers, mainly after 2am.  Low around 65. East wind 6 to 8 mph.  Chance of precipitation is 80%. New precipitation amounts between a quarter and half of an inch possible. ',\n",
       " 'Saturday: Showers and possibly a thunderstorm. Some of the storms could produce heavy rain.  High near 70. East wind 5 to 11 mph becoming northwest in the afternoon.  Chance of precipitation is 80%. New rainfall amounts between three quarters and one inch possible. ',\n",
       " 'Saturday Night: Showers likely, mainly before 8pm.  Mostly cloudy during the early evening, then gradual clearing, with a low around 50. Northwest wind 13 to 15 mph.  Chance of precipitation is 60%. New precipitation amounts of less than a tenth of an inch possible. ',\n",
       " 'Sunday: Increasing clouds, with a high near 62. West wind 15 to 18 mph. ',\n",
       " 'Sunday Night: Partly cloudy, with a low around 48.',\n",
       " 'Columbus Day: Mostly sunny, with a high near 60.',\n",
       " 'Monday Night: A 30 percent chance of showers after 2am.  Mostly cloudy, with a low around 51.',\n",
       " 'Tuesday: A 30 percent chance of showers before 8am.  Partly sunny, with a high near 66.']"
      ]
     },
     "execution_count": 239,
     "metadata": {},
     "output_type": "execute_result"
    }
   ],
   "source": [
    "title_tag = seven_day.select('img')\n",
    "titles = [i['title'] for i in title_tag]\n",
    "\n",
    "titles"
   ]
  },
  {
   "cell_type": "code",
   "execution_count": 240,
   "id": "14704ffe",
   "metadata": {},
   "outputs": [
    {
     "data": {
      "text/plain": [
       "['Today',\n",
       " 'Tonight',\n",
       " 'Saturday',\n",
       " 'Saturday_Night',\n",
       " 'Sunday',\n",
       " 'Sunday_Night',\n",
       " 'Columbus_Day',\n",
       " 'Monday_Night',\n",
       " 'Tuesday']"
      ]
     },
     "execution_count": 240,
     "metadata": {},
     "output_type": "execute_result"
    }
   ],
   "source": [
    "#locate 7 day forecast\n",
    "seven_day = soup.find(id=\"seven-day-forecast\")\n",
    "\n",
    "grab_days = seven_day.select(\".tombstone-container .period-name\")\n",
    "\n",
    "day = [i.text for i in grab_days]\n",
    "\n",
    "#Have to create a string for the regex\n",
    "string_day =' '.join(day)\n",
    "\n",
    "import re\n",
    "\n",
    "#look for a pattern of lowercase letter followed by uppercase letter and put in a separator\n",
    "#but nothing too complicated since it will need to be split on whitespace to put back into\n",
    "# a list\n",
    "\n",
    "p = r'([a-z])([A-Z])'\n",
    " \n",
    "re_days = re.sub(p,r'\\1_\\2',string_day)\n",
    "\n",
    "#Put back into a list\n",
    "day_list = re_days.split()\n",
    "day_list"
   ]
  },
  {
   "cell_type": "code",
   "execution_count": 241,
   "id": "fcf541aa",
   "metadata": {},
   "outputs": [
    {
     "data": {
      "text/plain": [
       "['Chance Showers',\n",
       " 'Chance Showers then Showers',\n",
       " 'Heavy Rain',\n",
       " 'Showers Likely then Slight Chance Showers',\n",
       " 'Increasing Clouds',\n",
       " 'Partly Cloudy',\n",
       " 'Mostly Sunny',\n",
       " 'Mostly Cloudy then Chance Showers',\n",
       " 'Chance Showers then Partly Sunny']"
      ]
     },
     "execution_count": 241,
     "metadata": {},
     "output_type": "execute_result"
    }
   ],
   "source": [
    "#Grab the descriptive text\n",
    "\n",
    "grab_desc = seven_day.select(\".tombstone-container .short-desc\")\n",
    "desc = [i.text for i in grab_desc]\n",
    "\n",
    "\n",
    "#apply same regex as before\n",
    "\n",
    "re2 = r'([a-z])(and|then)'\n",
    "\n",
    "descrip = []\n",
    "for i in desc:\n",
    "    re_desc = re.sub(p,r'\\1 \\2',i) #Fix spacing --> SlightChanceShowers\n",
    "    re_desc2 = re.sub(re2,r'\\1 \\2',re_desc) #Had to add another to handle 'Cloudythen'\n",
    "    descrip.append(re_desc2)\n",
    "descrip"
   ]
  },
  {
   "cell_type": "code",
   "execution_count": 242,
   "id": "47e75378",
   "metadata": {},
   "outputs": [
    {
     "data": {
      "text/plain": [
       "['High: 73 °F',\n",
       " 'Low: 65 °F',\n",
       " 'High: 70 °F',\n",
       " 'Low: 50 °F',\n",
       " 'High: 62 °F',\n",
       " 'Low: 48 °F',\n",
       " 'High: 60 °F',\n",
       " 'Low: 51 °F',\n",
       " 'High: 66 °F']"
      ]
     },
     "execution_count": 242,
     "metadata": {},
     "output_type": "execute_result"
    }
   ],
   "source": [
    "grab_temp = seven_day.select(\".tombstone-container .temp\")\n",
    "temps = [i.text for i in grab_temp]\n",
    "\n",
    "temps"
   ]
  },
  {
   "cell_type": "code",
   "execution_count": 243,
   "id": "31c5d506",
   "metadata": {},
   "outputs": [],
   "source": [
    "#Create a weather dataframe\n",
    "\n",
    "weather = pd.DataFrame(columns=['Time_of_day','Feels_like','Temperature','Full_description'])"
   ]
  },
  {
   "cell_type": "code",
   "execution_count": 244,
   "id": "6af0d9ac",
   "metadata": {},
   "outputs": [],
   "source": [
    "#Populate the dataframe with the lists previously generated\n",
    "\n",
    "weather['Temperature']= [i for i in temps]\n",
    "weather['Feels_like']= [i for i in descrip]\n",
    "weather['Time_of_day']= [i for i in day_list]\n",
    "weather['Full_description']= [i for i in titles]"
   ]
  },
  {
   "cell_type": "code",
   "execution_count": 245,
   "id": "8ea52aad",
   "metadata": {},
   "outputs": [],
   "source": [
    "#expand the column widths so that all of the text shows\n",
    "\n",
    "pd.options.display.max_colwidth=150"
   ]
  },
  {
   "cell_type": "code",
   "execution_count": 246,
   "id": "fe49ecfc",
   "metadata": {},
   "outputs": [
    {
     "data": {
      "text/html": [
       "<div>\n",
       "<style scoped>\n",
       "    .dataframe tbody tr th:only-of-type {\n",
       "        vertical-align: middle;\n",
       "    }\n",
       "\n",
       "    .dataframe tbody tr th {\n",
       "        vertical-align: top;\n",
       "    }\n",
       "\n",
       "    .dataframe thead th {\n",
       "        text-align: right;\n",
       "    }\n",
       "</style>\n",
       "<table border=\"1\" class=\"dataframe\">\n",
       "  <thead>\n",
       "    <tr style=\"text-align: right;\">\n",
       "      <th></th>\n",
       "      <th>Time_of_day</th>\n",
       "      <th>Feels_like</th>\n",
       "      <th>Temperature</th>\n",
       "      <th>Full_description</th>\n",
       "    </tr>\n",
       "  </thead>\n",
       "  <tbody>\n",
       "    <tr>\n",
       "      <th>0</th>\n",
       "      <td>Today</td>\n",
       "      <td>Chance Showers</td>\n",
       "      <td>High: 73 °F</td>\n",
       "      <td>Today: A 50 percent chance of showers.  Cloudy, with a high near 73. Southeast wind 7 to 9 mph.</td>\n",
       "    </tr>\n",
       "    <tr>\n",
       "      <th>1</th>\n",
       "      <td>Tonight</td>\n",
       "      <td>Chance Showers then Showers</td>\n",
       "      <td>Low: 65 °F</td>\n",
       "      <td>Tonight: Showers, mainly after 2am.  Low around 65. East wind 6 to 8 mph.  Chance of precipitation is 80%. New precipitation amounts between a qua...</td>\n",
       "    </tr>\n",
       "    <tr>\n",
       "      <th>2</th>\n",
       "      <td>Saturday</td>\n",
       "      <td>Heavy Rain</td>\n",
       "      <td>High: 70 °F</td>\n",
       "      <td>Saturday: Showers and possibly a thunderstorm. Some of the storms could produce heavy rain.  High near 70. East wind 5 to 11 mph becoming northwes...</td>\n",
       "    </tr>\n",
       "    <tr>\n",
       "      <th>3</th>\n",
       "      <td>Saturday_Night</td>\n",
       "      <td>Showers Likely then Slight Chance Showers</td>\n",
       "      <td>Low: 50 °F</td>\n",
       "      <td>Saturday Night: Showers likely, mainly before 8pm.  Mostly cloudy during the early evening, then gradual clearing, with a low around 50. Northwest...</td>\n",
       "    </tr>\n",
       "    <tr>\n",
       "      <th>4</th>\n",
       "      <td>Sunday</td>\n",
       "      <td>Increasing Clouds</td>\n",
       "      <td>High: 62 °F</td>\n",
       "      <td>Sunday: Increasing clouds, with a high near 62. West wind 15 to 18 mph.</td>\n",
       "    </tr>\n",
       "    <tr>\n",
       "      <th>5</th>\n",
       "      <td>Sunday_Night</td>\n",
       "      <td>Partly Cloudy</td>\n",
       "      <td>Low: 48 °F</td>\n",
       "      <td>Sunday Night: Partly cloudy, with a low around 48.</td>\n",
       "    </tr>\n",
       "    <tr>\n",
       "      <th>6</th>\n",
       "      <td>Columbus_Day</td>\n",
       "      <td>Mostly Sunny</td>\n",
       "      <td>High: 60 °F</td>\n",
       "      <td>Columbus Day: Mostly sunny, with a high near 60.</td>\n",
       "    </tr>\n",
       "    <tr>\n",
       "      <th>7</th>\n",
       "      <td>Monday_Night</td>\n",
       "      <td>Mostly Cloudy then Chance Showers</td>\n",
       "      <td>Low: 51 °F</td>\n",
       "      <td>Monday Night: A 30 percent chance of showers after 2am.  Mostly cloudy, with a low around 51.</td>\n",
       "    </tr>\n",
       "    <tr>\n",
       "      <th>8</th>\n",
       "      <td>Tuesday</td>\n",
       "      <td>Chance Showers then Partly Sunny</td>\n",
       "      <td>High: 66 °F</td>\n",
       "      <td>Tuesday: A 30 percent chance of showers before 8am.  Partly sunny, with a high near 66.</td>\n",
       "    </tr>\n",
       "  </tbody>\n",
       "</table>\n",
       "</div>"
      ],
      "text/plain": [
       "      Time_of_day                                 Feels_like  Temperature  \\\n",
       "0           Today                             Chance Showers  High: 73 °F   \n",
       "1         Tonight                Chance Showers then Showers   Low: 65 °F   \n",
       "2        Saturday                                 Heavy Rain  High: 70 °F   \n",
       "3  Saturday_Night  Showers Likely then Slight Chance Showers   Low: 50 °F   \n",
       "4          Sunday                          Increasing Clouds  High: 62 °F   \n",
       "5    Sunday_Night                              Partly Cloudy   Low: 48 °F   \n",
       "6    Columbus_Day                               Mostly Sunny  High: 60 °F   \n",
       "7    Monday_Night          Mostly Cloudy then Chance Showers   Low: 51 °F   \n",
       "8         Tuesday           Chance Showers then Partly Sunny  High: 66 °F   \n",
       "\n",
       "                                                                                                                                        Full_description  \n",
       "0                                                       Today: A 50 percent chance of showers.  Cloudy, with a high near 73. Southeast wind 7 to 9 mph.   \n",
       "1  Tonight: Showers, mainly after 2am.  Low around 65. East wind 6 to 8 mph.  Chance of precipitation is 80%. New precipitation amounts between a qua...  \n",
       "2  Saturday: Showers and possibly a thunderstorm. Some of the storms could produce heavy rain.  High near 70. East wind 5 to 11 mph becoming northwes...  \n",
       "3  Saturday Night: Showers likely, mainly before 8pm.  Mostly cloudy during the early evening, then gradual clearing, with a low around 50. Northwest...  \n",
       "4                                                                               Sunday: Increasing clouds, with a high near 62. West wind 15 to 18 mph.   \n",
       "5                                                                                                     Sunday Night: Partly cloudy, with a low around 48.  \n",
       "6                                                                                                       Columbus Day: Mostly sunny, with a high near 60.  \n",
       "7                                                          Monday Night: A 30 percent chance of showers after 2am.  Mostly cloudy, with a low around 51.  \n",
       "8                                                                Tuesday: A 30 percent chance of showers before 8am.  Partly sunny, with a high near 66.  "
      ]
     },
     "execution_count": 246,
     "metadata": {},
     "output_type": "execute_result"
    }
   ],
   "source": [
    "weather"
   ]
  },
  {
   "cell_type": "code",
   "execution_count": null,
   "id": "ff32d097",
   "metadata": {},
   "outputs": [],
   "source": []
  }
 ],
 "metadata": {
  "kernelspec": {
   "display_name": "Python 3",
   "language": "python",
   "name": "python3"
  },
  "language_info": {
   "codemirror_mode": {
    "name": "ipython",
    "version": 3
   },
   "file_extension": ".py",
   "mimetype": "text/x-python",
   "name": "python",
   "nbconvert_exporter": "python",
   "pygments_lexer": "ipython3",
   "version": "3.8.8"
  }
 },
 "nbformat": 4,
 "nbformat_minor": 5
}
