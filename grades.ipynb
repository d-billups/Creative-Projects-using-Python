{
 "cells": [
  {
   "cell_type": "code",
   "execution_count": 2,
   "id": "684db798-9622-4636-9bbf-8711c844a567",
   "metadata": {
    "tags": []
   },
   "outputs": [],
   "source": [
    "import numpy as np\n",
    "import pandas as pd\n",
    "import regex as re"
   ]
  },
  {
   "cell_type": "code",
   "execution_count": 3,
   "id": "6c91bbd6-7c38-4ccd-a0ca-70d7f8256c97",
   "metadata": {
    "tags": []
   },
   "outputs": [],
   "source": [
    "#This program will use various methods to calculate each student's average based on the four (4) scores provided"
   ]
  },
  {
   "cell_type": "code",
   "execution_count": 4,
   "id": "1e541066-2161-45c2-ac1f-a9b41161d2a1",
   "metadata": {
    "tags": []
   },
   "outputs": [
    {
     "data": {
      "text/html": [
       "<div>\n",
       "<style scoped>\n",
       "    .dataframe tbody tr th:only-of-type {\n",
       "        vertical-align: middle;\n",
       "    }\n",
       "\n",
       "    .dataframe tbody tr th {\n",
       "        vertical-align: top;\n",
       "    }\n",
       "\n",
       "    .dataframe thead th {\n",
       "        text-align: right;\n",
       "    }\n",
       "</style>\n",
       "<table border=\"1\" class=\"dataframe\">\n",
       "  <thead>\n",
       "    <tr style=\"text-align: right;\">\n",
       "      <th></th>\n",
       "      <th>StudentID</th>\n",
       "      <th>Q1</th>\n",
       "      <th>Q2</th>\n",
       "      <th>Q3</th>\n",
       "      <th>Q4</th>\n",
       "    </tr>\n",
       "  </thead>\n",
       "  <tbody>\n",
       "    <tr>\n",
       "      <th>0</th>\n",
       "      <td>student1</td>\n",
       "      <td>89</td>\n",
       "      <td>76</td>\n",
       "      <td>82</td>\n",
       "      <td>56</td>\n",
       "    </tr>\n",
       "    <tr>\n",
       "      <th>1</th>\n",
       "      <td>student2</td>\n",
       "      <td>71</td>\n",
       "      <td>88</td>\n",
       "      <td>61</td>\n",
       "      <td>90</td>\n",
       "    </tr>\n",
       "    <tr>\n",
       "      <th>2</th>\n",
       "      <td>student3</td>\n",
       "      <td>71</td>\n",
       "      <td>80</td>\n",
       "      <td>84</td>\n",
       "      <td>65</td>\n",
       "    </tr>\n",
       "    <tr>\n",
       "      <th>3</th>\n",
       "      <td>student4</td>\n",
       "      <td>67</td>\n",
       "      <td>90</td>\n",
       "      <td>73</td>\n",
       "      <td>92</td>\n",
       "    </tr>\n",
       "    <tr>\n",
       "      <th>4</th>\n",
       "      <td>student5</td>\n",
       "      <td>79</td>\n",
       "      <td>91</td>\n",
       "      <td>81</td>\n",
       "      <td>76</td>\n",
       "    </tr>\n",
       "    <tr>\n",
       "      <th>5</th>\n",
       "      <td>student6</td>\n",
       "      <td>67</td>\n",
       "      <td>79</td>\n",
       "      <td>80</td>\n",
       "      <td>70</td>\n",
       "    </tr>\n",
       "    <tr>\n",
       "      <th>6</th>\n",
       "      <td>student7</td>\n",
       "      <td>69</td>\n",
       "      <td>91</td>\n",
       "      <td>73</td>\n",
       "      <td>65</td>\n",
       "    </tr>\n",
       "    <tr>\n",
       "      <th>7</th>\n",
       "      <td>student8</td>\n",
       "      <td>72</td>\n",
       "      <td>59</td>\n",
       "      <td>81</td>\n",
       "      <td>93</td>\n",
       "    </tr>\n",
       "    <tr>\n",
       "      <th>8</th>\n",
       "      <td>student9</td>\n",
       "      <td>68</td>\n",
       "      <td>88</td>\n",
       "      <td>92</td>\n",
       "      <td>76</td>\n",
       "    </tr>\n",
       "    <tr>\n",
       "      <th>9</th>\n",
       "      <td>student10</td>\n",
       "      <td>87</td>\n",
       "      <td>83</td>\n",
       "      <td>79</td>\n",
       "      <td>89</td>\n",
       "    </tr>\n",
       "  </tbody>\n",
       "</table>\n",
       "</div>"
      ],
      "text/plain": [
       "   StudentID  Q1  Q2  Q3  Q4\n",
       "0   student1  89  76  82  56\n",
       "1   student2  71  88  61  90\n",
       "2   student3  71  80  84  65\n",
       "3   student4  67  90  73  92\n",
       "4   student5  79  91  81  76\n",
       "5   student6  67  79  80  70\n",
       "6   student7  69  91  73  65\n",
       "7   student8  72  59  81  93\n",
       "8   student9  68  88  92  76\n",
       "9  student10  87  83  79  89"
      ]
     },
     "execution_count": 4,
     "metadata": {},
     "output_type": "execute_result"
    }
   ],
   "source": [
    "#Read the data in\n",
    "\n",
    "scores = pd.read_csv('useful_datasets/grades.txt')\n",
    "scores"
   ]
  },
  {
   "cell_type": "code",
   "execution_count": 5,
   "id": "e52b3eb7-2ee9-4578-a433-56d815319494",
   "metadata": {
    "tags": []
   },
   "outputs": [],
   "source": [
    "#Create an average column using .mean **be sure to specify numeric only columns since you cannot take the mean of \n",
    "#'student1' for example\n",
    "\n",
    "scores['Average'] = scores.mean(axis=1,numeric_only=True) #each row"
   ]
  },
  {
   "cell_type": "code",
   "execution_count": 6,
   "id": "7c41c897-0eb6-4231-b1d7-dc67a028b1bf",
   "metadata": {
    "tags": []
   },
   "outputs": [
    {
     "data": {
      "text/html": [
       "<div>\n",
       "<style scoped>\n",
       "    .dataframe tbody tr th:only-of-type {\n",
       "        vertical-align: middle;\n",
       "    }\n",
       "\n",
       "    .dataframe tbody tr th {\n",
       "        vertical-align: top;\n",
       "    }\n",
       "\n",
       "    .dataframe thead th {\n",
       "        text-align: right;\n",
       "    }\n",
       "</style>\n",
       "<table border=\"1\" class=\"dataframe\">\n",
       "  <thead>\n",
       "    <tr style=\"text-align: right;\">\n",
       "      <th></th>\n",
       "      <th>StudentID</th>\n",
       "      <th>Q1</th>\n",
       "      <th>Q2</th>\n",
       "      <th>Q3</th>\n",
       "      <th>Q4</th>\n",
       "      <th>Average</th>\n",
       "    </tr>\n",
       "  </thead>\n",
       "  <tbody>\n",
       "    <tr>\n",
       "      <th>0</th>\n",
       "      <td>student1</td>\n",
       "      <td>89</td>\n",
       "      <td>76</td>\n",
       "      <td>82</td>\n",
       "      <td>56</td>\n",
       "      <td>75.75</td>\n",
       "    </tr>\n",
       "    <tr>\n",
       "      <th>1</th>\n",
       "      <td>student2</td>\n",
       "      <td>71</td>\n",
       "      <td>88</td>\n",
       "      <td>61</td>\n",
       "      <td>90</td>\n",
       "      <td>77.50</td>\n",
       "    </tr>\n",
       "    <tr>\n",
       "      <th>2</th>\n",
       "      <td>student3</td>\n",
       "      <td>71</td>\n",
       "      <td>80</td>\n",
       "      <td>84</td>\n",
       "      <td>65</td>\n",
       "      <td>75.00</td>\n",
       "    </tr>\n",
       "    <tr>\n",
       "      <th>3</th>\n",
       "      <td>student4</td>\n",
       "      <td>67</td>\n",
       "      <td>90</td>\n",
       "      <td>73</td>\n",
       "      <td>92</td>\n",
       "      <td>80.50</td>\n",
       "    </tr>\n",
       "    <tr>\n",
       "      <th>4</th>\n",
       "      <td>student5</td>\n",
       "      <td>79</td>\n",
       "      <td>91</td>\n",
       "      <td>81</td>\n",
       "      <td>76</td>\n",
       "      <td>81.75</td>\n",
       "    </tr>\n",
       "    <tr>\n",
       "      <th>5</th>\n",
       "      <td>student6</td>\n",
       "      <td>67</td>\n",
       "      <td>79</td>\n",
       "      <td>80</td>\n",
       "      <td>70</td>\n",
       "      <td>74.00</td>\n",
       "    </tr>\n",
       "    <tr>\n",
       "      <th>6</th>\n",
       "      <td>student7</td>\n",
       "      <td>69</td>\n",
       "      <td>91</td>\n",
       "      <td>73</td>\n",
       "      <td>65</td>\n",
       "      <td>74.50</td>\n",
       "    </tr>\n",
       "    <tr>\n",
       "      <th>7</th>\n",
       "      <td>student8</td>\n",
       "      <td>72</td>\n",
       "      <td>59</td>\n",
       "      <td>81</td>\n",
       "      <td>93</td>\n",
       "      <td>76.25</td>\n",
       "    </tr>\n",
       "    <tr>\n",
       "      <th>8</th>\n",
       "      <td>student9</td>\n",
       "      <td>68</td>\n",
       "      <td>88</td>\n",
       "      <td>92</td>\n",
       "      <td>76</td>\n",
       "      <td>81.00</td>\n",
       "    </tr>\n",
       "    <tr>\n",
       "      <th>9</th>\n",
       "      <td>student10</td>\n",
       "      <td>87</td>\n",
       "      <td>83</td>\n",
       "      <td>79</td>\n",
       "      <td>89</td>\n",
       "      <td>84.50</td>\n",
       "    </tr>\n",
       "  </tbody>\n",
       "</table>\n",
       "</div>"
      ],
      "text/plain": [
       "   StudentID  Q1  Q2  Q3  Q4  Average\n",
       "0   student1  89  76  82  56    75.75\n",
       "1   student2  71  88  61  90    77.50\n",
       "2   student3  71  80  84  65    75.00\n",
       "3   student4  67  90  73  92    80.50\n",
       "4   student5  79  91  81  76    81.75\n",
       "5   student6  67  79  80  70    74.00\n",
       "6   student7  69  91  73  65    74.50\n",
       "7   student8  72  59  81  93    76.25\n",
       "8   student9  68  88  92  76    81.00\n",
       "9  student10  87  83  79  89    84.50"
      ]
     },
     "execution_count": 6,
     "metadata": {},
     "output_type": "execute_result"
    }
   ],
   "source": [
    "scores"
   ]
  },
  {
   "cell_type": "code",
   "execution_count": 7,
   "id": "c5031ec2-1752-475a-9b71-08197101862a",
   "metadata": {},
   "outputs": [],
   "source": [
    "#And now, the long-handed way......."
   ]
  },
  {
   "cell_type": "code",
   "execution_count": 8,
   "id": "dfc07ba4-721b-4ab5-917d-4a8248f35edc",
   "metadata": {
    "tags": []
   },
   "outputs": [],
   "source": [
    "#Read data in and append to an empty list\n",
    "student_info = []\n",
    "with open('useful_datasets/grades.txt') as grades:\n",
    "          grade = grades.read()\n",
    "          student_info.append(grade)"
   ]
  },
  {
   "cell_type": "code",
   "execution_count": 9,
   "id": "69bf3ba5-9584-46a8-8fac-e7fbf35fb9ed",
   "metadata": {
    "tags": []
   },
   "outputs": [
    {
     "data": {
      "text/plain": [
       "['StudentID,Q1,Q2,Q3,Q4\\nstudent1, 89, 76, 82, 56\\nstudent2, 71, 88, 61, 90\\nstudent3, 71, 80, 84, 65\\nstudent4, 67, 90, 73, 92\\nstudent5, 79, 91, 81, 76\\nstudent6, 67, 79, 80, 70\\nstudent7, 69, 91, 73, 65\\nstudent8, 72, 59, 81, 93\\nstudent9, 68, 88, 92, 76\\nstudent10, 87, 83, 79, 89\\n']"
      ]
     },
     "execution_count": 9,
     "metadata": {},
     "output_type": "execute_result"
    }
   ],
   "source": [
    "student_info"
   ]
  },
  {
   "cell_type": "code",
   "execution_count": 13,
   "id": "dec5e6c1-c413-4d46-944e-bc89a9f797ce",
   "metadata": {
    "tags": []
   },
   "outputs": [],
   "source": [
    "#isolating so that each student's score shows as a tuple (using regex)\n",
    "scores = ''\n",
    "p = '([a-z]+[0-9]+).*?(\\d{2}), (\\d{2}), (\\d{2}), (\\d{2})'\n",
    "for line in student_info:\n",
    "    scores= re.findall(p,line.strip(','))"
   ]
  },
  {
   "cell_type": "code",
   "execution_count": 14,
   "id": "7813883c-d0a4-425e-8c8c-d91e9b36e6d4",
   "metadata": {
    "tags": []
   },
   "outputs": [
    {
     "data": {
      "text/plain": [
       "[('student1', '89', '76', '82', '56'),\n",
       " ('student2', '71', '88', '61', '90'),\n",
       " ('student3', '71', '80', '84', '65'),\n",
       " ('student4', '67', '90', '73', '92'),\n",
       " ('student5', '79', '91', '81', '76'),\n",
       " ('student6', '67', '79', '80', '70'),\n",
       " ('student7', '69', '91', '73', '65'),\n",
       " ('student8', '72', '59', '81', '93'),\n",
       " ('student9', '68', '88', '92', '76'),\n",
       " ('student10', '87', '83', '79', '89')]"
      ]
     },
     "execution_count": 14,
     "metadata": {},
     "output_type": "execute_result"
    }
   ],
   "source": [
    "scores"
   ]
  },
  {
   "cell_type": "code",
   "execution_count": 15,
   "id": "f7eceb1b-8483-444b-99d9-b095f0a5a3d0",
   "metadata": {
    "tags": []
   },
   "outputs": [],
   "source": [
    "#creates list item for each student's grades (instead of a tuple)\n",
    "student_list = [list(i) for i in scores]"
   ]
  },
  {
   "cell_type": "code",
   "execution_count": 16,
   "id": "92686b40-7278-4ff1-99d9-9e8f285941d1",
   "metadata": {
    "tags": []
   },
   "outputs": [
    {
     "data": {
      "text/plain": [
       "[['student1', '89', '76', '82', '56'],\n",
       " ['student2', '71', '88', '61', '90'],\n",
       " ['student3', '71', '80', '84', '65'],\n",
       " ['student4', '67', '90', '73', '92'],\n",
       " ['student5', '79', '91', '81', '76'],\n",
       " ['student6', '67', '79', '80', '70'],\n",
       " ['student7', '69', '91', '73', '65'],\n",
       " ['student8', '72', '59', '81', '93'],\n",
       " ['student9', '68', '88', '92', '76'],\n",
       " ['student10', '87', '83', '79', '89']]"
      ]
     },
     "execution_count": 16,
     "metadata": {},
     "output_type": "execute_result"
    }
   ],
   "source": [
    "student_list"
   ]
  },
  {
   "cell_type": "code",
   "execution_count": 17,
   "id": "72993e2f-d7f5-431a-a3ec-d1f0d1172d43",
   "metadata": {
    "tags": []
   },
   "outputs": [
    {
     "data": {
      "text/plain": [
       "['student1',\n",
       " 'student2',\n",
       " 'student3',\n",
       " 'student4',\n",
       " 'student5',\n",
       " 'student6',\n",
       " 'student7',\n",
       " 'student8',\n",
       " 'student9',\n",
       " 'student10']"
      ]
     },
     "execution_count": 17,
     "metadata": {},
     "output_type": "execute_result"
    }
   ],
   "source": [
    "#Get the students together in one list\n",
    "stu_only = [i[0] for i in student_list]\n",
    "stu_only"
   ]
  },
  {
   "cell_type": "code",
   "execution_count": 18,
   "id": "1cc0c55d-d141-4e32-99c9-17c28034407c",
   "metadata": {
    "tags": []
   },
   "outputs": [],
   "source": [
    "#Get the scores in one list\n",
    "grades_only = []\n",
    "for i in student_list:\n",
    "    grades_only.append(i[1:])"
   ]
  },
  {
   "cell_type": "code",
   "execution_count": 19,
   "id": "6564acd9-5ae5-4cc1-910c-e170bd7797df",
   "metadata": {
    "tags": []
   },
   "outputs": [
    {
     "data": {
      "text/plain": [
       "[['89', '76', '82', '56'],\n",
       " ['71', '88', '61', '90'],\n",
       " ['71', '80', '84', '65'],\n",
       " ['67', '90', '73', '92'],\n",
       " ['79', '91', '81', '76'],\n",
       " ['67', '79', '80', '70'],\n",
       " ['69', '91', '73', '65'],\n",
       " ['72', '59', '81', '93'],\n",
       " ['68', '88', '92', '76'],\n",
       " ['87', '83', '79', '89']]"
      ]
     },
     "execution_count": 19,
     "metadata": {},
     "output_type": "execute_result"
    }
   ],
   "source": [
    "grades_only"
   ]
  },
  {
   "cell_type": "code",
   "execution_count": 20,
   "id": "826961bc-e3ac-43a4-ab02-801ce7173649",
   "metadata": {
    "tags": []
   },
   "outputs": [],
   "source": [
    "#Each grade is actually a string and in order to calculate the mean, we need to change the type to int\n",
    "\n",
    "arr = np.array(grades_only, dtype=int)\n",
    "\n",
    "#change it back to a list from an array\n",
    "grade_intgr = [list(i) for i in arr]"
   ]
  },
  {
   "cell_type": "code",
   "execution_count": 21,
   "id": "d74a65e2-3396-4291-b8cd-c713ecaba982",
   "metadata": {
    "tags": []
   },
   "outputs": [
    {
     "data": {
      "text/plain": [
       "[[89, 76, 82, 56],\n",
       " [71, 88, 61, 90],\n",
       " [71, 80, 84, 65],\n",
       " [67, 90, 73, 92],\n",
       " [79, 91, 81, 76],\n",
       " [67, 79, 80, 70],\n",
       " [69, 91, 73, 65],\n",
       " [72, 59, 81, 93],\n",
       " [68, 88, 92, 76],\n",
       " [87, 83, 79, 89]]"
      ]
     },
     "execution_count": 21,
     "metadata": {},
     "output_type": "execute_result"
    }
   ],
   "source": [
    "grade_intgr"
   ]
  },
  {
   "cell_type": "code",
   "execution_count": 22,
   "id": "9a056352-c983-4d01-b3c2-04eef64124c9",
   "metadata": {
    "tags": []
   },
   "outputs": [],
   "source": [
    "#For each line, calculate the mean -- sum of the numbers in each row/the number of items in the row\n",
    "means = []\n",
    "for i in grade_intgr:\n",
    "    average = sum(i)/len(i)\n",
    "    means.append(average)"
   ]
  },
  {
   "cell_type": "code",
   "execution_count": 24,
   "id": "280272df-e75d-46f9-ad68-67b13f805b02",
   "metadata": {
    "tags": []
   },
   "outputs": [
    {
     "data": {
      "text/plain": [
       "[75.75, 77.5, 75.0, 80.5, 81.75, 74.0, 74.5, 76.25, 81.0, 84.5]"
      ]
     },
     "execution_count": 24,
     "metadata": {},
     "output_type": "execute_result"
    }
   ],
   "source": [
    "means"
   ]
  },
  {
   "cell_type": "code",
   "execution_count": 25,
   "id": "51319882-d0e0-479b-8d53-14bb57904283",
   "metadata": {
    "tags": []
   },
   "outputs": [],
   "source": [
    "#Assign letter grades based on the raw grade\n",
    "letter_grade = []\n",
    "for i in means:\n",
    "    if i >= 90 and i <= 100:\n",
    "        letter_grade.append('A')\n",
    "    elif i >= 80 and i < 90:\n",
    "        letter_grade.append('B')\n",
    "    elif i >= 70 and i < 80:\n",
    "        letter_grade.append('C')\n",
    "    elif i >= 60 and i < 70:\n",
    "        letter_grade.append('D')\n",
    "    else:\n",
    "        letter_grade.append('F')"
   ]
  },
  {
   "cell_type": "code",
   "execution_count": 26,
   "id": "8c11a467-f31c-45e5-a30b-d52c1a1623da",
   "metadata": {
    "tags": []
   },
   "outputs": [
    {
     "data": {
      "text/plain": [
       "['C', 'C', 'C', 'B', 'B', 'C', 'C', 'C', 'B', 'B']"
      ]
     },
     "execution_count": 26,
     "metadata": {},
     "output_type": "execute_result"
    }
   ],
   "source": [
    "letter_grade"
   ]
  },
  {
   "cell_type": "code",
   "execution_count": 27,
   "id": "646c8753-22ce-4612-90fd-fa6e90a0967c",
   "metadata": {
    "tags": []
   },
   "outputs": [],
   "source": [
    "#Put it all together! \n",
    "#Map each element in each list based on their equal/respective positions to one another\n",
    "final = []\n",
    "for a,b in enumerate(stu_only): #student only list (no grades)\n",
    "    for c,d in enumerate(means): #list of averages\n",
    "        for e,f in enumerate(letter_grade):\n",
    "            if a == c == e:\n",
    "                final.append(b+ ' - '+str(d)+ ' - '+ f+ ' average' )"
   ]
  },
  {
   "cell_type": "code",
   "execution_count": 28,
   "id": "fe187b30-16f5-472d-b583-9a9cf0e3833f",
   "metadata": {
    "tags": []
   },
   "outputs": [
    {
     "data": {
      "text/plain": [
       "['student1 - 75.75 - C average',\n",
       " 'student2 - 77.5 - C average',\n",
       " 'student3 - 75.0 - C average',\n",
       " 'student4 - 80.5 - B average',\n",
       " 'student5 - 81.75 - B average',\n",
       " 'student6 - 74.0 - C average',\n",
       " 'student7 - 74.5 - C average',\n",
       " 'student8 - 76.25 - C average',\n",
       " 'student9 - 81.0 - B average',\n",
       " 'student10 - 84.5 - B average']"
      ]
     },
     "execution_count": 28,
     "metadata": {},
     "output_type": "execute_result"
    }
   ],
   "source": [
    "final #matches the output from the dataframe"
   ]
  },
  {
   "cell_type": "code",
   "execution_count": null,
   "id": "084acd07-4318-48e0-a224-21c6c0a26f6c",
   "metadata": {},
   "outputs": [],
   "source": []
  }
 ],
 "metadata": {
  "kernelspec": {
   "display_name": "Python 3 (ipykernel)",
   "language": "python",
   "name": "python3"
  },
  "language_info": {
   "codemirror_mode": {
    "name": "ipython",
    "version": 3
   },
   "file_extension": ".py",
   "mimetype": "text/x-python",
   "name": "python",
   "nbconvert_exporter": "python",
   "pygments_lexer": "ipython3",
   "version": "3.11.5"
  }
 },
 "nbformat": 4,
 "nbformat_minor": 5
}
