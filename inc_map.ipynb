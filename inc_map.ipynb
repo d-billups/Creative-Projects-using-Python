{
 "cells": [
  {
   "cell_type": "markdown",
   "id": "cddead07-c64a-438f-81e9-8dfbf2e8e2d4",
   "metadata": {},
   "source": [
    "The purpose of this exercise is to perform very simple calculations to increment longitude values in order to plot\n",
    "persons in the same city on an interactive map. Plotly.express does not allow multiple points for the same latitude and longitude, so if we want to display mutiple people living in the same city, the coordinates need to be slightly different, but still close enough to place them in the correct location. This program will iterate through the Longitude series, look for duplicate values, increment the values and enter the new list into the original dataframe and delete the previous one.\n",
    "\n",
    "The inspiration for this project came about because of a work project I volunteered for. I was in charge of creating an employee map, which would be used to encourage in person engagement, and I wanted to do it using Plotly. It should be said that my company primarily uses SAS and R, but I am more proficient in Python, hence why I wanted to try using Plotly. I discussed this with my manager and she was onboard, however she asked,'What happens if we have multiple people in the same city? Would it show one point with a list of names, or multiple points showing each name?'When I created a fake dataset, much like the one you'll see in this program, it only showed one point and one name. I scoured the web looking for a way to circumvent this issue, but I didn't find much. Since I know that different locations within the same city will have very similar lat and long coordinates, I decided to try writing a program that would create a slight variance in the lat/long coords, which should cause enough of a difference to create separate points, but not too much of a difference that would move it too far from the actual city."
   ]
  },
  {
   "cell_type": "code",
   "execution_count": 11,
   "id": "79d05526-2a1e-4105-b9ca-0b1fdfadbce9",
   "metadata": {},
   "outputs": [],
   "source": [
    "import plotly.io as pio\n",
    "pio.renderers.default = 'jupyterlab'"
   ]
  },
  {
   "cell_type": "code",
   "execution_count": 12,
   "id": "eacdce4c-d91b-4258-9688-0d9d712fafdb",
   "metadata": {},
   "outputs": [],
   "source": [
    "import csv\n",
    "import pandas as pd\n",
    "import plotly.express as px"
   ]
  },
  {
   "cell_type": "code",
   "execution_count": 13,
   "id": "14065058",
   "metadata": {},
   "outputs": [],
   "source": [
    "csv_list = []\n",
    "with open('yas.csv','r') as f:\n",
    "    file = csv.reader(f)\n",
    "    for line in file:\n",
    "        csv_list.append(line)"
   ]
  },
  {
   "cell_type": "code",
   "execution_count": 14,
   "id": "7e6cdd3e",
   "metadata": {},
   "outputs": [],
   "source": [
    "data = csv_list[1:]"
   ]
  },
  {
   "cell_type": "code",
   "execution_count": 15,
   "id": "3afc255f",
   "metadata": {},
   "outputs": [],
   "source": [
    "df = pd.DataFrame(data,columns=['Name', 'City','State','Lat','Lon'])"
   ]
  },
  {
   "cell_type": "code",
   "execution_count": 16,
   "id": "e127d28d-cab4-41bc-8354-4e1996869ea1",
   "metadata": {},
   "outputs": [],
   "source": [
    "df['LAT'] = df['Lat'].astype(float)\n",
    "df['LON'] = df['Lon'].astype(float)"
   ]
  },
  {
   "cell_type": "code",
   "execution_count": 21,
   "id": "78e59134-62c5-4c3f-accb-933a5d915262",
   "metadata": {},
   "outputs": [],
   "source": [
    "upd_df = df.drop(columns=['Lat','Lon'])"
   ]
  },
  {
   "cell_type": "code",
   "execution_count": 23,
   "id": "0b86423b-c0db-4c23-be71-a660c4a6b8fc",
   "metadata": {},
   "outputs": [
    {
     "data": {
      "text/html": [
       "<div>\n",
       "<style scoped>\n",
       "    .dataframe tbody tr th:only-of-type {\n",
       "        vertical-align: middle;\n",
       "    }\n",
       "\n",
       "    .dataframe tbody tr th {\n",
       "        vertical-align: top;\n",
       "    }\n",
       "\n",
       "    .dataframe thead th {\n",
       "        text-align: right;\n",
       "    }\n",
       "</style>\n",
       "<table border=\"1\" class=\"dataframe\">\n",
       "  <thead>\n",
       "    <tr style=\"text-align: right;\">\n",
       "      <th></th>\n",
       "      <th>Name</th>\n",
       "      <th>City</th>\n",
       "      <th>State</th>\n",
       "      <th>LAT</th>\n",
       "      <th>LON</th>\n",
       "    </tr>\n",
       "  </thead>\n",
       "  <tbody>\n",
       "    <tr>\n",
       "      <th>0</th>\n",
       "      <td>Janet Robertson</td>\n",
       "      <td>Philadelphia</td>\n",
       "      <td>PA</td>\n",
       "      <td>39.952394</td>\n",
       "      <td>-75.183966</td>\n",
       "    </tr>\n",
       "    <tr>\n",
       "      <th>1</th>\n",
       "      <td>Lisa Gray</td>\n",
       "      <td>Newark</td>\n",
       "      <td>NJ</td>\n",
       "      <td>40.734896</td>\n",
       "      <td>-74.170731</td>\n",
       "    </tr>\n",
       "    <tr>\n",
       "      <th>2</th>\n",
       "      <td>Sam Smith</td>\n",
       "      <td>Sacramento</td>\n",
       "      <td>CA</td>\n",
       "      <td>38.583091</td>\n",
       "      <td>-121.495096</td>\n",
       "    </tr>\n",
       "    <tr>\n",
       "      <th>3</th>\n",
       "      <td>Robert Downing</td>\n",
       "      <td>Cleveland</td>\n",
       "      <td>OH</td>\n",
       "      <td>41.499117</td>\n",
       "      <td>-81.697698</td>\n",
       "    </tr>\n",
       "    <tr>\n",
       "      <th>4</th>\n",
       "      <td>Angela Stevens</td>\n",
       "      <td>Boston</td>\n",
       "      <td>MA</td>\n",
       "      <td>42.365645</td>\n",
       "      <td>-71.076105</td>\n",
       "    </tr>\n",
       "    <tr>\n",
       "      <th>5</th>\n",
       "      <td>Jessie Clark</td>\n",
       "      <td>Durham</td>\n",
       "      <td>NC</td>\n",
       "      <td>35.996159</td>\n",
       "      <td>-78.894545</td>\n",
       "    </tr>\n",
       "    <tr>\n",
       "      <th>6</th>\n",
       "      <td>Steven Jones</td>\n",
       "      <td>Oakland</td>\n",
       "      <td>CA</td>\n",
       "      <td>37.805277</td>\n",
       "      <td>-122.276527</td>\n",
       "    </tr>\n",
       "    <tr>\n",
       "      <th>7</th>\n",
       "      <td>Ryan Clark</td>\n",
       "      <td>Oakland</td>\n",
       "      <td>CA</td>\n",
       "      <td>37.805277</td>\n",
       "      <td>-122.276527</td>\n",
       "    </tr>\n",
       "    <tr>\n",
       "      <th>8</th>\n",
       "      <td>Sharon Hill</td>\n",
       "      <td>Oakland</td>\n",
       "      <td>CA</td>\n",
       "      <td>37.805277</td>\n",
       "      <td>-122.276527</td>\n",
       "    </tr>\n",
       "    <tr>\n",
       "      <th>9</th>\n",
       "      <td>Emmit Black</td>\n",
       "      <td>Oakland</td>\n",
       "      <td>CA</td>\n",
       "      <td>37.805277</td>\n",
       "      <td>-122.276527</td>\n",
       "    </tr>\n",
       "    <tr>\n",
       "      <th>10</th>\n",
       "      <td>Mo Hall</td>\n",
       "      <td>Newark</td>\n",
       "      <td>NJ</td>\n",
       "      <td>40.734896</td>\n",
       "      <td>-74.170731</td>\n",
       "    </tr>\n",
       "  </tbody>\n",
       "</table>\n",
       "</div>"
      ],
      "text/plain": [
       "               Name          City State        LAT         LON\n",
       "0   Janet Robertson  Philadelphia    PA  39.952394  -75.183966\n",
       "1         Lisa Gray        Newark    NJ  40.734896  -74.170731\n",
       "2         Sam Smith    Sacramento    CA  38.583091 -121.495096\n",
       "3    Robert Downing     Cleveland    OH  41.499117  -81.697698\n",
       "4    Angela Stevens        Boston    MA  42.365645  -71.076105\n",
       "5      Jessie Clark        Durham    NC  35.996159  -78.894545\n",
       "6      Steven Jones       Oakland    CA  37.805277 -122.276527\n",
       "7        Ryan Clark       Oakland    CA  37.805277 -122.276527\n",
       "8       Sharon Hill       Oakland    CA  37.805277 -122.276527\n",
       "9       Emmit Black       Oakland    CA  37.805277 -122.276527\n",
       "10          Mo Hall        Newark    NJ  40.734896  -74.170731"
      ]
     },
     "execution_count": 23,
     "metadata": {},
     "output_type": "execute_result"
    }
   ],
   "source": [
    "upd_df"
   ]
  },
  {
   "cell_type": "code",
   "execution_count": 22,
   "id": "bda75120-12d8-47c7-879d-538ba649fd60",
   "metadata": {
    "tags": []
   },
   "outputs": [
    {
     "data": {
      "application/vnd.plotly.v1+json": {
       "config": {
        "plotlyServerURL": "https://plot.ly"
       },
       "data": [
        {
         "hovertemplate": "<b>%{hovertext}</b><br><br>LAT=%{lat}<br>LON=%{lon}<extra></extra>",
         "hovertext": [
          "Janet Robertson",
          "Lisa Gray",
          "Sam Smith",
          "Robert Downing",
          "Angela Stevens",
          "Jessie Clark",
          "Steven Jones",
          "Ryan Clark",
          "Sharon Hill",
          "Emmit Black",
          "Mo Hall"
         ],
         "lat": [
          39.9523941860963,
          40.7348962128706,
          38.5830913211928,
          41.4991166140232,
          42.3656454082563,
          35.9961585832096,
          37.8052766811112,
          37.8052766811112,
          37.8052766811112,
          37.8052766811112,
          40.7348962128706
         ],
         "legendgroup": "",
         "lon": [
          -75.1839663338271,
          -74.1707307241491,
          -121.4950960992,
          -81.6976984640103,
          -71.0761046574631,
          -78.8945451903273,
          -122.276527318087,
          -122.276527318087,
          -122.276527318087,
          -122.276527318087,
          -74.1707307241491
         ],
         "marker": {
          "color": "#636efa"
         },
         "mode": "markers",
         "name": "",
         "showlegend": false,
         "subplot": "mapbox",
         "type": "scattermapbox"
        }
       ],
       "layout": {
        "autosize": true,
        "legend": {
         "tracegroupgap": 0
        },
        "mapbox": {
         "bearing": 0,
         "center": {
          "lat": 37.18739652351036,
          "lon": -87.54488019463133
         },
         "domain": {
          "x": [
           0,
           1
          ],
          "y": [
           0,
           1
          ]
         },
         "pitch": 0,
         "style": "open-street-map",
         "zoom": 3.8614288764089495
        },
        "margin": {
         "t": 60
        },
        "template": {
         "data": {
          "bar": [
           {
            "error_x": {
             "color": "#2a3f5f"
            },
            "error_y": {
             "color": "#2a3f5f"
            },
            "marker": {
             "line": {
              "color": "#E5ECF6",
              "width": 0.5
             },
             "pattern": {
              "fillmode": "overlay",
              "size": 10,
              "solidity": 0.2
             }
            },
            "type": "bar"
           }
          ],
          "barpolar": [
           {
            "marker": {
             "line": {
              "color": "#E5ECF6",
              "width": 0.5
             },
             "pattern": {
              "fillmode": "overlay",
              "size": 10,
              "solidity": 0.2
             }
            },
            "type": "barpolar"
           }
          ],
          "carpet": [
           {
            "aaxis": {
             "endlinecolor": "#2a3f5f",
             "gridcolor": "white",
             "linecolor": "white",
             "minorgridcolor": "white",
             "startlinecolor": "#2a3f5f"
            },
            "baxis": {
             "endlinecolor": "#2a3f5f",
             "gridcolor": "white",
             "linecolor": "white",
             "minorgridcolor": "white",
             "startlinecolor": "#2a3f5f"
            },
            "type": "carpet"
           }
          ],
          "choropleth": [
           {
            "colorbar": {
             "outlinewidth": 0,
             "ticks": ""
            },
            "type": "choropleth"
           }
          ],
          "contour": [
           {
            "colorbar": {
             "outlinewidth": 0,
             "ticks": ""
            },
            "colorscale": [
             [
              0,
              "#0d0887"
             ],
             [
              0.1111111111111111,
              "#46039f"
             ],
             [
              0.2222222222222222,
              "#7201a8"
             ],
             [
              0.3333333333333333,
              "#9c179e"
             ],
             [
              0.4444444444444444,
              "#bd3786"
             ],
             [
              0.5555555555555556,
              "#d8576b"
             ],
             [
              0.6666666666666666,
              "#ed7953"
             ],
             [
              0.7777777777777778,
              "#fb9f3a"
             ],
             [
              0.8888888888888888,
              "#fdca26"
             ],
             [
              1,
              "#f0f921"
             ]
            ],
            "type": "contour"
           }
          ],
          "contourcarpet": [
           {
            "colorbar": {
             "outlinewidth": 0,
             "ticks": ""
            },
            "type": "contourcarpet"
           }
          ],
          "heatmap": [
           {
            "colorbar": {
             "outlinewidth": 0,
             "ticks": ""
            },
            "colorscale": [
             [
              0,
              "#0d0887"
             ],
             [
              0.1111111111111111,
              "#46039f"
             ],
             [
              0.2222222222222222,
              "#7201a8"
             ],
             [
              0.3333333333333333,
              "#9c179e"
             ],
             [
              0.4444444444444444,
              "#bd3786"
             ],
             [
              0.5555555555555556,
              "#d8576b"
             ],
             [
              0.6666666666666666,
              "#ed7953"
             ],
             [
              0.7777777777777778,
              "#fb9f3a"
             ],
             [
              0.8888888888888888,
              "#fdca26"
             ],
             [
              1,
              "#f0f921"
             ]
            ],
            "type": "heatmap"
           }
          ],
          "heatmapgl": [
           {
            "colorbar": {
             "outlinewidth": 0,
             "ticks": ""
            },
            "colorscale": [
             [
              0,
              "#0d0887"
             ],
             [
              0.1111111111111111,
              "#46039f"
             ],
             [
              0.2222222222222222,
              "#7201a8"
             ],
             [
              0.3333333333333333,
              "#9c179e"
             ],
             [
              0.4444444444444444,
              "#bd3786"
             ],
             [
              0.5555555555555556,
              "#d8576b"
             ],
             [
              0.6666666666666666,
              "#ed7953"
             ],
             [
              0.7777777777777778,
              "#fb9f3a"
             ],
             [
              0.8888888888888888,
              "#fdca26"
             ],
             [
              1,
              "#f0f921"
             ]
            ],
            "type": "heatmapgl"
           }
          ],
          "histogram": [
           {
            "marker": {
             "pattern": {
              "fillmode": "overlay",
              "size": 10,
              "solidity": 0.2
             }
            },
            "type": "histogram"
           }
          ],
          "histogram2d": [
           {
            "colorbar": {
             "outlinewidth": 0,
             "ticks": ""
            },
            "colorscale": [
             [
              0,
              "#0d0887"
             ],
             [
              0.1111111111111111,
              "#46039f"
             ],
             [
              0.2222222222222222,
              "#7201a8"
             ],
             [
              0.3333333333333333,
              "#9c179e"
             ],
             [
              0.4444444444444444,
              "#bd3786"
             ],
             [
              0.5555555555555556,
              "#d8576b"
             ],
             [
              0.6666666666666666,
              "#ed7953"
             ],
             [
              0.7777777777777778,
              "#fb9f3a"
             ],
             [
              0.8888888888888888,
              "#fdca26"
             ],
             [
              1,
              "#f0f921"
             ]
            ],
            "type": "histogram2d"
           }
          ],
          "histogram2dcontour": [
           {
            "colorbar": {
             "outlinewidth": 0,
             "ticks": ""
            },
            "colorscale": [
             [
              0,
              "#0d0887"
             ],
             [
              0.1111111111111111,
              "#46039f"
             ],
             [
              0.2222222222222222,
              "#7201a8"
             ],
             [
              0.3333333333333333,
              "#9c179e"
             ],
             [
              0.4444444444444444,
              "#bd3786"
             ],
             [
              0.5555555555555556,
              "#d8576b"
             ],
             [
              0.6666666666666666,
              "#ed7953"
             ],
             [
              0.7777777777777778,
              "#fb9f3a"
             ],
             [
              0.8888888888888888,
              "#fdca26"
             ],
             [
              1,
              "#f0f921"
             ]
            ],
            "type": "histogram2dcontour"
           }
          ],
          "mesh3d": [
           {
            "colorbar": {
             "outlinewidth": 0,
             "ticks": ""
            },
            "type": "mesh3d"
           }
          ],
          "parcoords": [
           {
            "line": {
             "colorbar": {
              "outlinewidth": 0,
              "ticks": ""
             }
            },
            "type": "parcoords"
           }
          ],
          "pie": [
           {
            "automargin": true,
            "type": "pie"
           }
          ],
          "scatter": [
           {
            "fillpattern": {
             "fillmode": "overlay",
             "size": 10,
             "solidity": 0.2
            },
            "type": "scatter"
           }
          ],
          "scatter3d": [
           {
            "line": {
             "colorbar": {
              "outlinewidth": 0,
              "ticks": ""
             }
            },
            "marker": {
             "colorbar": {
              "outlinewidth": 0,
              "ticks": ""
             }
            },
            "type": "scatter3d"
           }
          ],
          "scattercarpet": [
           {
            "marker": {
             "colorbar": {
              "outlinewidth": 0,
              "ticks": ""
             }
            },
            "type": "scattercarpet"
           }
          ],
          "scattergeo": [
           {
            "marker": {
             "colorbar": {
              "outlinewidth": 0,
              "ticks": ""
             }
            },
            "type": "scattergeo"
           }
          ],
          "scattergl": [
           {
            "marker": {
             "colorbar": {
              "outlinewidth": 0,
              "ticks": ""
             }
            },
            "type": "scattergl"
           }
          ],
          "scattermapbox": [
           {
            "marker": {
             "colorbar": {
              "outlinewidth": 0,
              "ticks": ""
             }
            },
            "type": "scattermapbox"
           }
          ],
          "scatterpolar": [
           {
            "marker": {
             "colorbar": {
              "outlinewidth": 0,
              "ticks": ""
             }
            },
            "type": "scatterpolar"
           }
          ],
          "scatterpolargl": [
           {
            "marker": {
             "colorbar": {
              "outlinewidth": 0,
              "ticks": ""
             }
            },
            "type": "scatterpolargl"
           }
          ],
          "scatterternary": [
           {
            "marker": {
             "colorbar": {
              "outlinewidth": 0,
              "ticks": ""
             }
            },
            "type": "scatterternary"
           }
          ],
          "surface": [
           {
            "colorbar": {
             "outlinewidth": 0,
             "ticks": ""
            },
            "colorscale": [
             [
              0,
              "#0d0887"
             ],
             [
              0.1111111111111111,
              "#46039f"
             ],
             [
              0.2222222222222222,
              "#7201a8"
             ],
             [
              0.3333333333333333,
              "#9c179e"
             ],
             [
              0.4444444444444444,
              "#bd3786"
             ],
             [
              0.5555555555555556,
              "#d8576b"
             ],
             [
              0.6666666666666666,
              "#ed7953"
             ],
             [
              0.7777777777777778,
              "#fb9f3a"
             ],
             [
              0.8888888888888888,
              "#fdca26"
             ],
             [
              1,
              "#f0f921"
             ]
            ],
            "type": "surface"
           }
          ],
          "table": [
           {
            "cells": {
             "fill": {
              "color": "#EBF0F8"
             },
             "line": {
              "color": "white"
             }
            },
            "header": {
             "fill": {
              "color": "#C8D4E3"
             },
             "line": {
              "color": "white"
             }
            },
            "type": "table"
           }
          ]
         },
         "layout": {
          "annotationdefaults": {
           "arrowcolor": "#2a3f5f",
           "arrowhead": 0,
           "arrowwidth": 1
          },
          "autotypenumbers": "strict",
          "coloraxis": {
           "colorbar": {
            "outlinewidth": 0,
            "ticks": ""
           }
          },
          "colorscale": {
           "diverging": [
            [
             0,
             "#8e0152"
            ],
            [
             0.1,
             "#c51b7d"
            ],
            [
             0.2,
             "#de77ae"
            ],
            [
             0.3,
             "#f1b6da"
            ],
            [
             0.4,
             "#fde0ef"
            ],
            [
             0.5,
             "#f7f7f7"
            ],
            [
             0.6,
             "#e6f5d0"
            ],
            [
             0.7,
             "#b8e186"
            ],
            [
             0.8,
             "#7fbc41"
            ],
            [
             0.9,
             "#4d9221"
            ],
            [
             1,
             "#276419"
            ]
           ],
           "sequential": [
            [
             0,
             "#0d0887"
            ],
            [
             0.1111111111111111,
             "#46039f"
            ],
            [
             0.2222222222222222,
             "#7201a8"
            ],
            [
             0.3333333333333333,
             "#9c179e"
            ],
            [
             0.4444444444444444,
             "#bd3786"
            ],
            [
             0.5555555555555556,
             "#d8576b"
            ],
            [
             0.6666666666666666,
             "#ed7953"
            ],
            [
             0.7777777777777778,
             "#fb9f3a"
            ],
            [
             0.8888888888888888,
             "#fdca26"
            ],
            [
             1,
             "#f0f921"
            ]
           ],
           "sequentialminus": [
            [
             0,
             "#0d0887"
            ],
            [
             0.1111111111111111,
             "#46039f"
            ],
            [
             0.2222222222222222,
             "#7201a8"
            ],
            [
             0.3333333333333333,
             "#9c179e"
            ],
            [
             0.4444444444444444,
             "#bd3786"
            ],
            [
             0.5555555555555556,
             "#d8576b"
            ],
            [
             0.6666666666666666,
             "#ed7953"
            ],
            [
             0.7777777777777778,
             "#fb9f3a"
            ],
            [
             0.8888888888888888,
             "#fdca26"
            ],
            [
             1,
             "#f0f921"
            ]
           ]
          },
          "colorway": [
           "#636efa",
           "#EF553B",
           "#00cc96",
           "#ab63fa",
           "#FFA15A",
           "#19d3f3",
           "#FF6692",
           "#B6E880",
           "#FF97FF",
           "#FECB52"
          ],
          "font": {
           "color": "#2a3f5f"
          },
          "geo": {
           "bgcolor": "white",
           "lakecolor": "white",
           "landcolor": "#E5ECF6",
           "showlakes": true,
           "showland": true,
           "subunitcolor": "white"
          },
          "hoverlabel": {
           "align": "left"
          },
          "hovermode": "closest",
          "mapbox": {
           "style": "light"
          },
          "paper_bgcolor": "white",
          "plot_bgcolor": "#E5ECF6",
          "polar": {
           "angularaxis": {
            "gridcolor": "white",
            "linecolor": "white",
            "ticks": ""
           },
           "bgcolor": "#E5ECF6",
           "radialaxis": {
            "gridcolor": "white",
            "linecolor": "white",
            "ticks": ""
           }
          },
          "scene": {
           "xaxis": {
            "backgroundcolor": "#E5ECF6",
            "gridcolor": "white",
            "gridwidth": 2,
            "linecolor": "white",
            "showbackground": true,
            "ticks": "",
            "zerolinecolor": "white"
           },
           "yaxis": {
            "backgroundcolor": "#E5ECF6",
            "gridcolor": "white",
            "gridwidth": 2,
            "linecolor": "white",
            "showbackground": true,
            "ticks": "",
            "zerolinecolor": "white"
           },
           "zaxis": {
            "backgroundcolor": "#E5ECF6",
            "gridcolor": "white",
            "gridwidth": 2,
            "linecolor": "white",
            "showbackground": true,
            "ticks": "",
            "zerolinecolor": "white"
           }
          },
          "shapedefaults": {
           "line": {
            "color": "#2a3f5f"
           }
          },
          "ternary": {
           "aaxis": {
            "gridcolor": "white",
            "linecolor": "white",
            "ticks": ""
           },
           "baxis": {
            "gridcolor": "white",
            "linecolor": "white",
            "ticks": ""
           },
           "bgcolor": "#E5ECF6",
           "caxis": {
            "gridcolor": "white",
            "linecolor": "white",
            "ticks": ""
           }
          },
          "title": {
           "x": 0.05
          },
          "xaxis": {
           "automargin": true,
           "gridcolor": "white",
           "linecolor": "white",
           "ticks": "",
           "title": {
            "standoff": 15
           },
           "zerolinecolor": "white",
           "zerolinewidth": 2
          },
          "yaxis": {
           "automargin": true,
           "gridcolor": "white",
           "linecolor": "white",
           "ticks": "",
           "title": {
            "standoff": 15
           },
           "zerolinecolor": "white",
           "zerolinewidth": 2
          }
         }
        }
       }
      },
      "image/png": "[encoded data removed]"
     },
     "metadata": {},
     "output_type": "display_data"
    }
   ],
   "source": [
    "#Lets map this to see how the points show up\n",
    "\n",
    "attempt1 = px.scatter_mapbox(upd_df, lat ='LAT', lon= 'LON',zoom=4,hover_name='Name')\n",
    "attempt1.update_layout(mapbox_style=\"open-street-map\")\n",
    "\n",
    "attempt1.show()"
   ]
  },
  {
   "cell_type": "markdown",
   "id": "bd030ac8-354b-4208-85ae-aa6a67801b7f",
   "metadata": {},
   "source": [
    "As you can see, there's only 1 point for Oakland and Newark, which shows the last instance only."
   ]
  },
  {
   "cell_type": "code",
   "execution_count": 63,
   "id": "eb928d30",
   "metadata": {},
   "outputs": [],
   "source": [
    "#create a list of the longitude values from the dataframe\n",
    "\n",
    "lon = []\n",
    "for i in upd_df['LON']:\n",
    "    lon.append(i)"
   ]
  },
  {
   "cell_type": "code",
   "execution_count": 25,
   "id": "d8114dfc",
   "metadata": {},
   "outputs": [
    {
     "data": {
      "text/plain": [
       "[-75.1839663338271,\n",
       " -74.1707307241491,\n",
       " -121.4950960992,\n",
       " -81.6976984640103,\n",
       " -71.0761046574631,\n",
       " -78.8945451903273,\n",
       " -122.276527318087,\n",
       " -122.276527318087,\n",
       " -122.276527318087,\n",
       " -122.276527318087,\n",
       " -74.1707307241491]"
      ]
     },
     "execution_count": 25,
     "metadata": {},
     "output_type": "execute_result"
    }
   ],
   "source": [
    "#we'll isolate this series, do some manipulation, and the insert it back into the df\n",
    "lon"
   ]
  },
  {
   "cell_type": "code",
   "execution_count": 26,
   "id": "c93bfd0b",
   "metadata": {},
   "outputs": [],
   "source": [
    "for i in range(len(lon)):\n",
    "    lon[i]= float(lon[i])"
   ]
  },
  {
   "cell_type": "code",
   "execution_count": 28,
   "id": "f864c6a7",
   "metadata": {},
   "outputs": [],
   "source": [
    "from collections import Counter"
   ]
  },
  {
   "cell_type": "code",
   "execution_count": 29,
   "id": "f87b4f22",
   "metadata": {},
   "outputs": [],
   "source": [
    "#look for duplicates\n",
    "val_counts = Counter(lon)"
   ]
  },
  {
   "cell_type": "code",
   "execution_count": 31,
   "id": "976b865e-0a97-41c5-a434-66a69f4fbd2d",
   "metadata": {},
   "outputs": [
    {
     "data": {
      "text/plain": [
       "Counter({-75.1839663338271: 1,\n",
       "         -74.1707307241491: 2,\n",
       "         -121.4950960992: 1,\n",
       "         -81.6976984640103: 1,\n",
       "         -71.0761046574631: 1,\n",
       "         -78.8945451903273: 1,\n",
       "         -122.276527318087: 4})"
      ]
     },
     "execution_count": 31,
     "metadata": {},
     "output_type": "execute_result"
    }
   ],
   "source": [
    "val_counts\n",
    "#We already knew this by looking in the original dataframe, but here we can see the count for each unique value.\n",
    "#Obviously if any value is greater than one, then it is a duplicate"
   ]
  },
  {
   "cell_type": "code",
   "execution_count": 64,
   "id": "2c144dca",
   "metadata": {},
   "outputs": [
    {
     "data": {
      "text/plain": [
       "[-74.1707307241491, -122.276527318087]"
      ]
     },
     "execution_count": 64,
     "metadata": {},
     "output_type": "execute_result"
    }
   ],
   "source": [
    "dups = []\n",
    "for value,count in val_counts.items():\n",
    "    if count > 1:\n",
    "        dups.append(value)\n",
    "dups"
   ]
  },
  {
   "cell_type": "code",
   "execution_count": 67,
   "id": "9b897e6d-bc22-4d6f-8612-0ac4c146ee73",
   "metadata": {},
   "outputs": [
    {
     "name": "stdout",
     "output_type": "stream",
     "text": [
      "1 -74.1707307241491\n",
      "6 -122.276527318087\n",
      "7 -122.276527318087\n",
      "8 -122.276527318087\n",
      "9 -122.276527318087\n",
      "10 -74.1707307241491\n"
     ]
    }
   ],
   "source": [
    "for index, item in enumerate(lon): #original list\n",
    "    for position, value in enumerate(dups): #duplicate items\n",
    "        if item == value: #value in original is equal to value in dup list\n",
    "            print(index, item) #print index and item as they exist in orginal list"
   ]
  },
  {
   "cell_type": "code",
   "execution_count": 68,
   "id": "ba4b83de-f465-40f1-a761-eea028953360",
   "metadata": {},
   "outputs": [],
   "source": [
    "#Starting with -74, since there's only two in this list, we can just worry about the second occurence\n",
    "\n",
    "for index in range(len(lon)):\n",
    "    if index==10:\n",
    "            lon[index] = lon[1] - 0.055"
   ]
  },
  {
   "cell_type": "code",
   "execution_count": 69,
   "id": "02568c74-faea-4fbb-9e62-78210d6735f5",
   "metadata": {},
   "outputs": [
    {
     "data": {
      "text/plain": [
       "[-75.1839663338271,\n",
       " -74.1707307241491,\n",
       " -121.4950960992,\n",
       " -81.6976984640103,\n",
       " -71.0761046574631,\n",
       " -78.8945451903273,\n",
       " -122.276527318087,\n",
       " -122.276527318087,\n",
       " -122.276527318087,\n",
       " -122.276527318087,\n",
       " -74.2257307241491]"
      ]
     },
     "execution_count": 69,
     "metadata": {},
     "output_type": "execute_result"
    }
   ],
   "source": [
    "lon #change made"
   ]
  },
  {
   "cell_type": "code",
   "execution_count": 70,
   "id": "5563691c",
   "metadata": {},
   "outputs": [],
   "source": [
    "for index in range(len(lon)):\n",
    "    if index > 6 and index < 10:\n",
    "            lon[index] = lon[index-1] - 0.010"
   ]
  },
  {
   "cell_type": "code",
   "execution_count": 71,
   "id": "d7d54e99",
   "metadata": {},
   "outputs": [
    {
     "data": {
      "text/plain": [
       "[-75.1839663338271,\n",
       " -74.1707307241491,\n",
       " -121.4950960992,\n",
       " -81.6976984640103,\n",
       " -71.0761046574631,\n",
       " -78.8945451903273,\n",
       " -122.276527318087,\n",
       " -122.28652731808701,\n",
       " -122.29652731808702,\n",
       " -122.30652731808702,\n",
       " -74.2257307241491]"
      ]
     },
     "execution_count": 71,
     "metadata": {},
     "output_type": "execute_result"
    }
   ],
   "source": [
    "lon"
   ]
  },
  {
   "cell_type": "code",
   "execution_count": 72,
   "id": "7ed35995",
   "metadata": {},
   "outputs": [],
   "source": [
    "upd_df['LONG']=[i for i in lon] #now the coordinates are slightly different so they will show up on plotly."
   ]
  },
  {
   "cell_type": "code",
   "execution_count": 73,
   "id": "93312de2",
   "metadata": {},
   "outputs": [],
   "source": [
    "final = upd_df.drop(columns='LON')"
   ]
  },
  {
   "cell_type": "code",
   "execution_count": 74,
   "id": "589141df",
   "metadata": {},
   "outputs": [
    {
     "data": {
      "text/html": [
       "<div>\n",
       "<style scoped>\n",
       "    .dataframe tbody tr th:only-of-type {\n",
       "        vertical-align: middle;\n",
       "    }\n",
       "\n",
       "    .dataframe tbody tr th {\n",
       "        vertical-align: top;\n",
       "    }\n",
       "\n",
       "    .dataframe thead th {\n",
       "        text-align: right;\n",
       "    }\n",
       "</style>\n",
       "<table border=\"1\" class=\"dataframe\">\n",
       "  <thead>\n",
       "    <tr style=\"text-align: right;\">\n",
       "      <th></th>\n",
       "      <th>Name</th>\n",
       "      <th>City</th>\n",
       "      <th>State</th>\n",
       "      <th>LAT</th>\n",
       "      <th>LONG</th>\n",
       "    </tr>\n",
       "  </thead>\n",
       "  <tbody>\n",
       "    <tr>\n",
       "      <th>0</th>\n",
       "      <td>Janet Robertson</td>\n",
       "      <td>Philadelphia</td>\n",
       "      <td>PA</td>\n",
       "      <td>39.952394</td>\n",
       "      <td>-75.183966</td>\n",
       "    </tr>\n",
       "    <tr>\n",
       "      <th>1</th>\n",
       "      <td>Lisa Gray</td>\n",
       "      <td>Newark</td>\n",
       "      <td>NJ</td>\n",
       "      <td>40.734896</td>\n",
       "      <td>-74.170731</td>\n",
       "    </tr>\n",
       "    <tr>\n",
       "      <th>2</th>\n",
       "      <td>Sam Smith</td>\n",
       "      <td>Sacramento</td>\n",
       "      <td>CA</td>\n",
       "      <td>38.583091</td>\n",
       "      <td>-121.495096</td>\n",
       "    </tr>\n",
       "    <tr>\n",
       "      <th>3</th>\n",
       "      <td>Robert Downing</td>\n",
       "      <td>Cleveland</td>\n",
       "      <td>OH</td>\n",
       "      <td>41.499117</td>\n",
       "      <td>-81.697698</td>\n",
       "    </tr>\n",
       "    <tr>\n",
       "      <th>4</th>\n",
       "      <td>Angela Stevens</td>\n",
       "      <td>Boston</td>\n",
       "      <td>MA</td>\n",
       "      <td>42.365645</td>\n",
       "      <td>-71.076105</td>\n",
       "    </tr>\n",
       "    <tr>\n",
       "      <th>5</th>\n",
       "      <td>Jessie Clark</td>\n",
       "      <td>Durham</td>\n",
       "      <td>NC</td>\n",
       "      <td>35.996159</td>\n",
       "      <td>-78.894545</td>\n",
       "    </tr>\n",
       "    <tr>\n",
       "      <th>6</th>\n",
       "      <td>Steven Jones</td>\n",
       "      <td>Oakland</td>\n",
       "      <td>CA</td>\n",
       "      <td>37.805277</td>\n",
       "      <td>-122.276527</td>\n",
       "    </tr>\n",
       "    <tr>\n",
       "      <th>7</th>\n",
       "      <td>Ryan Clark</td>\n",
       "      <td>Oakland</td>\n",
       "      <td>CA</td>\n",
       "      <td>37.805277</td>\n",
       "      <td>-122.286527</td>\n",
       "    </tr>\n",
       "    <tr>\n",
       "      <th>8</th>\n",
       "      <td>Sharon Hill</td>\n",
       "      <td>Oakland</td>\n",
       "      <td>CA</td>\n",
       "      <td>37.805277</td>\n",
       "      <td>-122.296527</td>\n",
       "    </tr>\n",
       "    <tr>\n",
       "      <th>9</th>\n",
       "      <td>Emmit Black</td>\n",
       "      <td>Oakland</td>\n",
       "      <td>CA</td>\n",
       "      <td>37.805277</td>\n",
       "      <td>-122.306527</td>\n",
       "    </tr>\n",
       "    <tr>\n",
       "      <th>10</th>\n",
       "      <td>Mo Hall</td>\n",
       "      <td>Newark</td>\n",
       "      <td>NJ</td>\n",
       "      <td>40.734896</td>\n",
       "      <td>-74.225731</td>\n",
       "    </tr>\n",
       "  </tbody>\n",
       "</table>\n",
       "</div>"
      ],
      "text/plain": [
       "               Name          City State        LAT        LONG\n",
       "0   Janet Robertson  Philadelphia    PA  39.952394  -75.183966\n",
       "1         Lisa Gray        Newark    NJ  40.734896  -74.170731\n",
       "2         Sam Smith    Sacramento    CA  38.583091 -121.495096\n",
       "3    Robert Downing     Cleveland    OH  41.499117  -81.697698\n",
       "4    Angela Stevens        Boston    MA  42.365645  -71.076105\n",
       "5      Jessie Clark        Durham    NC  35.996159  -78.894545\n",
       "6      Steven Jones       Oakland    CA  37.805277 -122.276527\n",
       "7        Ryan Clark       Oakland    CA  37.805277 -122.286527\n",
       "8       Sharon Hill       Oakland    CA  37.805277 -122.296527\n",
       "9       Emmit Black       Oakland    CA  37.805277 -122.306527\n",
       "10          Mo Hall        Newark    NJ  40.734896  -74.225731"
      ]
     },
     "execution_count": 74,
     "metadata": {},
     "output_type": "execute_result"
    }
   ],
   "source": [
    "final"
   ]
  },
  {
   "cell_type": "code",
   "execution_count": 75,
   "id": "22522e7c",
   "metadata": {},
   "outputs": [
    {
     "data": {
      "application/vnd.plotly.v1+json": {
       "config": {
        "plotlyServerURL": "https://plot.ly"
       },
       "data": [
        {
         "customdata": [
          [
           "Philadelphia",
           39.9523941860963,
           "Janet Robertson",
           -75.1839663338271
          ]
         ],
         "hovertemplate": "Name=%{customdata[2]}<br>City=%{customdata[0]}<extra></extra>",
         "lat": [
          39.9523941860963
         ],
         "legendgroup": "Janet Robertson",
         "lon": [
          -75.1839663338271
         ],
         "marker": {
          "color": "fuchsia"
         },
         "mode": "markers",
         "name": "Janet Robertson",
         "showlegend": true,
         "subplot": "mapbox",
         "type": "scattermapbox"
        },
        {
         "customdata": [
          [
           "Newark",
           40.7348962128706,
           "Lisa Gray",
           -74.1707307241491
          ]
         ],
         "hovertemplate": "Name=%{customdata[2]}<br>City=%{customdata[0]}<extra></extra>",
         "lat": [
          40.7348962128706
         ],
         "legendgroup": "Lisa Gray",
         "lon": [
          -74.1707307241491
         ],
         "marker": {
          "color": "fuchsia"
         },
         "mode": "markers",
         "name": "Lisa Gray",
         "showlegend": true,
         "subplot": "mapbox",
         "type": "scattermapbox"
        },
        {
         "customdata": [
          [
           "Sacramento",
           38.5830913211928,
           "Sam Smith",
           -121.4950960992
          ]
         ],
         "hovertemplate": "Name=%{customdata[2]}<br>City=%{customdata[0]}<extra></extra>",
         "lat": [
          38.5830913211928
         ],
         "legendgroup": "Sam Smith",
         "lon": [
          -121.4950960992
         ],
         "marker": {
          "color": "fuchsia"
         },
         "mode": "markers",
         "name": "Sam Smith",
         "showlegend": true,
         "subplot": "mapbox",
         "type": "scattermapbox"
        },
        {
         "customdata": [
          [
           "Cleveland",
           41.4991166140232,
           "Robert Downing",
           -81.6976984640103
          ]
         ],
         "hovertemplate": "Name=%{customdata[2]}<br>City=%{customdata[0]}<extra></extra>",
         "lat": [
          41.4991166140232
         ],
         "legendgroup": "Robert Downing",
         "lon": [
          -81.6976984640103
         ],
         "marker": {
          "color": "fuchsia"
         },
         "mode": "markers",
         "name": "Robert Downing",
         "showlegend": true,
         "subplot": "mapbox",
         "type": "scattermapbox"
        },
        {
         "customdata": [
          [
           "Boston",
           42.3656454082563,
           "Angela Stevens",
           -71.0761046574631
          ]
         ],
         "hovertemplate": "Name=%{customdata[2]}<br>City=%{customdata[0]}<extra></extra>",
         "lat": [
          42.3656454082563
         ],
         "legendgroup": "Angela Stevens",
         "lon": [
          -71.0761046574631
         ],
         "marker": {
          "color": "fuchsia"
         },
         "mode": "markers",
         "name": "Angela Stevens",
         "showlegend": true,
         "subplot": "mapbox",
         "type": "scattermapbox"
        },
        {
         "customdata": [
          [
           "Durham",
           35.9961585832096,
           "Jessie Clark",
           -78.8945451903273
          ]
         ],
         "hovertemplate": "Name=%{customdata[2]}<br>City=%{customdata[0]}<extra></extra>",
         "lat": [
          35.9961585832096
         ],
         "legendgroup": "Jessie Clark",
         "lon": [
          -78.8945451903273
         ],
         "marker": {
          "color": "fuchsia"
         },
         "mode": "markers",
         "name": "Jessie Clark",
         "showlegend": true,
         "subplot": "mapbox",
         "type": "scattermapbox"
        },
        {
         "customdata": [
          [
           "Oakland",
           37.8052766811112,
           "Steven Jones",
           -122.276527318087
          ]
         ],
         "hovertemplate": "Name=%{customdata[2]}<br>City=%{customdata[0]}<extra></extra>",
         "lat": [
          37.8052766811112
         ],
         "legendgroup": "Steven Jones",
         "lon": [
          -122.276527318087
         ],
         "marker": {
          "color": "fuchsia"
         },
         "mode": "markers",
         "name": "Steven Jones",
         "showlegend": true,
         "subplot": "mapbox",
         "type": "scattermapbox"
        },
        {
         "customdata": [
          [
           "Oakland",
           37.8052766811112,
           "Ryan Clark",
           -122.28652731808701
          ]
         ],
         "hovertemplate": "Name=%{customdata[2]}<br>City=%{customdata[0]}<extra></extra>",
         "lat": [
          37.8052766811112
         ],
         "legendgroup": "Ryan Clark",
         "lon": [
          -122.28652731808701
         ],
         "marker": {
          "color": "fuchsia"
         },
         "mode": "markers",
         "name": "Ryan Clark",
         "showlegend": true,
         "subplot": "mapbox",
         "type": "scattermapbox"
        },
        {
         "customdata": [
          [
           "Oakland",
           37.8052766811112,
           "Sharon Hill",
           -122.29652731808702
          ]
         ],
         "hovertemplate": "Name=%{customdata[2]}<br>City=%{customdata[0]}<extra></extra>",
         "lat": [
          37.8052766811112
         ],
         "legendgroup": "Sharon Hill",
         "lon": [
          -122.29652731808702
         ],
         "marker": {
          "color": "fuchsia"
         },
         "mode": "markers",
         "name": "Sharon Hill",
         "showlegend": true,
         "subplot": "mapbox",
         "type": "scattermapbox"
        },
        {
         "customdata": [
          [
           "Oakland",
           37.8052766811112,
           "Emmit Black",
           -122.30652731808702
          ]
         ],
         "hovertemplate": "Name=%{customdata[2]}<br>City=%{customdata[0]}<extra></extra>",
         "lat": [
          37.8052766811112
         ],
         "legendgroup": "Emmit Black",
         "lon": [
          -122.30652731808702
         ],
         "marker": {
          "color": "fuchsia"
         },
         "mode": "markers",
         "name": "Emmit Black",
         "showlegend": true,
         "subplot": "mapbox",
         "type": "scattermapbox"
        },
        {
         "customdata": [
          [
           "Newark",
           40.7348962128706,
           "Mo Hall",
           -74.2257307241491
          ]
         ],
         "hovertemplate": "Name=%{customdata[2]}<br>City=%{customdata[0]}<extra></extra>",
         "lat": [
          40.7348962128706
         ],
         "legendgroup": "Mo Hall",
         "lon": [
          -74.2257307241491
         ],
         "marker": {
          "color": "fuchsia"
         },
         "mode": "markers",
         "name": "Mo Hall",
         "showlegend": true,
         "subplot": "mapbox",
         "type": "scattermapbox"
        }
       ],
       "layout": {
        "autosize": true,
        "legend": {
         "title": {
          "text": "Name"
         },
         "tracegroupgap": 0
        },
        "mapbox": {
         "bearing": 0,
         "center": {
          "lat": 37.70885847475387,
          "lon": -121.66462314589546
         },
         "domain": {
          "x": [
           0,
           1
          ],
          "y": [
           0,
           1
          ]
         },
         "pitch": 0,
         "style": "open-street-map",
         "zoom": 8.518827434481285
        },
        "margin": {
         "t": 60
        },
        "template": {
         "data": {
          "bar": [
           {
            "error_x": {
             "color": "#2a3f5f"
            },
            "error_y": {
             "color": "#2a3f5f"
            },
            "marker": {
             "line": {
              "color": "#E5ECF6",
              "width": 0.5
             },
             "pattern": {
              "fillmode": "overlay",
              "size": 10,
              "solidity": 0.2
             }
            },
            "type": "bar"
           }
          ],
          "barpolar": [
           {
            "marker": {
             "line": {
              "color": "#E5ECF6",
              "width": 0.5
             },
             "pattern": {
              "fillmode": "overlay",
              "size": 10,
              "solidity": 0.2
             }
            },
            "type": "barpolar"
           }
          ],
          "carpet": [
           {
            "aaxis": {
             "endlinecolor": "#2a3f5f",
             "gridcolor": "white",
             "linecolor": "white",
             "minorgridcolor": "white",
             "startlinecolor": "#2a3f5f"
            },
            "baxis": {
             "endlinecolor": "#2a3f5f",
             "gridcolor": "white",
             "linecolor": "white",
             "minorgridcolor": "white",
             "startlinecolor": "#2a3f5f"
            },
            "type": "carpet"
           }
          ],
          "choropleth": [
           {
            "colorbar": {
             "outlinewidth": 0,
             "ticks": ""
            },
            "type": "choropleth"
           }
          ],
          "contour": [
           {
            "colorbar": {
             "outlinewidth": 0,
             "ticks": ""
            },
            "colorscale": [
             [
              0,
              "#0d0887"
             ],
             [
              0.1111111111111111,
              "#46039f"
             ],
             [
              0.2222222222222222,
              "#7201a8"
             ],
             [
              0.3333333333333333,
              "#9c179e"
             ],
             [
              0.4444444444444444,
              "#bd3786"
             ],
             [
              0.5555555555555556,
              "#d8576b"
             ],
             [
              0.6666666666666666,
              "#ed7953"
             ],
             [
              0.7777777777777778,
              "#fb9f3a"
             ],
             [
              0.8888888888888888,
              "#fdca26"
             ],
             [
              1,
              "#f0f921"
             ]
            ],
            "type": "contour"
           }
          ],
          "contourcarpet": [
           {
            "colorbar": {
             "outlinewidth": 0,
             "ticks": ""
            },
            "type": "contourcarpet"
           }
          ],
          "heatmap": [
           {
            "colorbar": {
             "outlinewidth": 0,
             "ticks": ""
            },
            "colorscale": [
             [
              0,
              "#0d0887"
             ],
             [
              0.1111111111111111,
              "#46039f"
             ],
             [
              0.2222222222222222,
              "#7201a8"
             ],
             [
              0.3333333333333333,
              "#9c179e"
             ],
             [
              0.4444444444444444,
              "#bd3786"
             ],
             [
              0.5555555555555556,
              "#d8576b"
             ],
             [
              0.6666666666666666,
              "#ed7953"
             ],
             [
              0.7777777777777778,
              "#fb9f3a"
             ],
             [
              0.8888888888888888,
              "#fdca26"
             ],
             [
              1,
              "#f0f921"
             ]
            ],
            "type": "heatmap"
           }
          ],
          "heatmapgl": [
           {
            "colorbar": {
             "outlinewidth": 0,
             "ticks": ""
            },
            "colorscale": [
             [
              0,
              "#0d0887"
             ],
             [
              0.1111111111111111,
              "#46039f"
             ],
             [
              0.2222222222222222,
              "#7201a8"
             ],
             [
              0.3333333333333333,
              "#9c179e"
             ],
             [
              0.4444444444444444,
              "#bd3786"
             ],
             [
              0.5555555555555556,
              "#d8576b"
             ],
             [
              0.6666666666666666,
              "#ed7953"
             ],
             [
              0.7777777777777778,
              "#fb9f3a"
             ],
             [
              0.8888888888888888,
              "#fdca26"
             ],
             [
              1,
              "#f0f921"
             ]
            ],
            "type": "heatmapgl"
           }
          ],
          "histogram": [
           {
            "marker": {
             "pattern": {
              "fillmode": "overlay",
              "size": 10,
              "solidity": 0.2
             }
            },
            "type": "histogram"
           }
          ],
          "histogram2d": [
           {
            "colorbar": {
             "outlinewidth": 0,
             "ticks": ""
            },
            "colorscale": [
             [
              0,
              "#0d0887"
             ],
             [
              0.1111111111111111,
              "#46039f"
             ],
             [
              0.2222222222222222,
              "#7201a8"
             ],
             [
              0.3333333333333333,
              "#9c179e"
             ],
             [
              0.4444444444444444,
              "#bd3786"
             ],
             [
              0.5555555555555556,
              "#d8576b"
             ],
             [
              0.6666666666666666,
              "#ed7953"
             ],
             [
              0.7777777777777778,
              "#fb9f3a"
             ],
             [
              0.8888888888888888,
              "#fdca26"
             ],
             [
              1,
              "#f0f921"
             ]
            ],
            "type": "histogram2d"
           }
          ],
          "histogram2dcontour": [
           {
            "colorbar": {
             "outlinewidth": 0,
             "ticks": ""
            },
            "colorscale": [
             [
              0,
              "#0d0887"
             ],
             [
              0.1111111111111111,
              "#46039f"
             ],
             [
              0.2222222222222222,
              "#7201a8"
             ],
             [
              0.3333333333333333,
              "#9c179e"
             ],
             [
              0.4444444444444444,
              "#bd3786"
             ],
             [
              0.5555555555555556,
              "#d8576b"
             ],
             [
              0.6666666666666666,
              "#ed7953"
             ],
             [
              0.7777777777777778,
              "#fb9f3a"
             ],
             [
              0.8888888888888888,
              "#fdca26"
             ],
             [
              1,
              "#f0f921"
             ]
            ],
            "type": "histogram2dcontour"
           }
          ],
          "mesh3d": [
           {
            "colorbar": {
             "outlinewidth": 0,
             "ticks": ""
            },
            "type": "mesh3d"
           }
          ],
          "parcoords": [
           {
            "line": {
             "colorbar": {
              "outlinewidth": 0,
              "ticks": ""
             }
            },
            "type": "parcoords"
           }
          ],
          "pie": [
           {
            "automargin": true,
            "type": "pie"
           }
          ],
          "scatter": [
           {
            "fillpattern": {
             "fillmode": "overlay",
             "size": 10,
             "solidity": 0.2
            },
            "type": "scatter"
           }
          ],
          "scatter3d": [
           {
            "line": {
             "colorbar": {
              "outlinewidth": 0,
              "ticks": ""
             }
            },
            "marker": {
             "colorbar": {
              "outlinewidth": 0,
              "ticks": ""
             }
            },
            "type": "scatter3d"
           }
          ],
          "scattercarpet": [
           {
            "marker": {
             "colorbar": {
              "outlinewidth": 0,
              "ticks": ""
             }
            },
            "type": "scattercarpet"
           }
          ],
          "scattergeo": [
           {
            "marker": {
             "colorbar": {
              "outlinewidth": 0,
              "ticks": ""
             }
            },
            "type": "scattergeo"
           }
          ],
          "scattergl": [
           {
            "marker": {
             "colorbar": {
              "outlinewidth": 0,
              "ticks": ""
             }
            },
            "type": "scattergl"
           }
          ],
          "scattermapbox": [
           {
            "marker": {
             "colorbar": {
              "outlinewidth": 0,
              "ticks": ""
             }
            },
            "type": "scattermapbox"
           }
          ],
          "scatterpolar": [
           {
            "marker": {
             "colorbar": {
              "outlinewidth": 0,
              "ticks": ""
             }
            },
            "type": "scatterpolar"
           }
          ],
          "scatterpolargl": [
           {
            "marker": {
             "colorbar": {
              "outlinewidth": 0,
              "ticks": ""
             }
            },
            "type": "scatterpolargl"
           }
          ],
          "scatterternary": [
           {
            "marker": {
             "colorbar": {
              "outlinewidth": 0,
              "ticks": ""
             }
            },
            "type": "scatterternary"
           }
          ],
          "surface": [
           {
            "colorbar": {
             "outlinewidth": 0,
             "ticks": ""
            },
            "colorscale": [
             [
              0,
              "#0d0887"
             ],
             [
              0.1111111111111111,
              "#46039f"
             ],
             [
              0.2222222222222222,
              "#7201a8"
             ],
             [
              0.3333333333333333,
              "#9c179e"
             ],
             [
              0.4444444444444444,
              "#bd3786"
             ],
             [
              0.5555555555555556,
              "#d8576b"
             ],
             [
              0.6666666666666666,
              "#ed7953"
             ],
             [
              0.7777777777777778,
              "#fb9f3a"
             ],
             [
              0.8888888888888888,
              "#fdca26"
             ],
             [
              1,
              "#f0f921"
             ]
            ],
            "type": "surface"
           }
          ],
          "table": [
           {
            "cells": {
             "fill": {
              "color": "#EBF0F8"
             },
             "line": {
              "color": "white"
             }
            },
            "header": {
             "fill": {
              "color": "#C8D4E3"
             },
             "line": {
              "color": "white"
             }
            },
            "type": "table"
           }
          ]
         },
         "layout": {
          "annotationdefaults": {
           "arrowcolor": "#2a3f5f",
           "arrowhead": 0,
           "arrowwidth": 1
          },
          "autotypenumbers": "strict",
          "coloraxis": {
           "colorbar": {
            "outlinewidth": 0,
            "ticks": ""
           }
          },
          "colorscale": {
           "diverging": [
            [
             0,
             "#8e0152"
            ],
            [
             0.1,
             "#c51b7d"
            ],
            [
             0.2,
             "#de77ae"
            ],
            [
             0.3,
             "#f1b6da"
            ],
            [
             0.4,
             "#fde0ef"
            ],
            [
             0.5,
             "#f7f7f7"
            ],
            [
             0.6,
             "#e6f5d0"
            ],
            [
             0.7,
             "#b8e186"
            ],
            [
             0.8,
             "#7fbc41"
            ],
            [
             0.9,
             "#4d9221"
            ],
            [
             1,
             "#276419"
            ]
           ],
           "sequential": [
            [
             0,
             "#0d0887"
            ],
            [
             0.1111111111111111,
             "#46039f"
            ],
            [
             0.2222222222222222,
             "#7201a8"
            ],
            [
             0.3333333333333333,
             "#9c179e"
            ],
            [
             0.4444444444444444,
             "#bd3786"
            ],
            [
             0.5555555555555556,
             "#d8576b"
            ],
            [
             0.6666666666666666,
             "#ed7953"
            ],
            [
             0.7777777777777778,
             "#fb9f3a"
            ],
            [
             0.8888888888888888,
             "#fdca26"
            ],
            [
             1,
             "#f0f921"
            ]
           ],
           "sequentialminus": [
            [
             0,
             "#0d0887"
            ],
            [
             0.1111111111111111,
             "#46039f"
            ],
            [
             0.2222222222222222,
             "#7201a8"
            ],
            [
             0.3333333333333333,
             "#9c179e"
            ],
            [
             0.4444444444444444,
             "#bd3786"
            ],
            [
             0.5555555555555556,
             "#d8576b"
            ],
            [
             0.6666666666666666,
             "#ed7953"
            ],
            [
             0.7777777777777778,
             "#fb9f3a"
            ],
            [
             0.8888888888888888,
             "#fdca26"
            ],
            [
             1,
             "#f0f921"
            ]
           ]
          },
          "colorway": [
           "#636efa",
           "#EF553B",
           "#00cc96",
           "#ab63fa",
           "#FFA15A",
           "#19d3f3",
           "#FF6692",
           "#B6E880",
           "#FF97FF",
           "#FECB52"
          ],
          "font": {
           "color": "#2a3f5f"
          },
          "geo": {
           "bgcolor": "white",
           "lakecolor": "white",
           "landcolor": "#E5ECF6",
           "showlakes": true,
           "showland": true,
           "subunitcolor": "white"
          },
          "hoverlabel": {
           "align": "left"
          },
          "hovermode": "closest",
          "mapbox": {
           "style": "light"
          },
          "paper_bgcolor": "white",
          "plot_bgcolor": "#E5ECF6",
          "polar": {
           "angularaxis": {
            "gridcolor": "white",
            "linecolor": "white",
            "ticks": ""
           },
           "bgcolor": "#E5ECF6",
           "radialaxis": {
            "gridcolor": "white",
            "linecolor": "white",
            "ticks": ""
           }
          },
          "scene": {
           "xaxis": {
            "backgroundcolor": "#E5ECF6",
            "gridcolor": "white",
            "gridwidth": 2,
            "linecolor": "white",
            "showbackground": true,
            "ticks": "",
            "zerolinecolor": "white"
           },
           "yaxis": {
            "backgroundcolor": "#E5ECF6",
            "gridcolor": "white",
            "gridwidth": 2,
            "linecolor": "white",
            "showbackground": true,
            "ticks": "",
            "zerolinecolor": "white"
           },
           "zaxis": {
            "backgroundcolor": "#E5ECF6",
            "gridcolor": "white",
            "gridwidth": 2,
            "linecolor": "white",
            "showbackground": true,
            "ticks": "",
            "zerolinecolor": "white"
           }
          },
          "shapedefaults": {
           "line": {
            "color": "#2a3f5f"
           }
          },
          "ternary": {
           "aaxis": {
            "gridcolor": "white",
            "linecolor": "white",
            "ticks": ""
           },
           "baxis": {
            "gridcolor": "white",
            "linecolor": "white",
            "ticks": ""
           },
           "bgcolor": "#E5ECF6",
           "caxis": {
            "gridcolor": "white",
            "linecolor": "white",
            "ticks": ""
           }
          },
          "title": {
           "x": 0.05
          },
          "xaxis": {
           "automargin": true,
           "gridcolor": "white",
           "linecolor": "white",
           "ticks": "",
           "title": {
            "standoff": 15
           },
           "zerolinecolor": "white",
           "zerolinewidth": 2
          },
          "yaxis": {
           "automargin": true,
           "gridcolor": "white",
           "linecolor": "white",
           "ticks": "",
           "title": {
            "standoff": 15
           },
           "zerolinecolor": "white",
           "zerolinewidth": 2
          }
         }
        }
       }
      },
      "image/png": "[encoded data removed]"
     },
     "metadata": {},
     "output_type": "display_data"
    }
   ],
   "source": [
    "fig = px.scatter_mapbox(final, lat='LAT',lon='LONG',\n",
    "                        hover_data={'City':True,'LAT':False,'Name':True,'LONG':False},\n",
    "                                                       color='Name',\n",
    "                        color_discrete_sequence=[\"fuchsia\"],zoom=4)\n",
    "fig.update_layout(mapbox_style=\"open-street-map\")\n",
    "\n",
    "fig.show()"
   ]
  },
  {
   "cell_type": "markdown",
   "id": "e2f62458-686c-42ea-a2c9-739a811bc6e9",
   "metadata": {},
   "source": [
    "In this map, we can see that just by slightly changing the longitude, everyone shows up!"
   ]
  },
  {
   "cell_type": "code",
   "execution_count": null,
   "id": "19067cbf-4835-40eb-ab63-81ed842514aa",
   "metadata": {},
   "outputs": [],
   "source": []
  }
 ],
 "metadata": {
  "kernelspec": {
   "display_name": "Python 3",
   "language": "python",
   "name": "python3"
  },
  "language_info": {
   "codemirror_mode": {
    "name": "ipython",
    "version": 3
   },
   "file_extension": ".py",
   "mimetype": "text/x-python",
   "name": "python",
   "nbconvert_exporter": "python",
   "pygments_lexer": "ipython3",
   "version": "3.8.8"
  }
 },
 "nbformat": 4,
 "nbformat_minor": 5
}
