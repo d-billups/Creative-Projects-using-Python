{
 "cells": [
  {
   "cell_type": "markdown",
   "id": "5dab2ccd-dc24-48eb-b2d3-f6e976ce805e",
   "metadata": {},
   "source": [
    "I applied to a job and there was a coding assignment. The assignment required me to read in a text file containing a list of numbers corresponding with words. I had to read in the file, create a pyramid function that would increase the numbers on each line as the rows increase, and lastly, print out a message based on the numbers at the end of each line in the pyramid (since each number corresponds to a word)"
   ]
  },
  {
   "cell_type": "code",
   "execution_count": null,
   "id": "c9c18723-6135-4ac9-8dd2-872609aba195",
   "metadata": {},
   "outputs": [],
   "source": [
    "def get_txt(filename):\n",
    "    with open(filename) as file:\n",
    "        doc = file.read()\n",
    "        clean_file=doc.split('\\n')\n",
    "       \n",
    "    return clean_file"
   ]
  },
  {
   "cell_type": "code",
   "execution_count": 2,
   "id": "e066530c-8f63-421f-ad42-57e566060ed8",
   "metadata": {
    "tags": []
   },
   "outputs": [],
   "source": [
    "job_example = get_txt('job.txt')"
   ]
  },
  {
   "cell_type": "code",
   "execution_count": 3,
   "id": "b7129822-52a1-47c1-b7a1-2bca3542ae7f",
   "metadata": {
    "tags": []
   },
   "outputs": [
    {
     "data": {
      "text/plain": [
       "['3 love', '6 computers', '2 dogs', '4 cats', '1 I', '5 you']"
      ]
     },
     "execution_count": 3,
     "metadata": {},
     "output_type": "execute_result"
    }
   ],
   "source": [
    "job_example"
   ]
  },
  {
   "cell_type": "code",
   "execution_count": 4,
   "id": "82ad52e0-0ea9-4030-a494-c96681e5aab4",
   "metadata": {
    "tags": []
   },
   "outputs": [],
   "source": [
    "import regex as re\n",
    "seq = '(\\d+)\\s'\n",
    "data = []\n",
    "for i in job_example:\n",
    "    num_match= re.match(seq,i)\n",
    "    data.append((num_match.group().strip()))"
   ]
  },
  {
   "cell_type": "code",
   "execution_count": 5,
   "id": "00b13339-2e90-436c-a7b8-d2cf27800ff2",
   "metadata": {
    "tags": []
   },
   "outputs": [],
   "source": [
    "clean_example = [int(i) for i in data]"
   ]
  },
  {
   "cell_type": "code",
   "execution_count": 6,
   "id": "a7cf3f47-9337-420e-98f8-0a68ddfd88dc",
   "metadata": {
    "tags": []
   },
   "outputs": [
    {
     "data": {
      "text/plain": [
       "[3, 6, 2, 4, 1, 5]"
      ]
     },
     "execution_count": 6,
     "metadata": {},
     "output_type": "execute_result"
    }
   ],
   "source": [
    "clean_example"
   ]
  },
  {
   "cell_type": "code",
   "execution_count": 55,
   "id": "4041ecc1-8584-41a7-9b7f-66b3ba8ac830",
   "metadata": {
    "tags": []
   },
   "outputs": [],
   "source": [
    "seq2 = '[a-z]+|[A-Z]+'\n",
    "words = []\n",
    "for i in job_example:\n",
    "    words_match= re.search(seq2,i)\n",
    "    words.append((words_match.group()))"
   ]
  },
  {
   "cell_type": "code",
   "execution_count": 56,
   "id": "3628260d-a5ee-4c49-a520-3b4bc5f0fef6",
   "metadata": {
    "tags": []
   },
   "outputs": [
    {
     "data": {
      "text/plain": [
       "['love', 'computers', 'dogs', 'cats', 'I', 'you']"
      ]
     },
     "execution_count": 56,
     "metadata": {},
     "output_type": "execute_result"
    }
   ],
   "source": [
    "words"
   ]
  },
  {
   "cell_type": "code",
   "execution_count": 57,
   "id": "15cbcb6e-0bd0-474b-87af-a0ad85d6e6d3",
   "metadata": {
    "tags": []
   },
   "outputs": [],
   "source": [
    "def pyramid(clean_example):\n",
    "    start = 0\n",
    "    length = len(clean_example)\n",
    "    end_= max(clean_example)\n",
    "    end_nums = [] # keep track of end of line numbers\n",
    "    \n",
    "    for i in range(1,length-2):\n",
    "        for j in range(1, i+1):\n",
    "            print(start+1,end=' ')\n",
    "            start += 1\n",
    "        end_= max(clean_example)\n",
    "        print()\n",
    "        end_nums.append(start)\n",
    "        if start >= end_:\n",
    "            break\n",
    "    return end_nums"
   ]
  },
  {
   "cell_type": "code",
   "execution_count": 58,
   "id": "93d6c7a7-e280-4561-b225-fc21c369be83",
   "metadata": {
    "tags": []
   },
   "outputs": [
    {
     "name": "stdout",
     "output_type": "stream",
     "text": [
      "1 \n",
      "2 3 \n",
      "4 5 6 \n"
     ]
    }
   ],
   "source": [
    "u = pyramid(clean_example)"
   ]
  },
  {
   "cell_type": "code",
   "execution_count": 59,
   "id": "c35b7776-fe75-4192-a847-caae9a66eb10",
   "metadata": {
    "tags": []
   },
   "outputs": [
    {
     "data": {
      "text/plain": [
       "[1, 3, 6]"
      ]
     },
     "execution_count": 59,
     "metadata": {},
     "output_type": "execute_result"
    }
   ],
   "source": [
    "u"
   ]
  },
  {
   "cell_type": "code",
   "execution_count": 60,
   "id": "e6c44905-9dd6-4d00-a090-01dc02b7c94c",
   "metadata": {
    "tags": []
   },
   "outputs": [
    {
     "data": {
      "text/plain": [
       "[3, 6, 2, 4, 1, 5]"
      ]
     },
     "execution_count": 60,
     "metadata": {},
     "output_type": "execute_result"
    }
   ],
   "source": [
    "clean_example"
   ]
  },
  {
   "cell_type": "code",
   "execution_count": 61,
   "id": "e0be35a9-6cfa-4299-a3b6-a4c49753e293",
   "metadata": {
    "tags": []
   },
   "outputs": [
    {
     "data": {
      "text/plain": [
       "['love', 'computers', 'dogs', 'cats', 'I', 'you']"
      ]
     },
     "execution_count": 61,
     "metadata": {},
     "output_type": "execute_result"
    }
   ],
   "source": [
    "words"
   ]
  },
  {
   "cell_type": "code",
   "execution_count": 62,
   "id": "92b26c9f-4738-4fb9-8c0b-c1247add2790",
   "metadata": {
    "tags": []
   },
   "outputs": [],
   "source": [
    "combo = dict(zip(clean_example,words))"
   ]
  },
  {
   "cell_type": "code",
   "execution_count": 63,
   "id": "2d42d450-d4bc-4219-9257-6a027d68698c",
   "metadata": {
    "tags": []
   },
   "outputs": [
    {
     "data": {
      "text/plain": [
       "{3: 'love', 6: 'computers', 2: 'dogs', 4: 'cats', 1: 'I', 5: 'you'}"
      ]
     },
     "execution_count": 63,
     "metadata": {},
     "output_type": "execute_result"
    }
   ],
   "source": [
    "combo"
   ]
  },
  {
   "cell_type": "code",
   "execution_count": 64,
   "id": "7040f7b2-0198-4229-9406-b5da3ccb1767",
   "metadata": {
    "tags": []
   },
   "outputs": [
    {
     "name": "stdout",
     "output_type": "stream",
     "text": [
      "I\n",
      "love\n",
      "computers\n"
     ]
    }
   ],
   "source": [
    "#see if values in job_example are equal to keys in the dictionary and if so, print the values\n",
    "for i in u:\n",
    "    for k,v in combo.items():\n",
    "        if i == k:\n",
    "            print(v)"
   ]
  }
 ],
 "metadata": {
  "kernelspec": {
   "display_name": "Python 3 (ipykernel)",
   "language": "python",
   "name": "python3"
  },
  "language_info": {
   "codemirror_mode": {
    "name": "ipython",
    "version": 3
   },
   "file_extension": ".py",
   "mimetype": "text/x-python",
   "name": "python",
   "nbconvert_exporter": "python",
   "pygments_lexer": "ipython3",
   "version": "3.11.5"
  }
 },
 "nbformat": 4,
 "nbformat_minor": 5
}
