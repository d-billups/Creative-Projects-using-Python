{
 "cells": [
  {
   "cell_type": "markdown",
   "id": "b1323a4b-ba3b-4980-a2af-6141e81f090b",
   "metadata": {
    "tags": []
   },
   "source": [
    "I applied to a job and there was a coding assignment. The assignment required me to read in a text file containing a list of numbers corresponding with words. I had to read in the file, create a pyramid function that would increase the numbers on each line as the rows increase, and lastly, print out a message based on the numbers at the end of each line in the pyramid (since each number corresponds to a word)"
   ]
  },
  {
   "cell_type": "code",
   "execution_count": null,
   "id": "07225a4e-4562-4202-b855-14251af2cce4",
   "metadata": {},
   "outputs": [],
   "source": [
    "#create function to read in txt file\n",
    "\n",
    "def get_txt(filename):\n",
    "    with open(filename) as file:\n",
    "        doc = file.read()\n",
    "        clean_file=doc.split('\\n')\n",
    "      \n",
    "    return clean_file"
   ]
  },
  {
   "cell_type": "code",
   "execution_count": 2,
   "id": "1ce7beec-63ff-4515-ba4b-e8c622027c87",
   "metadata": {
    "tags": []
   },
   "outputs": [],
   "source": [
    "text = get_txt('job2.txt')"
   ]
  },
  {
   "cell_type": "code",
   "execution_count": 3,
   "id": "688289e5-ad44-4afd-8457-6bd0d2d6a0c8",
   "metadata": {
    "tags": []
   },
   "outputs": [],
   "source": [
    "#use regex to separate numeric list from alpha list\n",
    "import regex as re"
   ]
  },
  {
   "cell_type": "code",
   "execution_count": 41,
   "id": "0d607ecc-1119-4917-999a-d6a7beed4a11",
   "metadata": {
    "tags": []
   },
   "outputs": [],
   "source": [
    "num_seq = '(\\d+)\\s'"
   ]
  },
  {
   "cell_type": "code",
   "execution_count": 42,
   "id": "1b228ebf-1371-4818-85e3-7b34c545114a",
   "metadata": {
    "tags": []
   },
   "outputs": [],
   "source": [
    "numbers = []\n",
    "for i in text:\n",
    "    x= re.match(seq,i)\n",
    "    numbers.append((x.group().strip()))"
   ]
  },
  {
   "cell_type": "code",
   "execution_count": 44,
   "id": "b1a92338-adae-429b-a701-0f4d87ab0464",
   "metadata": {
    "tags": []
   },
   "outputs": [],
   "source": [
    "word_seq = '[a-z]+|[A-Z]+'"
   ]
  },
  {
   "cell_type": "code",
   "execution_count": 45,
   "id": "aafd0d07-5570-4e88-8733-ad1d966e2afb",
   "metadata": {
    "tags": []
   },
   "outputs": [],
   "source": [
    "words = []\n",
    "for i in text:\n",
    "    m= re.search(word_seq,i)\n",
    "    words.append((m.group()))"
   ]
  },
  {
   "cell_type": "code",
   "execution_count": 46,
   "id": "08c39e03-6689-45a6-ac2c-155566c78781",
   "metadata": {
    "tags": []
   },
   "outputs": [],
   "source": [
    "nums = [int(i) for i in numbers]"
   ]
  },
  {
   "cell_type": "code",
   "execution_count": 47,
   "id": "a9a5cf8e-e0f6-4296-8bd2-7362c02c9154",
   "metadata": {
    "tags": []
   },
   "outputs": [],
   "source": [
    "#create pyramid function\n",
    "\n",
    "def pyramid(nums):\n",
    "    start = 0\n",
    "    length = len(nums)\n",
    "    end_= max(nums)\n",
    "    end_nums = [] # keep track of end of line numbers\n",
    "    \n",
    "    for i in range(1,length-2):\n",
    "        for j in range(1, i+1):\n",
    "            print(start+1,end=' ')\n",
    "            start += 1\n",
    "        end_= max(emp2)\n",
    "        print()\n",
    "        end_nums.append(start)\n",
    "        if start >= end_:\n",
    "            break\n",
    "    return end_nums"
   ]
  },
  {
   "cell_type": "code",
   "execution_count": 48,
   "id": "d93c5704-c69f-4c07-9ecd-ec7ea678835b",
   "metadata": {
    "tags": []
   },
   "outputs": [
    {
     "name": "stdout",
     "output_type": "stream",
     "text": [
      "1 \n",
      "2 3 \n",
      "4 5 6 \n",
      "7 8 9 10 \n",
      "11 12 13 14 15 \n",
      "16 17 18 19 20 21 \n",
      "22 23 24 25 26 27 28 \n",
      "29 30 31 32 33 34 35 36 \n",
      "37 38 39 40 41 42 43 44 45 \n",
      "46 47 48 49 50 51 52 53 54 55 \n",
      "56 57 58 59 60 61 62 63 64 65 66 \n",
      "67 68 69 70 71 72 73 74 75 76 77 78 \n",
      "79 80 81 82 83 84 85 86 87 88 89 90 91 \n",
      "92 93 94 95 96 97 98 99 100 101 102 103 104 105 \n",
      "106 107 108 109 110 111 112 113 114 115 116 117 118 119 120 \n",
      "121 122 123 124 125 126 127 128 129 130 131 132 133 134 135 136 \n",
      "137 138 139 140 141 142 143 144 145 146 147 148 149 150 151 152 153 \n",
      "154 155 156 157 158 159 160 161 162 163 164 165 166 167 168 169 170 171 \n",
      "172 173 174 175 176 177 178 179 180 181 182 183 184 185 186 187 188 189 190 \n",
      "191 192 193 194 195 196 197 198 199 200 201 202 203 204 205 206 207 208 209 210 \n",
      "211 212 213 214 215 216 217 218 219 220 221 222 223 224 225 226 227 228 229 230 231 \n",
      "232 233 234 235 236 237 238 239 240 241 242 243 244 245 246 247 248 249 250 251 252 253 \n",
      "254 255 256 257 258 259 260 261 262 263 264 265 266 267 268 269 270 271 272 273 274 275 276 \n",
      "277 278 279 280 281 282 283 284 285 286 287 288 289 290 291 292 293 294 295 296 297 298 299 300 \n"
     ]
    }
   ],
   "source": [
    "n = pyramid(nums)"
   ]
  },
  {
   "cell_type": "code",
   "execution_count": 49,
   "id": "53c1b88d-aa45-4d9c-99a6-2d2593f2ff1a",
   "metadata": {
    "tags": []
   },
   "outputs": [
    {
     "data": {
      "text/plain": [
       "[1,\n",
       " 3,\n",
       " 6,\n",
       " 10,\n",
       " 15,\n",
       " 21,\n",
       " 28,\n",
       " 36,\n",
       " 45,\n",
       " 55,\n",
       " 66,\n",
       " 78,\n",
       " 91,\n",
       " 105,\n",
       " 120,\n",
       " 136,\n",
       " 153,\n",
       " 171,\n",
       " 190,\n",
       " 210,\n",
       " 231,\n",
       " 253,\n",
       " 276,\n",
       " 300]"
      ]
     },
     "execution_count": 49,
     "metadata": {},
     "output_type": "execute_result"
    }
   ],
   "source": [
    "#list of numbers at the end of each line in the pyramid\n",
    "n"
   ]
  },
  {
   "cell_type": "code",
   "execution_count": 50,
   "id": "8e3d3eee-be45-49b3-8c78-ec5db3e90a17",
   "metadata": {
    "tags": []
   },
   "outputs": [],
   "source": [
    "#break original list up to map together for dictionary\n",
    "combo = dict(zip(emp2,emp3))"
   ]
  },
  {
   "cell_type": "code",
   "execution_count": 54,
   "id": "6197db6a-93fc-4840-ba35-53d1dfaa165e",
   "metadata": {
    "tags": []
   },
   "outputs": [],
   "source": [
    "#combo"
   ]
  },
  {
   "cell_type": "code",
   "execution_count": 55,
   "id": "36cb8068-1261-48aa-8cdd-043271ab15d2",
   "metadata": {
    "tags": []
   },
   "outputs": [
    {
     "name": "stdout",
     "output_type": "stream",
     "text": [
      "down\n",
      "dont\n",
      "nine\n",
      "lot\n",
      "work\n",
      "silver\n",
      "east\n",
      "duck\n",
      "done\n",
      "tone\n",
      "bit\n",
      "stop\n",
      "sun\n",
      "deal\n",
      "huge\n",
      "moment\n",
      "poem\n",
      "hold\n",
      "make\n",
      "like\n",
      "possible\n",
      "clock\n",
      "of\n",
      "bought\n"
     ]
    }
   ],
   "source": [
    "#see if values in job_example are equal to keys in the dictionary and if so, print the values\n",
    "for i in n:\n",
    "    for k,v in combo.items():\n",
    "        if i == k:\n",
    "            print(v)"
   ]
  },
  {
   "cell_type": "code",
   "execution_count": null,
   "id": "5d972855-b6b4-4152-b180-f71c596d08c6",
   "metadata": {},
   "outputs": [],
   "source": []
  }
 ],
 "metadata": {
  "kernelspec": {
   "display_name": "Python 3 (ipykernel)",
   "language": "python",
   "name": "python3"
  },
  "language_info": {
   "codemirror_mode": {
    "name": "ipython",
    "version": 3
   },
   "file_extension": ".py",
   "mimetype": "text/x-python",
   "name": "python",
   "nbconvert_exporter": "python",
   "pygments_lexer": "ipython3",
   "version": "3.11.5"
  }
 },
 "nbformat": 4,
 "nbformat_minor": 5
}
