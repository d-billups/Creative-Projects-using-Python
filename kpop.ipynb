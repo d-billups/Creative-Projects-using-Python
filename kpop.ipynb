{
 "cells": [
  {
   "cell_type": "code",
   "execution_count": 1,
   "id": "da076437-b010-43ca-aea1-95d1e81dec57",
   "metadata": {
    "tags": []
   },
   "outputs": [],
   "source": [
    "from bs4 import BeautifulSoup as chunky\n",
    "import requests\n",
    "import pandas as bear\n",
    "import regex as re\n",
    "import random as ran"
   ]
  },
  {
   "cell_type": "markdown",
   "id": "bd119b5f",
   "metadata": {},
   "source": [
    "The HTML varies from webpage to webpage for this particular project so it isn't as clean as I would love for it to \n",
    "be but the idea is to scrape discography information for kpop artists and append it to a dictionary"
   ]
  },
  {
   "cell_type": "markdown",
   "id": "884d3c6f",
   "metadata": {},
   "source": [
    "In this step, I went to the discography page for all kpop artists and my intention was to scrape so that i can have a complete list of all the artists names."
   ]
  },
  {
   "cell_type": "code",
   "execution_count": 2,
   "id": "a7d4455b-e282-430d-9f61-29a3e38077c4",
   "metadata": {
    "tags": []
   },
   "outputs": [],
   "source": [
    "link = 'https://kprofiles.com/kpop-discographies/'"
   ]
  },
  {
   "cell_type": "code",
   "execution_count": 3,
   "id": "9e428b53-b63b-47ae-acaa-f79093256dd8",
   "metadata": {
    "tags": []
   },
   "outputs": [],
   "source": [
    "step1 = requests.get(link)"
   ]
  },
  {
   "cell_type": "code",
   "execution_count": 4,
   "id": "ff46b80b-a6f9-4e80-83a4-fad65cd08d60",
   "metadata": {
    "tags": []
   },
   "outputs": [],
   "source": [
    "soup = chunky(step1.content, 'html.parser')"
   ]
  },
  {
   "cell_type": "code",
   "execution_count": 5,
   "id": "9647cb74-4e0f-4883-b08b-c914dacc4d4d",
   "metadata": {
    "tags": []
   },
   "outputs": [],
   "source": [
    "kpop = soup.find(id='content').get_text()"
   ]
  },
  {
   "cell_type": "code",
   "execution_count": 6,
   "id": "78d095bc-036e-44c6-94b3-6a4bc5826cb1",
   "metadata": {
    "tags": []
   },
   "outputs": [],
   "source": [
    "look = '\\n(.+)\\sDis.*'"
   ]
  },
  {
   "cell_type": "code",
   "execution_count": 7,
   "id": "fe1cc5b6-3002-49cd-be56-e3b9fc17f861",
   "metadata": {
    "tags": []
   },
   "outputs": [],
   "source": [
    "artists = re.findall(look,kpop)"
   ]
  },
  {
   "cell_type": "code",
   "execution_count": 306,
   "id": "b15832d9",
   "metadata": {},
   "outputs": [
    {
     "data": {
      "text/plain": [
       "571"
      ]
     },
     "execution_count": 306,
     "metadata": {},
     "output_type": "execute_result"
    }
   ],
   "source": [
    "len(artists)"
   ]
  },
  {
   "cell_type": "code",
   "execution_count": 307,
   "id": "c21b6a33",
   "metadata": {},
   "outputs": [
    {
     "data": {
      "text/plain": [
       "['1014',\n",
       " '109',\n",
       " '15&',\n",
       " '1CHU',\n",
       " '1NB',\n",
       " '1set',\n",
       " '1TEAM',\n",
       " '1THE9',\n",
       " '2315',\n",
       " '24K',\n",
       " '2danji',\n",
       " '2NE1',\n",
       " '2NYNE',\n",
       " '2Z',\n",
       " '3YE',\n",
       " '4CARAT',\n",
       " '4Minute',\n",
       " '7anhee',\n",
       " '7th Sense Unit',\n",
       " '82MAJOR',\n",
       " '8TURN',\n",
       " '9MUSES',\n",
       " 'AB6IX',\n",
       " 'ABLUE',\n",
       " 'ABRY']"
      ]
     },
     "execution_count": 307,
     "metadata": {},
     "output_type": "execute_result"
    }
   ],
   "source": [
    "artists[:25]"
   ]
  },
  {
   "cell_type": "markdown",
   "id": "4f4ac2f1",
   "metadata": {},
   "source": [
    "From here, I decided to use the random module to generate a random name/group to later explore their discography info. I used the 'artists' list that I just created as my sample pool, which contains 571 kpop artists."
   ]
  },
  {
   "cell_type": "code",
   "execution_count": 285,
   "id": "d8235ebc",
   "metadata": {},
   "outputs": [],
   "source": [
    "random_pick =ran.choice(artists).lower()"
   ]
  },
  {
   "cell_type": "code",
   "execution_count": 286,
   "id": "2d9e69d7",
   "metadata": {},
   "outputs": [
    {
     "data": {
      "text/plain": [
       "'gain'"
      ]
     },
     "execution_count": 286,
     "metadata": {},
     "output_type": "execute_result"
    }
   ],
   "source": [
    "random_pick"
   ]
  },
  {
   "cell_type": "markdown",
   "id": "98e01fc9",
   "metadata": {},
   "source": [
    "Some of the artist's names contain symbols and whitespace that would interfere with formatting string in the link (see below). All of the pages follow the same convention: 'https://kprofiles.com/{artist}-discography/, with the only difference being the artists name. If the name has spaces in it, the website has transformed those into hyphens and have completely omitted any special characters. Because of that, I used regex to removed the special characters if found and to change a black space to a hyphen."
   ]
  },
  {
   "cell_type": "code",
   "execution_count": 287,
   "id": "a92c5026",
   "metadata": {},
   "outputs": [],
   "source": [
    "sc = r'[!|@|#|$|%|\\^|&|\\(|\\)|\\.|:]'\n",
    "def group(name):\n",
    "    for i in name:\n",
    "        new = re.sub(sc,'',name)\n",
    "        name = re.sub(' ','-', new)\n",
    "      \n",
    "        return name"
   ]
  },
  {
   "cell_type": "code",
   "execution_count": 288,
   "id": "dac398d8",
   "metadata": {},
   "outputs": [],
   "source": [
    "art_name = group(random_pick)"
   ]
  },
  {
   "cell_type": "code",
   "execution_count": 289,
   "id": "5f2896f8",
   "metadata": {},
   "outputs": [
    {
     "data": {
      "text/plain": [
       "'gain'"
      ]
     },
     "execution_count": 289,
     "metadata": {},
     "output_type": "execute_result"
    }
   ],
   "source": [
    "art_name"
   ]
  },
  {
   "cell_type": "code",
   "execution_count": 290,
   "id": "e5f8f0f8",
   "metadata": {},
   "outputs": [],
   "source": [
    "disc_page = f'https://kprofiles.com/{art_name}-discography/'"
   ]
  },
  {
   "cell_type": "code",
   "execution_count": 291,
   "id": "47dd90f0-7df4-4b1d-8957-847d3d5c296f",
   "metadata": {
    "tags": []
   },
   "outputs": [],
   "source": [
    "step2 = requests.get(disc_page)\n",
    "more_soup = chunky(step2.content, 'html.parser')"
   ]
  },
  {
   "cell_type": "code",
   "execution_count": 308,
   "id": "4ac63188",
   "metadata": {},
   "outputs": [],
   "source": [
    "disc_soup = more_soup.find('div',class_='herald-section container')"
   ]
  },
  {
   "cell_type": "code",
   "execution_count": 309,
   "id": "7850a8b2",
   "metadata": {},
   "outputs": [],
   "source": [
    "discography = disc_soup.text"
   ]
  },
  {
   "cell_type": "markdown",
   "id": "1c420be5",
   "metadata": {},
   "source": [
    "Since these pages are made by fans, the bottom of the page contains polls and creator commentary. \n",
    "The next few steps works to remove that. If the text contains any of the phrases below, the code will grab the\n",
    "index of that item and only include text up until that specific index. If there are multiple phrases present in the text\n",
    "the program will grab the one with the smallest index (comes first) and keep only the text up until that point."
   ]
  },
  {
   "cell_type": "code",
   "execution_count": 294,
   "id": "3ac8ef6b",
   "metadata": {},
   "outputs": [],
   "source": [
    "phrase = [\"What's your favourite\", \"Note:\",\"made by\",\"What is your favorite\",\"What's your favorite\",f\"Which {art_name.upper()}\",\"ResultsPoll\",\"Made by\"]"
   ]
  },
  {
   "cell_type": "code",
   "execution_count": 295,
   "id": "cb1a4c25",
   "metadata": {},
   "outputs": [],
   "source": [
    "idx = min([words.index(i) for i in phrase if i in words])"
   ]
  },
  {
   "cell_type": "code",
   "execution_count": 296,
   "id": "26799ded",
   "metadata": {},
   "outputs": [
    {
     "data": {
      "text/plain": [
       "1772"
      ]
     },
     "execution_count": 296,
     "metadata": {},
     "output_type": "execute_result"
    }
   ],
   "source": [
    "idx"
   ]
  },
  {
   "cell_type": "code",
   "execution_count": 297,
   "id": "44d9ba53",
   "metadata": {},
   "outputs": [],
   "source": [
    "nopoll = words[:idx].split('\\n')"
   ]
  },
  {
   "cell_type": "code",
   "execution_count": 298,
   "id": "3c4c30f2",
   "metadata": {},
   "outputs": [
    {
     "data": {
      "text/plain": [
       "['  Gain DiscographyAdd CommentGain (Brown Eyed Girls) Discography',\n",
       " '  Step 2/4',\n",
       " 'Release Date: October 8, 2010',\n",
       " '',\n",
       " 'Mini Album',\n",
       " '1. Nitchell (Baby-G Mix)',\n",
       " '2. Irreversible (돌이킬 수 없는) (Title Track)\\xa0',\n",
       " '3. Tango The Night',\n",
       " '4. Esperando',\n",
       " '5. Ga In (가인) (歌人)',\n",
       " '6. Truth (진실)Bad Temper',\n",
       " 'Release Date: December 21, 2010',\n",
       " '',\n",
       " 'Single',\n",
       " '1. Bad TemperTalk About S',\n",
       " 'Release Date: October 5, 2012',\n",
       " '',\n",
       " 'Mini Album',\n",
       " '1. TinkerBell (팅커벨)',\n",
       " '2. Tiredness (그녀를 만나)',\n",
       " '3. Bloom (피어나) (Title Track)\\xa0',\n",
       " '4. The Gaze (시선) (feat. Yoon Jong Shin)',\n",
       " '5. Catch Me If You CanNostalgia',\n",
       " 'Release Date: November 30, 2012',\n",
       " '',\n",
       " 'Single',\n",
       " '1. Nostalgia (노스텔지아) (feat Eric of SHINHWA)',\n",
       " '2. Nostalgia (노스텔지아) (Inst.)Fxxk U',\n",
       " 'Release Date: January 28, 2014',\n",
       " '',\n",
       " 'Single',\n",
       " '1. Fxxk U (feat. Bumkey)\\xa0Truth Or Dare',\n",
       " 'Release Date: February 6, 2014',\n",
       " '',\n",
       " 'Mini Album',\n",
       " '1. Truth or Dare (진실 혹은 대담) (Title Track)',\n",
       " '2. Fxxk U (feat. Bumkey)',\n",
       " '3. Q&A (feat. Jo Kwon)',\n",
       " '4. Black & White',\n",
       " '5. Disclosure (폭로)',\n",
       " '6. A Tempo (Inst.) (CD Only)A Tempo',\n",
       " 'Release Date: March 21, 2014',\n",
       " '',\n",
       " 'Single',\n",
       " '1. A TempoHawwah',\n",
       " 'Release Date: March 12, 2015',\n",
       " '',\n",
       " 'Mini Album',\n",
       " '1. Apple (feat. Jay Park)',\n",
       " '2. Free Will (feat. Dok2)',\n",
       " '3. Paradise Lost (Title Track)',\n",
       " '4. The First Temptation',\n",
       " '5. Two Women (두 여자)',\n",
       " '6. Guilty12 O’Clock',\n",
       " 'Release Date: December 22, 2015',\n",
       " '',\n",
       " 'Single',\n",
       " '1. Must Have Love (feat. Eric Nam)',\n",
       " '2. 12 O’Clock (열두 시가 되면)End Again',\n",
       " 'Release Date: January 28, 2014',\n",
       " '',\n",
       " 'Album',\n",
       " '1. Carrie (The First Day)',\n",
       " '2. Carnival (The Last Day)\\xa0(Title Track)',\n",
       " '3. The Forest of Fireflies (반딧불이의 숲)',\n",
       " '4. Secret (비밀)',\n",
       " '5. Begin Again (Inst.)Pray (Gain, Jeff\\xa0 Bernat)',\n",
       " 'Release Date: January 22, 2017',\n",
       " '',\n",
       " 'Single',\n",
       " '1. PrayKill or Kill (From “Missing 9”)',\n",
       " 'Release Date: March 2, 2017',\n",
       " '',\n",
       " 'Single',\n",
       " '1. Kill or Kill (From “Missing 9”)',\n",
       " '2. Kill or Kill (From “Missing 9”)Vip Pt.2 (Original Television Soundtrack)',\n",
       " 'Release Date: November 18, 2019',\n",
       " '',\n",
       " 'Single',\n",
       " '1. Set Me Free',\n",
       " '2. Set Me Free (Inst.)']"
      ]
     },
     "execution_count": 298,
     "metadata": {},
     "output_type": "execute_result"
    }
   ],
   "source": [
    "nopoll"
   ]
  },
  {
   "cell_type": "markdown",
   "id": "9b8a1083",
   "metadata": {},
   "source": [
    "The regex usage below will fix some spacing issues in the text"
   ]
  },
  {
   "cell_type": "code",
   "execution_count": 299,
   "id": "524fb00b",
   "metadata": {},
   "outputs": [],
   "source": [
    "p = r'(\\d:\\d{2}|\\?|[a-z]|\\))(\\d{1}.|[A-Z])'\n",
    "q = r'([A-Z][a-z])'"
   ]
  },
  {
   "cell_type": "code",
   "execution_count": 300,
   "id": "a714be1a",
   "metadata": {},
   "outputs": [],
   "source": [
    "grp = []\n",
    "for i in nopoll:\n",
    "    fix = re.sub(p,r'\\1 -- \\2',i)\n",
    "    fix2 = re.sub('\\xa0','',fix)\n",
    "    fix3 = re.sub(q,r' \\1',fix2)\n",
    "    fix4 = re.sub('  ',' ',fix3)\n",
    "    grp.append(fix4.strip())"
   ]
  },
  {
   "cell_type": "code",
   "execution_count": 301,
   "id": "f111c53a",
   "metadata": {},
   "outputs": [],
   "source": [
    "disc = [i for i in grp if i and 'Discography' not in i]"
   ]
  },
  {
   "cell_type": "code",
   "execution_count": 302,
   "id": "c35c9e05",
   "metadata": {},
   "outputs": [
    {
     "data": {
      "text/plain": [
       "['Step 2/4',\n",
       " 'Release Date: October 8, 2010',\n",
       " 'Mini Album',\n",
       " '1. Nitchell ( Baby-G Mix)',\n",
       " '2. Irreversible (돌이킬 수 없는) ( Title Track)',\n",
       " '3. Tango The Night',\n",
       " '4. Esperando',\n",
       " '5. Ga In (가인) (歌人)',\n",
       " '6. Truth (진실) -- Bad Temper',\n",
       " 'Release Date: December 21, 2010',\n",
       " 'Single',\n",
       " '1. Bad Temper -- Talk About S',\n",
       " 'Release Date: October 5, 2012',\n",
       " 'Mini Album',\n",
       " '1. Tinker -- Bell (팅커벨)',\n",
       " '2. Tiredness (그녀를 만나)',\n",
       " '3. Bloom (피어나) ( Title Track)',\n",
       " '4. The Gaze (시선) (feat. Yoon Jong Shin)',\n",
       " '5. Catch Me If You Can -- Nostalgia',\n",
       " 'Release Date: November 30, 2012',\n",
       " 'Single',\n",
       " '1. Nostalgia (노스텔지아) (feat Eric of SHINHWA)',\n",
       " '2. Nostalgia (노스텔지아) ( Inst.) -- Fxxk U',\n",
       " 'Release Date: January 28, 2014',\n",
       " 'Single',\n",
       " '1. Fxxk U (feat. Bumkey) Truth Or Dare',\n",
       " 'Release Date: February 6, 2014',\n",
       " 'Mini Album',\n",
       " '1. Truth or Dare (진실 혹은 대담) ( Title Track)',\n",
       " '2. Fxxk U (feat. Bumkey)',\n",
       " '3. Q&A (feat. Jo Kwon)',\n",
       " '4. Black & White',\n",
       " '5. Disclosure (폭로)',\n",
       " '6. A Tempo ( Inst.) (CD Only) -- A Tempo',\n",
       " 'Release Date: March 21, 2014',\n",
       " 'Single',\n",
       " '1. A Tempo -- Hawwah',\n",
       " 'Release Date: March 12, 2015',\n",
       " 'Mini Album',\n",
       " '1. Apple (feat. Jay Park)',\n",
       " '2. Free Will (feat. Dok -- 2)',\n",
       " '3. Paradise Lost ( Title Track)',\n",
       " '4. The First Temptation',\n",
       " '5. Two Women (두 여자)',\n",
       " '6. Guilty -- 12 O’ Clock',\n",
       " 'Release Date: December 22, 2015',\n",
       " 'Single',\n",
       " '1. Must Have Love (feat. Eric Nam)',\n",
       " '2. 12 O’ Clock (열두 시가 되면) -- End Again',\n",
       " 'Release Date: January 28, 2014',\n",
       " 'Album',\n",
       " '1. Carrie ( The First Day)',\n",
       " '2. Carnival ( The Last Day)( Title Track)',\n",
       " '3. The Forest of Fireflies (반딧불이의 숲)',\n",
       " '4. Secret (비밀)',\n",
       " '5. Begin Again ( Inst.) -- Pray ( Gain, Jeff Bernat)',\n",
       " 'Release Date: January 22, 2017',\n",
       " 'Single',\n",
       " '1. Pray -- Kill or Kill ( From “ Missing 9”)',\n",
       " 'Release Date: March 2, 2017',\n",
       " 'Single',\n",
       " '1. Kill or Kill ( From “ Missing 9”)',\n",
       " '2. Kill or Kill ( From “ Missing 9”) -- Vip Pt.2 ( Original Television Soundtrack)',\n",
       " 'Release Date: November 18, 2019',\n",
       " 'Single',\n",
       " '1. Set Me Free',\n",
       " '2. Set Me Free ( Inst.)']"
      ]
     },
     "execution_count": 302,
     "metadata": {},
     "output_type": "execute_result"
    }
   ],
   "source": [
    "disc"
   ]
  },
  {
   "cell_type": "code",
   "execution_count": 107,
   "id": "5f44c6f5",
   "metadata": {},
   "outputs": [],
   "source": [
    "##kpop_dict = {}"
   ]
  },
  {
   "cell_type": "code",
   "execution_count": null,
   "id": "5cfa6a77",
   "metadata": {},
   "outputs": [],
   "source": [
    "#Append each artist and their discography to a dictionary"
   ]
  },
  {
   "cell_type": "code",
   "execution_count": 303,
   "id": "bca234a8",
   "metadata": {},
   "outputs": [],
   "source": [
    "kpop_dict['Artist:',random_pick.upper()]= 'DISCOGRAPHY:',disc"
   ]
  },
  {
   "cell_type": "code",
   "execution_count": 304,
   "id": "51e834aa",
   "metadata": {},
   "outputs": [
    {
     "data": {
      "text/plain": [
       "{('Artist:', 'HORI7ON'): ('DISCOGRAPHY:',\n",
       "  ['DASH',\n",
       "   'Release Date: March 22, 2023',\n",
       "   'Single --DASHDASH (Inst.) --Salamat',\n",
       "   'Release Date: April 5, 2023',\n",
       "   'Single --Salamat --Salamat (Inst.) --Lovey Dovey',\n",
       "   'Release Date: May 31, 2023',\n",
       "   'Digital Single --Lovey Dovey --Lovey Dovey (Inst.) --Friend-SHIP',\n",
       "   'Release Date: July 24, 2023',\n",
       "   '1st Album --METEOR (Prod. --Noa of TFN) --SIX7EENBirthday --Mama --How You Feel (ft. --HAEUN of Lapillus) --Death Or Paradise --Take My Hand --Tiger --Hit Me --Odd Eye --Lovey Dovey --SIX7EEN (Inst.) --CD Only:Bonnie & Clyde (ft. --Leo of TFN) --Light Way (ft. --Noa of TFN)틍 (ft. --Jom of new:ID) --Like a fiction (ft. --Macky of new:ID) --Ready To Burn (ft. --Thad of new:ID) --Silhouette (ft. --Wilson of new:ID) --Cost (ft. --Josh. --L of new:ID) --DASHSalamat --DAYTOUR',\n",
       "   'Release Date: March 2, 2024',\n",
       "   'Single --LUCKYLUCKY (Inst.)']),\n",
       " ('Artist:', 'MYB'): ('DISCOGRAPHY:',\n",
       "  ['My Oh My',\n",
       "   'Release date: August 25, 2015',\n",
       "   'First Single Album -- My Oh My (심장어택) -- Shepherd Girl (양치기 소녀) -- My Oh My ( Inst.) -- Shepherd Girl ( Inst.) --DDODDO',\n",
       "   'Release date: November 13, 2015',\n",
       "   'Second Single Album --DDODDO (또또) --D- Day --DDODDO ( Inst.) --D- Day ( Inst.)']),\n",
       " ('Artist:', 'ROCKY'): ('DISCOGRAPHY:',\n",
       "  ['1st Mini Album',\n",
       "   'Release Date: November 22, 2023 Music Is My Life -- Lucky Rocky -- Your Halley -- Chameleon볼래 말래 ( Yes or No)날 찾아줘 ( Find Me) -- Christmas Dance',\n",
       "   '1st Single',\n",
       "   'Release Date: December 18, 2023 Christmas Dance -- Christmas Dance ( Instrumental)']),\n",
       " ('Artist:', 'AFTER SCHOOL'): ('DISCOGRAPHY:',\n",
       "  ['New Schoolgirl',\n",
       "   'Release Date: January 15, 2009',\n",
       "   'Single',\n",
       "   '1. Playgirlz',\n",
       "   '2. Ah',\n",
       "   '3. Bad Bastard',\n",
       "   '4. Ah (instrumental) -- Diva',\n",
       "   'Release Date: April 9, 2009',\n",
       "   'Single',\n",
       "   '1. Diva',\n",
       "   '2. Diva (instrumental) -- Because of You',\n",
       "   'Release Date: November 25, 2009',\n",
       "   'Single',\n",
       "   '1. Because of You',\n",
       "   '2. When I Fall',\n",
       "   '3. Diva',\n",
       "   '4. Because of You (instrumental) -- Bang!',\n",
       "   'Release Date: March 25, 2010',\n",
       "   'Single',\n",
       "   '1. Let’s Do It!',\n",
       "   '2. Bang!',\n",
       "   '3. With U',\n",
       "   '4. Bang! (instrumental) -- The First Mini Album ( Orange Caramel)',\n",
       "   'Release Date: June 17, 2010',\n",
       "   'Mini Subunit Album',\n",
       "   '1. Magic Girl',\n",
       "   '2. Love Doesn’t Wait ( Raina Solo)',\n",
       "   '3. Magic Girl (instrumental)',\n",
       "   '4. Love Doesn’t Wait (instrumental)',\n",
       "   '5. The Day You Went Away -- The Second Mini Album ( Orange Caramel)',\n",
       "   'Release Date: November 18, 2010',\n",
       "   'Mini Subunit Album',\n",
       "   '1. Aing ♡',\n",
       "   '2. One Love',\n",
       "   '3. Yet… ( Raina Solo)',\n",
       "   '4. In This Place',\n",
       "   '5. Aing ♡ (instrumental) -- Hazel Eyes',\n",
       "   'Release Date: December 7, 2010',\n",
       "   'Single',\n",
       "   '1. Love Love Love',\n",
       "   '2. Someone is You',\n",
       "   '3. Love Love Love (instrumental)',\n",
       "   '4. Someone is You (instrumental) -- Bangkok City ( Orange Caramel)',\n",
       "   'Release Date: April 20, 2011',\n",
       "   'Subunit Single',\n",
       "   '1. Bangkok City',\n",
       "   '2. Bangkok City (instrumental) -- Virgin',\n",
       "   'Release Date: April 27, 2011',\n",
       "   'Full Album',\n",
       "   '1. Let’s Step Up',\n",
       "   '2. Shampoo',\n",
       "   '3. Virgin',\n",
       "   '4. Bang! (2011 Recording)',\n",
       "   '5. Play Ur Love',\n",
       "   '6. Dream (feat. Yoonjo)',\n",
       "   '7. Because of You (2011 Recording)',\n",
       "   '8. Depend on Time ( Raina Solo)',\n",
       "   '9. Nothing to Complain of',\n",
       "   '10. Funky Man ( Nana & Lizzy duet) (feat. Kyungmin)',\n",
       "   '11. My Bell ( Jungah Solo)',\n",
       "   '12. When I Fall (2011 Recording)',\n",
       "   '13. Shampoo ( Radio Edit) -- Red (A. --S. Red)',\n",
       "   'Release Date: July 20, 2011',\n",
       "   'Subunit Single',\n",
       "   '1. In the Night Sky',\n",
       "   '2. Hollywood -- Blue (A. --S. Blue)',\n",
       "   'Release Date: July 20, 2011',\n",
       "   'Subunit Single',\n",
       "   '1. Wonder Boy',\n",
       "   '2. Lady -- Bang! ( Japanese)',\n",
       "   'Release Date: August 17, 2010',\n",
       "   'Japanese Single',\n",
       "   '1. Bang! ( Japanese)',\n",
       "   '2. Super Sexy -- Shanghai Romance ( Orange Caramel)',\n",
       "   'Release Date: October 12, 2011',\n",
       "   'Subunit Single',\n",
       "   '1. Shanghai Romance',\n",
       "   '2. Close Your Eyes ( Nana Solo)',\n",
       "   '3. The Day You Went Away -- Diva ( Japanese)',\n",
       "   'Release Date: November 23, 2011',\n",
       "   'Japanese Single',\n",
       "   '1. Diva ( Japanese)',\n",
       "   '2. Ready to Love -- Cho Young Soo All Star ( Orange Caramel)',\n",
       "   'Release Date: December 16, 2011',\n",
       "   'Subunit Single',\n",
       "   '1. Funny Hunny',\n",
       "   '2. Funny Hunny (instrumental) -- Rambling Girls / Because of You ( Japanese)',\n",
       "   'Release Date: January 25, 2012',\n",
       "   'Japanese Single',\n",
       "   '1. Rambling Girls',\n",
       "   '2. Because of You ( Japanese) -- Playgirlz',\n",
       "   'Release Date: March 14, 2012',\n",
       "   'Full Japanese Album',\n",
       "   '1. Rip Off',\n",
       "   '2. Rambling Girls',\n",
       "   '3. Broken Heart ( Jungah, Raina, Nana, E- Young)',\n",
       "   '4. Diva ( Japanese)',\n",
       "   '5. Just in Time',\n",
       "   '6. Shampoo ( Japanese)',\n",
       "   '7. Because of You ( Japanese)',\n",
       "   '8. Gimme Love',\n",
       "   '9. Miss Futuristic ( Kahi, Juyeon, Uee, Lizzy)',\n",
       "   '10. Bang! ( Japanese)',\n",
       "   '11. Tell Me',\n",
       "   '12. Shanghai Romance ( Orange Caramel) ( Japanese) -- Lady Luck / Dilly Dally',\n",
       "   'Release Date: June 13, 2012',\n",
       "   'Japanese Single',\n",
       "   '1. Lady Luck',\n",
       "   '2. Dilly Dally',\n",
       "   '3. Slow Love -- Flashback',\n",
       "   'Release Date: June 20, 2012',\n",
       "   'Mini Album',\n",
       "   '1. Rip Off ( Korean)',\n",
       "   '2. Flashback',\n",
       "   '3. Eyeline ( Nana Solo)',\n",
       "   '4. Wristwatch',\n",
       "   '5. Timeless ( Jungah & Raina Duet) -- My Sweet Devil ( Orange Caramel)',\n",
       "   'Release Date: September 5, 2012',\n",
       "   'Japanese Subunit Single',\n",
       "   '1. My Sweet Devil',\n",
       "   '2. Magic Girl ( Japanese) -- Lipstick ( Orange Caramel)',\n",
       "   'Release Date: September 12, 2012',\n",
       "   'Full Subunit Album',\n",
       "   '1. Bubble Bath',\n",
       "   '2. Milkshake',\n",
       "   '3. Lipstick',\n",
       "   '4. Aing ♡',\n",
       "   '5. Magic Girl',\n",
       "   '6. Yet… ( Raina Solo)',\n",
       "   '7. Superwoman ( Raina Solo) (feat. Choi Seungcheol)',\n",
       "   '8. One Love',\n",
       "   '9. Shanghai Romance',\n",
       "   '10. Clara’s Dream ( Lizzy Solo)',\n",
       "   '11. Close Your Eyes ( Nana Solo)',\n",
       "   '12. Love Doesn’t Wait ( Raina Solo)',\n",
       "   '13. Bangkok City (2012 Recording) -- Lipstick ( Japanese) / Lum No Love Song ( Orange Caramel)',\n",
       "   'Release Date: December 12, 2012',\n",
       "   'Japanese Subunit Single',\n",
       "   '1. Lipstick ( Japanese)',\n",
       "   '2. Lum no Love Song -- Cookie Cream & Mint ( Orange Caramel)',\n",
       "   'Release Date: March 6, 2013',\n",
       "   'Japanese Subunit Single',\n",
       "   '1. Cookie Cream & Mint -- Orange Caramel ( Orange Caramel)',\n",
       "   'Release Date: March 13, 2013',\n",
       "   'Full Japanese Subunit Album',\n",
       "   '1. Aing ♡ ( Japanese)',\n",
       "   '2. Magic Girl ( Japanese)',\n",
       "   '3. Cookie Cream & Mint',\n",
       "   '4. Bangkok City ( Japanese)',\n",
       "   '5. Lipstick ( Japanese)',\n",
       "   '6. The Angel’s Wink',\n",
       "   '7. Lum no Love Song',\n",
       "   '8. My Sweet Devil',\n",
       "   '9. Shanghai Romance ( Japanese)',\n",
       "   '10. Red Shoes',\n",
       "   '11. Sleeping Forest ( Nana Solo)',\n",
       "   '12. Sour Grapes ( Lizzy Solo)',\n",
       "   '13. Meteor and Piercing ( Raina Solo) -- First Love',\n",
       "   'Release Date: June 13, 2013',\n",
       "   'Mini Album',\n",
       "   '1. 8 hot girl',\n",
       "   '2. First Love',\n",
       "   '3. Dressing Room',\n",
       "   '4. Time’s Up',\n",
       "   '5. Love Beat',\n",
       "   '6. Makeup and Tears ( Jungah & Raina Duet) -- Heaven',\n",
       "   'Release Date: October 2, 2013',\n",
       "   'Japanese Single',\n",
       "   '1. Heaven',\n",
       "   '2. Crazy Driver -- Shh',\n",
       "   'Release Date: January 29, 2014',\n",
       "   'Japanese Single',\n",
       "   '1. Shh',\n",
       "   '2. Rock It! Week',\n",
       "   'Release Date: February 21, 2014',\n",
       "   'Single',\n",
       "   '1. Week -- Catallena ( Orange Caramel)',\n",
       "   'Release Date: March 12, 2014',\n",
       "   'Subunit Single',\n",
       "   '1. Catallena',\n",
       "   '2. So Sorry',\n",
       "   '3. Crying Uncontrollably -- Dress to Kill',\n",
       "   'Release Date: March 19, 2014',\n",
       "   'Full Japanese Album',\n",
       "   '1. Dress Code',\n",
       "   '2. Dress to Kill',\n",
       "   '3. Ms. Independent',\n",
       "   '4. Triangle',\n",
       "   '5. Crazy Driver',\n",
       "   '6. Shh',\n",
       "   '7. Yes No Yes',\n",
       "   '8. Heaven',\n",
       "   '9. In the Moonlight',\n",
       "   '10. Rock It!',\n",
       "   '11. Spotlight',\n",
       "   '12. Killing Eyes -- Abing Abing ( Orange Caramel)',\n",
       "   'Release Date: May 20, 2014',\n",
       "   'Subunit Single',\n",
       "   '1. Abing Abing -- My Copycat ( Orange Caramel)',\n",
       "   'Release Date: August 18, 2014',\n",
       "   'Subunit Single',\n",
       "   '1. My Copycat',\n",
       "   '2. The Gangnam Avenue -- Shine',\n",
       "   'Release Date: November 19, 2014',\n",
       "   'Japanese Single',\n",
       "   '1. Shine -- Bold songs have a music video']),\n",
       " ('Artist:', 'MAMAMOO'): ('DISCOGRAPHY:',\n",
       "  ['Don’t Be Happy',\n",
       "   'Collaboration Pre-debut Single',\n",
       "   'January 9, 2014',\n",
       "   'Don’t Be Happy (with Bumkey) -- Don’t Be Happy ( Instrumental) -- Peppermint Chocolate',\n",
       "   'Collaboration Pre-debut Single',\n",
       "   'February 11, 2014',\n",
       "   'Peppermint Chocolate(썸남썸녀) (withK. Willft. Wheesung) -- Peppermint Chocolate ( Instrumental) -- Heeheehaheho',\n",
       "   'Pre-debut Single',\n",
       "   'May 30, 2014',\n",
       "   'Heeheehaheho -- Heeheehaheho ( Instrumental) -- Hello',\n",
       "   '1st Mini Album',\n",
       "   'June 18, 2014',\n",
       "   'Hello -- Mr. Ambiguous ( Mr. 애매모호) -- Heeheehaheho (히히하헤호) (with Geeks) -- Baton Touch --I Do Me (내맘이야) – Hwasa -- Don’t Be Happy (행복하지마) (with Bumkey) -- Piano Man',\n",
       "   '2nd Mini Album',\n",
       "   'November 21, 2014',\n",
       "   'Piano Man -- Gentleman -- Love Lane (CD ONLY) -- Piano Man ( Piano Ver.) -- Piano Man ( Instrumental) --AAH OOP!',\n",
       "   'Collaboration Single',\n",
       "   'April 2, 2015',\n",
       "   'AAH OOP! (아훕!) (withe --S Na) --AAH OOP! ( Instrumental) -- Pink Funky',\n",
       "   '3rd Mini Album',\n",
       "   'June 19, 2015',\n",
       "   'Freakin Shoes -- Um Oh Ah Yeh -- Sting -- No No No -- Self Camera -- Ahh Oop! (아훕!) (withe --S Na) -- Girl Crush',\n",
       "   'Promotional Single ( Video Game – “ Innisia Nest”)',\n",
       "   'September 25, 2015',\n",
       "   'Girl Crush -- Girl Crush ( Instrumental) --I Miss You',\n",
       "   'Single',\n",
       "   'February 5, 2016',\n",
       "   'I Miss You --I Miss You ( Instrumental) -- Taller Than You',\n",
       "   'Single',\n",
       "   'February 12, 2016',\n",
       "   'Taller Than You (1cm의 자존심) -- Melting',\n",
       "   'First Full Album',\n",
       "   'February 26, 2016',\n",
       "   'Taller Than You -- Words Don’t Come Easy -- You’re the Best -- Friday Night -- My Hometown -- Emotion --I Miss You -- Funky Boy -- Recipe -- Cat Fight -- Just -- Girl Crush -- You’re the Best ( Instrumental) -- New York',\n",
       "   'Single',\n",
       "   'September 21, 2016',\n",
       "   'New York -- Angel, Dab Dab',\n",
       "   'Single',\n",
       "   'August 31, 2016',\n",
       "   'Angel -- Dab Dab -- Memory',\n",
       "   '4th Mini Album',\n",
       "   'November 7, 2016',\n",
       "   'Memory --Décalcomanie -- New York -- Moderato -- Angel -- Dab Dab --I Love Too -- Woo Hoo -- Purple',\n",
       "   '5th Mini Album',\n",
       "   'June 22, 2017',\n",
       "   'Yes I Am -- Finally -- Love & Hate --AZE GAGDA RA DA Paint Me',\n",
       "   'Single',\n",
       "   'January 4, 2018',\n",
       "   'Paint Me -- Paint Me ( Instrumental) -- Yellow Flower',\n",
       "   '6th Mini Album',\n",
       "   'March 7, 2018',\n",
       "   'From Winter to Spring -- Star Wind Flower Sun -- Starry Night -- Be Calm -- Rude Boy -- Spring Fever -- Paint Me -- Everyday',\n",
       "   'Single',\n",
       "   'March 30, 2018',\n",
       "   'Everyday -- Rainy Season',\n",
       "   'Single',\n",
       "   'July 1, 2018',\n",
       "   'Rainy Season -- Red Moon',\n",
       "   '7th Mini Album',\n",
       "   'July 16, 2018',\n",
       "   'Midnight Summer Dream -- Egotistic -- Rainy Season -- Sky! Sky! Sleep in the Car -- Selfish --Décalcomanie ~ Japanese Version~',\n",
       "   'Japanese Single',\n",
       "   'October 3, 2018',\n",
       "   'Décalcomanie ( Japanese Ver.) -- You Don’t Know Me -- Blue;s',\n",
       "   '8th Mini Album',\n",
       "   'November 29, 2018',\n",
       "   'From Autumn to Winter -- No More Drama -- Wind Flower --HELLO Better Than I Thought -- Morning -- Wind Flower ~ Japanese Version~',\n",
       "   'Japanese Single',\n",
       "   'February 6, 2019',\n",
       "   'Wind Flower ( Japanese Ver.) -- Sleep Talk -- Shampoo',\n",
       "   'Single',\n",
       "   'February 18, 2019',\n",
       "   'Shampoo -- White Wind',\n",
       "   '9th Mini Album',\n",
       "   'March 14, 2019',\n",
       "   'Where R U Gogobebe -- Waggy --25 Bad Bye -- My Star --4season -- Gleam',\n",
       "   'Promotional Single',\n",
       "   'July 24, 2019',\n",
       "   'Gleam -- Gleam ( Instrumental) --4colors',\n",
       "   '1st Japanese Full Album',\n",
       "   'August 7, 2019',\n",
       "   'Starry Night ( Japanese Ver.) -- Be Calm -- Egotistic ( Japanese Ver.) -- Selfish -- Wind Flower ( Japanese Ver.) --HELL Ogogobebe ( Japanese Ver.) --25Décalcomanie ( Japanese Ver.) -- You Don’t Know Me -- Sleep Talk -- Nada Sousou -- Queendom',\n",
       "   'Special Release',\n",
       "   'October 18, 2019',\n",
       "   'I Miss You -- Reality in Black',\n",
       "   '2nd Full Album',\n",
       "   'November 14, 2019',\n",
       "   'r -- Destiny -- Universe -- Ten Nights -- Hip --4x4ever -- Better -- Hello Mama -- Zz -- Zz -- Reality -- High Tension --I’m Your Fan -- Wanna Be Myself',\n",
       "   'Promotion Single (athleisure brand Andar)',\n",
       "   'September 20, 2020',\n",
       "   'Wanna Be Myself -- Wanna Be Myself ( Instrumental) -- Dingga',\n",
       "   'Single',\n",
       "   'October 20, 2020',\n",
       "   'Dingga -- Dingga ( Instrumental) -- Travel ~ Japanese Version~',\n",
       "   '1st Japanese Mini Album',\n",
       "   'February 3rd, 2021',\n",
       "   'Travel -- Dingga --AYA Chuck -- Diamond -- Good Night --WANNA BE MYSELFAYA - Japanese ver.- Dingga - Japanese ver.- Just Believe In Love -- Travel',\n",
       "   '10th Mini Album',\n",
       "   'November 3, 2020',\n",
       "   'Travel -- Dingga (딩가딩가) --AYA Chuck (척) -- Diamond -- Good Night (잘자) --WAW',\n",
       "   '11th Mini Album',\n",
       "   'June 2, 2021',\n",
       "   'Where Are We Now -- Another Day (내일의 너, 오늘이 나) --A Memory for Life (애써) -- Destiny Part.2 (우린 결국 다시 만날 운명이었지 Part.2) --I SAY MAMAMOO: THE BEST',\n",
       "   '1st Compilation Album',\n",
       "   'September 15, 2021',\n",
       "   'Digitalmumumumuch (하늘 땅 바다만큼) -- Happier than Ever (분명 우린 그때 좋았었어) – * New -- Paint Me (칠해줘) – Orchestra ver. Starry Night (별이 빛나는 밤) – Orchestra ver.gogobebe(고고베베) – Rock ver. Egotistic (너나 해) – Blistering sun ver. You’re the best 2021 (넌 is 뭔들 2021) --I Miss You 2021 Hee -- Hee -- Ha -- He -- Ho Part.2 (히히하헤호 Part.2) -- Words Don’t Come Easy 2021 (우리끼리 2021) -- Piano Man 2021AHH OOP 2021 Decalcomanie 2021AYA – Traditional ver.HIP – Remix ver.A little bit 2021 (따끔 2021) -- Wind flower – Dramatic ver. Um Oh Ah Yeh 2021 (음오아예 2021) -- Don’t Be Happy 2021 (행복하지마 2021) -- Peppermint Chocolate (썸남썸녀) – MMM ver. Destiny (우린 결국 다시 만날 운명이었지) – Extended ver. Mr. Ambiguous 2021 ( Mr.애매모호 2021) -- Yes I am (나로 말할 것 같으면) – Funk boost ver. Physical',\n",
       "   'CD 1 Paint Me (칠해줘 ) – Orchestra ver. Starry Night (별이 빛나는 밤) – Orchestra ver.gogobebe (고고베베) – Rock ver. Egotistic (너나 해) – Blistering sun ver. You’re the best 2021 (넌 is 뭔들 2021) --I Miss You 2021 Happier than Ever (분명 우린 그때 좋았었어) * New -- Hee -- Hee -- Ha -- He -- Ho (히히하헤호) – Part.2 Words Don’t Come Easy 2021 (우리끼리 2021) -- Piano Man 2021AHH OOP 2021CD 2 Decalcomanie 2021AYA – Traditional ver.HIP – Remix ver.A little bit 2021 (따끔 2021) -- Wind flower – Dramatic ver. Um Oh Ah Yeh 2021 (음오아예 2021) -- Don’t Be Happy 2021 (행복하지마 2021) -- Peppermint Chocolate (썸남썸녀) – MMM ver.mumumumuch (하늘 땅 바다만큼) -- Destiny (우린 결국 다시 만날 운명이었지) – Extended ver. Mr. Ambiguous 2021 ( Mr.애매모호 2021) -- Yes I am (나로 말할 것 같으면) – Funk boost ver.WAW ~ Japanese Version~',\n",
       "   '2nd Japanese Mini Album',\n",
       "   'September 29, 2021',\n",
       "   'Where Are We Now– 3:46 -- Another Day– 4:07 --A Memory for Life– 3:36 -- Destiny Part.2– 3:07 -- Happier than Ever– 3:51mumumumuch– 3:31 -- Where Are We Now - Japanese ver.-mumumumuch - Japanese ver.-– 3:31 -- Strange Day– 3:18 --I SAY MAMAMOO: THE BEST - Japan Edition',\n",
       "   '2nd Japanese Mini Album',\n",
       "   'March 23, 2022',\n",
       "   'Paint Me ( Orchestra ver.) -- Starry Night ( Orchestra ver.) -- Gogobebe ( Rock ver.)” Egotistic ( Blistering sun ver.) -- You’re The Best 2021I Miss You 2021 Happier Than Ever -- Hee -- Hee -- Ha -- He -- Ho Part 2 Words Don’t Come Easy 2021 Piano Man 2021 Ahh Oop 2021 Mic On',\n",
       "   '12th Mini Album',\n",
       "   'October 11, 2022',\n",
       "   '1, 2, 3 Eoi! IllellaL.I.E.C']),\n",
       " ('Artist:', 'GAIN'): ('DISCOGRAPHY:',\n",
       "  ['Step 2/4',\n",
       "   'Release Date: October 8, 2010',\n",
       "   'Mini Album',\n",
       "   '1. Nitchell ( Baby-G Mix)',\n",
       "   '2. Irreversible (돌이킬 수 없는) ( Title Track)',\n",
       "   '3. Tango The Night',\n",
       "   '4. Esperando',\n",
       "   '5. Ga In (가인) (歌人)',\n",
       "   '6. Truth (진실) -- Bad Temper',\n",
       "   'Release Date: December 21, 2010',\n",
       "   'Single',\n",
       "   '1. Bad Temper -- Talk About S',\n",
       "   'Release Date: October 5, 2012',\n",
       "   'Mini Album',\n",
       "   '1. Tinker -- Bell (팅커벨)',\n",
       "   '2. Tiredness (그녀를 만나)',\n",
       "   '3. Bloom (피어나) ( Title Track)',\n",
       "   '4. The Gaze (시선) (feat. Yoon Jong Shin)',\n",
       "   '5. Catch Me If You Can -- Nostalgia',\n",
       "   'Release Date: November 30, 2012',\n",
       "   'Single',\n",
       "   '1. Nostalgia (노스텔지아) (feat Eric of SHINHWA)',\n",
       "   '2. Nostalgia (노스텔지아) ( Inst.) -- Fxxk U',\n",
       "   'Release Date: January 28, 2014',\n",
       "   'Single',\n",
       "   '1. Fxxk U (feat. Bumkey) Truth Or Dare',\n",
       "   'Release Date: February 6, 2014',\n",
       "   'Mini Album',\n",
       "   '1. Truth or Dare (진실 혹은 대담) ( Title Track)',\n",
       "   '2. Fxxk U (feat. Bumkey)',\n",
       "   '3. Q&A (feat. Jo Kwon)',\n",
       "   '4. Black & White',\n",
       "   '5. Disclosure (폭로)',\n",
       "   '6. A Tempo ( Inst.) (CD Only) -- A Tempo',\n",
       "   'Release Date: March 21, 2014',\n",
       "   'Single',\n",
       "   '1. A Tempo -- Hawwah',\n",
       "   'Release Date: March 12, 2015',\n",
       "   'Mini Album',\n",
       "   '1. Apple (feat. Jay Park)',\n",
       "   '2. Free Will (feat. Dok -- 2)',\n",
       "   '3. Paradise Lost ( Title Track)',\n",
       "   '4. The First Temptation',\n",
       "   '5. Two Women (두 여자)',\n",
       "   '6. Guilty -- 12 O’ Clock',\n",
       "   'Release Date: December 22, 2015',\n",
       "   'Single',\n",
       "   '1. Must Have Love (feat. Eric Nam)',\n",
       "   '2. 12 O’ Clock (열두 시가 되면) -- End Again',\n",
       "   'Release Date: January 28, 2014',\n",
       "   'Album',\n",
       "   '1. Carrie ( The First Day)',\n",
       "   '2. Carnival ( The Last Day)( Title Track)',\n",
       "   '3. The Forest of Fireflies (반딧불이의 숲)',\n",
       "   '4. Secret (비밀)',\n",
       "   '5. Begin Again ( Inst.) -- Pray ( Gain, Jeff Bernat)',\n",
       "   'Release Date: January 22, 2017',\n",
       "   'Single',\n",
       "   '1. Pray -- Kill or Kill ( From “ Missing 9”)',\n",
       "   'Release Date: March 2, 2017',\n",
       "   'Single',\n",
       "   '1. Kill or Kill ( From “ Missing 9”)',\n",
       "   '2. Kill or Kill ( From “ Missing 9”) -- Vip Pt.2 ( Original Television Soundtrack)',\n",
       "   'Release Date: November 18, 2019',\n",
       "   'Single',\n",
       "   '1. Set Me Free',\n",
       "   '2. Set Me Free ( Inst.)'])}"
      ]
     },
     "execution_count": 304,
     "metadata": {},
     "output_type": "execute_result"
    }
   ],
   "source": [
    "kpop_dict"
   ]
  },
  {
   "cell_type": "code",
   "execution_count": null,
   "id": "3a30230d",
   "metadata": {},
   "outputs": [],
   "source": []
  }
 ],
 "metadata": {
  "kernelspec": {
   "display_name": "Python 3 (ipykernel)",
   "language": "python",
   "name": "python3"
  },
  "language_info": {
   "codemirror_mode": {
    "name": "ipython",
    "version": 3
   },
   "file_extension": ".py",
   "mimetype": "text/x-python",
   "name": "python",
   "nbconvert_exporter": "python",
   "pygments_lexer": "ipython3",
   "version": "3.11.5"
  }
 },
 "nbformat": 4,
 "nbformat_minor": 5
}
