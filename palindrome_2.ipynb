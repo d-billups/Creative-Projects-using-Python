{
 "cells": [
  {
   "cell_type": "code",
   "execution_count": 38,
   "id": "55d4a6d8-9cea-4d6f-8325-6af5c77c3b3e",
   "metadata": {
    "tags": []
   },
   "outputs": [],
   "source": [
    "#palindrome example\n",
    "\n",
    "c = 'civic'"
   ]
  },
  {
   "cell_type": "code",
   "execution_count": 40,
   "id": "abc71b43-9e61-4da6-9375-71ff5008453e",
   "metadata": {
    "tags": []
   },
   "outputs": [
    {
     "name": "stdout",
     "output_type": "stream",
     "text": [
      "civic is a palindrome\n"
     ]
    }
   ],
   "source": [
    "mid = len(c)//2 #midpoint of the word--all letters before the midpoint should mirror the letters after the midpoint\n",
    "c[mid+1:] #letters after the midpoint\n",
    "c[:mid] #start of the word up until the midpoint\n",
    "\n",
    "#condition checks if the letters (mirrored)before the midpoint are equal to the letters at the end of the word (after the mid)\n",
    "if c[:mid][::-1] == c[mid+1:]:\n",
    "    print(c,'is a palindrome')\n",
    "else:\n",
    "    print(c,'is not a palindrome')"
   ]
  },
  {
   "cell_type": "code",
   "execution_count": 47,
   "id": "bc3d5a41-9f7c-4d07-83c8-e9c967978bc3",
   "metadata": {
    "tags": []
   },
   "outputs": [
    {
     "name": "stdout",
     "output_type": "stream",
     "text": [
      "ci \n",
      " ic\n",
      "\n",
      "\n",
      "ic\n"
     ]
    }
   ],
   "source": [
    "#how this looks\n",
    "print(c[:mid],'\\n',c[mid+1:])\n",
    "print('\\n')\n",
    "\n",
    "'''so you can see that the letters are mirrored--the condition in the previous cell reverses the order of the first part of the \n",
    "word and checks to see if it is equal to the second part. If it is truly a palindrome, it will work.'''"
   ]
  },
  {
   "cell_type": "code",
   "execution_count": 48,
   "id": "cf402b80-d76f-4949-b5a8-f72a4b815163",
   "metadata": {
    "tags": []
   },
   "outputs": [
    {
     "data": {
      "text/plain": [
       "'ic'"
      ]
     },
     "execution_count": 48,
     "metadata": {},
     "output_type": "execute_result"
    }
   ],
   "source": [
    "#when the first part is reversed, it is equal to the letters at the end of the word\n",
    "c[:mid:][::-1]"
   ]
  },
  {
   "cell_type": "code",
   "execution_count": 103,
   "id": "360f3b77-616e-40e7-9310-e0c255edc087",
   "metadata": {
    "tags": []
   },
   "outputs": [],
   "source": [
    "#Create a function to handle other words to check if they are palindromes\n",
    "\n",
    "def is_pal(word):\n",
    "    mid_letter = len(word)//2\n",
    "    \n",
    "    if len(word) < 3:\n",
    "        print('no way is this word a palindrome')\n",
    "    \n",
    "    elif len(word) == 3:\n",
    "        if word[0] == word[-1]:\n",
    "            return True\n",
    "        return False\n",
    "        \n",
    "    elif len(word) == 4:\n",
    "            if word[:mid_letter][::-1] == word[mid_letter:]:\n",
    "                return True\n",
    "            return False\n",
    "    \n",
    "    else:\n",
    "        if len(word) > 4:\n",
    "            if word[:mid_letter][::-1] == word[mid_letter+1:]:\n",
    "                return True\n",
    "            return False   "
   ]
  },
  {
   "cell_type": "code",
   "execution_count": 104,
   "id": "6a00436f-2fe4-4a5d-b0dd-cdc514525844",
   "metadata": {
    "tags": []
   },
   "outputs": [
    {
     "data": {
      "text/plain": [
       "False"
      ]
     },
     "execution_count": 104,
     "metadata": {},
     "output_type": "execute_result"
    }
   ],
   "source": [
    "is_pal('borrow')"
   ]
  },
  {
   "cell_type": "code",
   "execution_count": 105,
   "id": "1844a27f-52c4-4d9d-854a-815e6fbc55a8",
   "metadata": {
    "tags": []
   },
   "outputs": [
    {
     "data": {
      "text/plain": [
       "True"
      ]
     },
     "execution_count": 105,
     "metadata": {},
     "output_type": "execute_result"
    }
   ],
   "source": [
    "is_pal('civic')"
   ]
  },
  {
   "cell_type": "code",
   "execution_count": 106,
   "id": "bf187694-4d2d-45f8-a56e-7e1afb258e32",
   "metadata": {
    "tags": []
   },
   "outputs": [
    {
     "data": {
      "text/plain": [
       "True"
      ]
     },
     "execution_count": 106,
     "metadata": {},
     "output_type": "execute_result"
    }
   ],
   "source": [
    "is_pal('deed')"
   ]
  },
  {
   "cell_type": "code",
   "execution_count": 107,
   "id": "94eef2b1-469c-4c60-8025-d479b078036b",
   "metadata": {
    "tags": []
   },
   "outputs": [
    {
     "data": {
      "text/plain": [
       "True"
      ]
     },
     "execution_count": 107,
     "metadata": {},
     "output_type": "execute_result"
    }
   ],
   "source": [
    "is_pal('kayak')"
   ]
  },
  {
   "cell_type": "code",
   "execution_count": 108,
   "id": "1abe5723-055c-4b93-99ae-f02423a988b6",
   "metadata": {
    "tags": []
   },
   "outputs": [
    {
     "data": {
      "text/plain": [
       "False"
      ]
     },
     "execution_count": 108,
     "metadata": {},
     "output_type": "execute_result"
    }
   ],
   "source": [
    "is_pal('color')"
   ]
  },
  {
   "cell_type": "code",
   "execution_count": 109,
   "id": "46b986fb-bb28-4a1a-b404-9944f53d399b",
   "metadata": {
    "tags": []
   },
   "outputs": [
    {
     "data": {
      "text/plain": [
       "True"
      ]
     },
     "execution_count": 109,
     "metadata": {},
     "output_type": "execute_result"
    }
   ],
   "source": [
    "is_pal('mom')"
   ]
  },
  {
   "cell_type": "code",
   "execution_count": 110,
   "id": "1c955fec-7b1a-4ba1-8f1a-ffe7929cb426",
   "metadata": {
    "tags": []
   },
   "outputs": [
    {
     "data": {
      "text/plain": [
       "True"
      ]
     },
     "execution_count": 110,
     "metadata": {},
     "output_type": "execute_result"
    }
   ],
   "source": [
    "is_pal('racecar')"
   ]
  },
  {
   "cell_type": "code",
   "execution_count": 111,
   "id": "91aa3135-c7dd-4d6d-a0c0-43d242b67426",
   "metadata": {
    "tags": []
   },
   "outputs": [
    {
     "data": {
      "text/plain": [
       "True"
      ]
     },
     "execution_count": 111,
     "metadata": {},
     "output_type": "execute_result"
    }
   ],
   "source": [
    "is_pal('noon')"
   ]
  },
  {
   "cell_type": "code",
   "execution_count": 112,
   "id": "61cc21f4-45fb-4cf4-a5ef-0a0e77513b47",
   "metadata": {
    "tags": []
   },
   "outputs": [
    {
     "data": {
      "text/plain": [
       "True"
      ]
     },
     "execution_count": 112,
     "metadata": {},
     "output_type": "execute_result"
    }
   ],
   "source": [
    "is_pal('dad')"
   ]
  },
  {
   "cell_type": "code",
   "execution_count": 113,
   "id": "53ff7f11-4f70-42c9-b680-1a72431aa4ad",
   "metadata": {
    "tags": []
   },
   "outputs": [
    {
     "name": "stdout",
     "output_type": "stream",
     "text": [
      "no way is this word a palindrome\n"
     ]
    }
   ],
   "source": [
    "is_pal('oh')"
   ]
  },
  {
   "cell_type": "code",
   "execution_count": null,
   "id": "4a74ed27-1f19-4320-848a-1d6cd3e34aed",
   "metadata": {},
   "outputs": [],
   "source": []
  }
 ],
 "metadata": {
  "kernelspec": {
   "display_name": "Python 3 (ipykernel)",
   "language": "python",
   "name": "python3"
  },
  "language_info": {
   "codemirror_mode": {
    "name": "ipython",
    "version": 3
   },
   "file_extension": ".py",
   "mimetype": "text/x-python",
   "name": "python",
   "nbconvert_exporter": "python",
   "pygments_lexer": "ipython3",
   "version": "3.11.5"
  }
 },
 "nbformat": 4,
 "nbformat_minor": 5
}
