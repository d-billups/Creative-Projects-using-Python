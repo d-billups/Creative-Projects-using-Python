{
 "cells": [
  {
   "cell_type": "code",
   "execution_count": 39,
   "id": "dd748509",
   "metadata": {},
   "outputs": [
    {
     "name": "stdout",
     "output_type": "stream",
     "text": [
      "Enter name: james jones\n",
      "Are you clocking in or out?\n",
      "Please enter either in or out\n",
      "in\n",
      "Please press enter to record your time\n",
      "Thank you for your submission James\n",
      "Enter name: maria byrd\n",
      "Are you clocking in or out?\n",
      "Please enter either in or out\n",
      "out\n",
      "No clock in submission found\n",
      "You must clock in before attempting to clock out\n",
      "Enter name: krystal ball\n",
      "Are you clocking in or out?\n",
      "Please enter either in or out\n",
      "in\n",
      "Please press enter to record your time\n",
      "Thank you for your submission Krystal\n",
      "Enter name: jeremy barns\n",
      "Are you clocking in or out?\n",
      "Please enter either in or out\n",
      "out\n",
      "No clock in submission found\n",
      "You must clock in before attempting to clock out\n",
      "Enter name: clara rose\n",
      "Are you clocking in or out?\n",
      "Please enter either in or out\n",
      "in\n",
      "Please press enter to record your time\n",
      "Thank you for your submission Clara\n",
      "Enter name: jerry ray\n",
      "Are you clocking in or out?\n",
      "Please enter either in or out\n",
      "in\n",
      "Please press enter to record your time\n",
      "Thank you for your submission Jerry\n",
      "Enter name: sam jones\n",
      "Are you clocking in or out?\n",
      "Please enter either in or out\n",
      "in\n",
      "Please press enter to record your time\n",
      "Thank you for your submission Sam\n",
      "Enter name: jerry ray\n",
      "Are you clocking in or out?\n",
      "Please enter either in or out\n",
      "out\n",
      "{'James Jones': {'clock in': 'Tue Dec  5 13:31:48 2023', 'clock out': ''}, 'Krystal Ball': {'clock in': 'Tue Dec  5 13:32:24 2023', 'clock out': ''}, 'Clara Rose': {'clock in': 'Tue Dec  5 13:32:39 2023', 'clock out': ''}, 'Jerry Ray': {'clock in': 'Tue Dec  5 13:32:55 2023', 'clock_out': 'Tue Dec  5 13:33:02 2023'}, 'Sam Jones': {'clock in': 'Tue Dec  5 13:32:55 2023', 'clock out': ''}}\n"
     ]
    }
   ],
   "source": [
    "#Basic timesheet program\n",
    "\n",
    "\n",
    "import time,sys\n",
    "timesheet = {}\n",
    "n = 0 \n",
    "\n",
    "while n < 6: #represents how many number of employees\n",
    "    name = input(\"Enter name: \").title()\n",
    "    if name == 'exit'.title():\n",
    "        sys.exit(\"Quit the program\")\n",
    "    elif len(name.split()) != 2:\n",
    "        print('Please enter your full name (first and last)')\n",
    "        continue\n",
    "    else:\n",
    "        first, last = name.split()\n",
    "        in1 = input('Are you clocking in or out?\\nPlease enter either in or out\\n')\n",
    "        if in1 == 'in':\n",
    "            enter = input('Please press enter to record your time')\n",
    "            clock_in = time.ctime()\n",
    "            timesheet[name] = {'clock in':clock_in, 'clock out':''}\n",
    "            print(f'Thank you for your submission {first}')\n",
    "            \n",
    "        else:\n",
    "            if in1 == 'out':\n",
    "                if len(timesheet) == 0 or name not in timesheet:\n",
    "                    print('No clock in submission found\\nYou must clock in before attempting to clock out')\n",
    "                    continue\n",
    "                else:\n",
    "                    clock_out = time.ctime()\n",
    "                    timesheet[name] = {'clock in':clock_in, 'clock_out':clock_out}\n",
    "                       \n",
    "    n= n+1\n",
    "print(timesheet)"
   ]
  },
  {
   "cell_type": "code",
   "execution_count": 40,
   "id": "10740cdb",
   "metadata": {},
   "outputs": [
    {
     "data": {
      "text/plain": [
       "{'James Jones': {'clock in': 'Tue Dec  5 13:31:48 2023', 'clock out': ''},\n",
       " 'Krystal Ball': {'clock in': 'Tue Dec  5 13:32:24 2023', 'clock out': ''},\n",
       " 'Clara Rose': {'clock in': 'Tue Dec  5 13:32:39 2023', 'clock out': ''},\n",
       " 'Jerry Ray': {'clock in': 'Tue Dec  5 13:32:55 2023',\n",
       "  'clock_out': 'Tue Dec  5 13:33:02 2023'},\n",
       " 'Sam Jones': {'clock in': 'Tue Dec  5 13:32:55 2023', 'clock out': ''}}"
      ]
     },
     "execution_count": 40,
     "metadata": {},
     "output_type": "execute_result"
    }
   ],
   "source": [
    "timesheet"
   ]
  },
  {
   "cell_type": "code",
   "execution_count": null,
   "id": "f62e13ae",
   "metadata": {},
   "outputs": [],
   "source": []
  }
 ],
 "metadata": {
  "kernelspec": {
   "display_name": "Python 3 (ipykernel)",
   "language": "python",
   "name": "python3"
  },
  "language_info": {
   "codemirror_mode": {
    "name": "ipython",
    "version": 3
   },
   "file_extension": ".py",
   "mimetype": "text/x-python",
   "name": "python",
   "nbconvert_exporter": "python",
   "pygments_lexer": "ipython3",
   "version": "3.11.5"
  }
 },
 "nbformat": 4,
 "nbformat_minor": 5
}
